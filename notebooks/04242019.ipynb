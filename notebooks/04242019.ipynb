{
 "cells": [
  {
   "cell_type": "markdown",
   "metadata": {},
   "source": [
    "# GERMS-ML\n",
    "\n",
    "## Meeting #5: Groundwater Revisited\n",
    "\n",
    "This week will be more coding focused. We're going to several different classifiers to the MNIST dataset and Jae's dataset.\n"
   ]
  },
  {
   "cell_type": "markdown",
   "metadata": {},
   "source": [
    "### The Groundwater dataset\n",
    "\n",
    "Let's revisit the groundwater data set. We didn't actually make it predictions last time. We'll skip through the preprocessing and move to predictions.\n",
    "\n",
    "#### Preprocessing\n",
    "\n",
    "This time, we'll only read in the 3-month-adjusted dataset:"
   ]
  },
  {
   "cell_type": "code",
   "execution_count": 1,
   "metadata": {},
   "outputs": [],
   "source": [
    "%matplotlib inline\n",
    "import pandas as pd\n",
    "gw = pd.read_excel(\"../data/gw.xlsx\", sheet_name = \"Raw_Sorted_3month\",\n",
    "                  skiprows = [0])"
   ]
  },
  {
   "cell_type": "markdown",
   "metadata": {},
   "source": [
    "Let's drop the non-numeric data for now:"
   ]
  },
  {
   "cell_type": "code",
   "execution_count": 2,
   "metadata": {},
   "outputs": [],
   "source": [
    "gw.drop([\"Internal Wel lID\", \"Date\"], axis = 1,\n",
    "                                   inplace = True)"
   ]
  },
  {
   "cell_type": "markdown",
   "metadata": {},
   "source": [
    "Let's check how much data is missing in each category:"
   ]
  },
  {
   "cell_type": "code",
   "execution_count": 3,
   "metadata": {},
   "outputs": [
    {
     "data": {
      "text/html": [
       "<div>\n",
       "<style scoped>\n",
       "    .dataframe tbody tr th:only-of-type {\n",
       "        vertical-align: middle;\n",
       "    }\n",
       "\n",
       "    .dataframe tbody tr th {\n",
       "        vertical-align: top;\n",
       "    }\n",
       "\n",
       "    .dataframe thead th {\n",
       "        text-align: right;\n",
       "    }\n",
       "</style>\n",
       "<table border=\"1\" class=\"dataframe\">\n",
       "  <thead>\n",
       "    <tr style=\"text-align: right;\">\n",
       "      <th></th>\n",
       "      <th>percent_missing</th>\n",
       "    </tr>\n",
       "  </thead>\n",
       "  <tbody>\n",
       "    <tr>\n",
       "      <th>NO2</th>\n",
       "      <td>22.994652</td>\n",
       "    </tr>\n",
       "    <tr>\n",
       "      <th>Ferrous</th>\n",
       "      <td>16.042781</td>\n",
       "    </tr>\n",
       "    <tr>\n",
       "      <th>tDCE</th>\n",
       "      <td>4.278075</td>\n",
       "    </tr>\n",
       "    <tr>\n",
       "      <th>Chloride</th>\n",
       "      <td>3.208556</td>\n",
       "    </tr>\n",
       "    <tr>\n",
       "      <th>NO3</th>\n",
       "      <td>3.208556</td>\n",
       "    </tr>\n",
       "    <tr>\n",
       "      <th>Redox</th>\n",
       "      <td>2.139037</td>\n",
       "    </tr>\n",
       "    <tr>\n",
       "      <th>DO</th>\n",
       "      <td>0.534759</td>\n",
       "    </tr>\n",
       "    <tr>\n",
       "      <th>pH</th>\n",
       "      <td>0.534759</td>\n",
       "    </tr>\n",
       "    <tr>\n",
       "      <th>Methane</th>\n",
       "      <td>0.000000</td>\n",
       "    </tr>\n",
       "    <tr>\n",
       "      <th>TCE</th>\n",
       "      <td>0.000000</td>\n",
       "    </tr>\n",
       "    <tr>\n",
       "      <th>Dhc16S</th>\n",
       "      <td>0.000000</td>\n",
       "    </tr>\n",
       "    <tr>\n",
       "      <th>DP (3month later)</th>\n",
       "      <td>0.000000</td>\n",
       "    </tr>\n",
       "    <tr>\n",
       "      <th>Ethene</th>\n",
       "      <td>0.000000</td>\n",
       "    </tr>\n",
       "    <tr>\n",
       "      <th>VC</th>\n",
       "      <td>0.000000</td>\n",
       "    </tr>\n",
       "    <tr>\n",
       "      <th>cDCE</th>\n",
       "      <td>0.000000</td>\n",
       "    </tr>\n",
       "    <tr>\n",
       "      <th>Sulfate</th>\n",
       "      <td>0.000000</td>\n",
       "    </tr>\n",
       "    <tr>\n",
       "      <th>TOC</th>\n",
       "      <td>0.000000</td>\n",
       "    </tr>\n",
       "    <tr>\n",
       "      <th>PCE</th>\n",
       "      <td>0.000000</td>\n",
       "    </tr>\n",
       "  </tbody>\n",
       "</table>\n",
       "</div>"
      ],
      "text/plain": [
       "                   percent_missing\n",
       "NO2                      22.994652\n",
       "Ferrous                  16.042781\n",
       "tDCE                      4.278075\n",
       "Chloride                  3.208556\n",
       "NO3                       3.208556\n",
       "Redox                     2.139037\n",
       "DO                        0.534759\n",
       "pH                        0.534759\n",
       "Methane                   0.000000\n",
       "TCE                       0.000000\n",
       "Dhc16S                    0.000000\n",
       "DP (3month later)         0.000000\n",
       "Ethene                    0.000000\n",
       "VC                        0.000000\n",
       "cDCE                      0.000000\n",
       "Sulfate                   0.000000\n",
       "TOC                       0.000000\n",
       "PCE                       0.000000"
      ]
     },
     "execution_count": 3,
     "metadata": {},
     "output_type": "execute_result"
    }
   ],
   "source": [
    "import sys\n",
    "sys.path.insert(0, '../src/')\n",
    "from gml_utils.preprocessing import get_missing_percentage\n",
    "missing_percentage = get_missing_percentage(gw)\n",
    "missing_percentage.sort_values(by = \"percent_missing\", ascending = False)"
   ]
  },
  {
   "cell_type": "markdown",
   "metadata": {},
   "source": [
    "Doesn't look too bad - most of the data is there, and there are enough values in the columns with higher missing percentages for us to impute missing values. \n",
    "\n",
    "Before we do get started with data preprocessing, let's split the data into a testing and training set. First, we separate our data into attributes and target sets. Our target is `DP (3month later)`, and the remaining columns will be our attributes:"
   ]
  },
  {
   "cell_type": "code",
   "execution_count": 4,
   "metadata": {},
   "outputs": [
    {
     "data": {
      "text/plain": [
       "(187,)"
      ]
     },
     "execution_count": 4,
     "metadata": {},
     "output_type": "execute_result"
    }
   ],
   "source": [
    "gw_targets = gw[\"DP (3month later)\"]\n",
    "gw_targets.shape"
   ]
  },
  {
   "cell_type": "code",
   "execution_count": 5,
   "metadata": {},
   "outputs": [],
   "source": [
    "gw_attributes = gw.drop(columns = \"DP (3month later)\")"
   ]
  },
  {
   "cell_type": "markdown",
   "metadata": {},
   "source": [
    "Now we split the data into testing and training sets:"
   ]
  },
  {
   "cell_type": "code",
   "execution_count": 6,
   "metadata": {},
   "outputs": [],
   "source": [
    "from sklearn.model_selection import train_test_split\n",
    "\n",
    "gw_x_train, gw_x_test, gw_y_train, gw_y_test = train_test_split(\n",
    "    gw_attributes, gw_targets, test_size = 0.2, random_state = 489\n",
    ")"
   ]
  },
  {
   "cell_type": "markdown",
   "metadata": {},
   "source": [
    "Last time, before we did any training on the dataset, we did imputation followed by standardization. Let's make a pipeline to do this for us."
   ]
  },
  {
   "cell_type": "code",
   "execution_count": 7,
   "metadata": {},
   "outputs": [],
   "source": [
    "from sklearn.pipeline import Pipeline\n",
    "from sklearn.preprocessing import StandardScaler\n",
    "from sklearn.impute import SimpleImputer\n",
    "\n",
    "gw_pipeline = Pipeline([\n",
    "    ('imputer', SimpleImputer(strategy = \"median\")),\n",
    "    (\"standardization\", StandardScaler())\n",
    "])"
   ]
  },
  {
   "cell_type": "markdown",
   "metadata": {},
   "source": [
    "Now all we need to do is call `fit_transform` on our training data and it will be preprocessed. Let's look at the values before..."
   ]
  },
  {
   "cell_type": "code",
   "execution_count": 8,
   "metadata": {},
   "outputs": [
    {
     "data": {
      "text/html": [
       "<div>\n",
       "<style scoped>\n",
       "    .dataframe tbody tr th:only-of-type {\n",
       "        vertical-align: middle;\n",
       "    }\n",
       "\n",
       "    .dataframe tbody tr th {\n",
       "        vertical-align: top;\n",
       "    }\n",
       "\n",
       "    .dataframe thead th {\n",
       "        text-align: right;\n",
       "    }\n",
       "</style>\n",
       "<table border=\"1\" class=\"dataframe\">\n",
       "  <thead>\n",
       "    <tr style=\"text-align: right;\">\n",
       "      <th></th>\n",
       "      <th>PCE</th>\n",
       "      <th>TCE</th>\n",
       "      <th>cDCE</th>\n",
       "      <th>tDCE</th>\n",
       "      <th>VC</th>\n",
       "      <th>Ethene</th>\n",
       "      <th>Dhc16S</th>\n",
       "      <th>Methane</th>\n",
       "      <th>pH</th>\n",
       "      <th>DO</th>\n",
       "      <th>Redox</th>\n",
       "      <th>NO3</th>\n",
       "      <th>NO2</th>\n",
       "      <th>Ferrous</th>\n",
       "      <th>Sulfate</th>\n",
       "      <th>TOC</th>\n",
       "      <th>Chloride</th>\n",
       "    </tr>\n",
       "  </thead>\n",
       "  <tbody>\n",
       "    <tr>\n",
       "      <th>count</th>\n",
       "      <td>149.000000</td>\n",
       "      <td>149.000000</td>\n",
       "      <td>149.000000</td>\n",
       "      <td>143.000000</td>\n",
       "      <td>149.000000</td>\n",
       "      <td>149.000000</td>\n",
       "      <td>1.490000e+02</td>\n",
       "      <td>149.000000</td>\n",
       "      <td>149.000000</td>\n",
       "      <td>149.000000</td>\n",
       "      <td>147.000000</td>\n",
       "      <td>143.000000</td>\n",
       "      <td>115.000000</td>\n",
       "      <td>126.000000</td>\n",
       "      <td>149.000000</td>\n",
       "      <td>149.000000</td>\n",
       "      <td>143.000000</td>\n",
       "    </tr>\n",
       "    <tr>\n",
       "      <th>mean</th>\n",
       "      <td>1888.068389</td>\n",
       "      <td>304.903785</td>\n",
       "      <td>1207.266577</td>\n",
       "      <td>64.846783</td>\n",
       "      <td>1218.371409</td>\n",
       "      <td>472.142311</td>\n",
       "      <td>1.087982e+06</td>\n",
       "      <td>3484.081101</td>\n",
       "      <td>6.759732</td>\n",
       "      <td>1.926242</td>\n",
       "      <td>-68.503673</td>\n",
       "      <td>2.859741</td>\n",
       "      <td>0.589400</td>\n",
       "      <td>4.794603</td>\n",
       "      <td>46.659430</td>\n",
       "      <td>494.163490</td>\n",
       "      <td>65.279371</td>\n",
       "    </tr>\n",
       "    <tr>\n",
       "      <th>std</th>\n",
       "      <td>12679.776643</td>\n",
       "      <td>1204.025864</td>\n",
       "      <td>4626.077043</td>\n",
       "      <td>262.590985</td>\n",
       "      <td>4263.934981</td>\n",
       "      <td>2097.181516</td>\n",
       "      <td>5.894971e+06</td>\n",
       "      <td>5910.758338</td>\n",
       "      <td>0.563965</td>\n",
       "      <td>4.359515</td>\n",
       "      <td>100.070519</td>\n",
       "      <td>6.866195</td>\n",
       "      <td>1.113918</td>\n",
       "      <td>16.665491</td>\n",
       "      <td>87.338674</td>\n",
       "      <td>1457.250963</td>\n",
       "      <td>81.922656</td>\n",
       "    </tr>\n",
       "    <tr>\n",
       "      <th>min</th>\n",
       "      <td>0.000000</td>\n",
       "      <td>0.250000</td>\n",
       "      <td>0.350000</td>\n",
       "      <td>0.000000</td>\n",
       "      <td>0.340000</td>\n",
       "      <td>0.010000</td>\n",
       "      <td>1.000000e+01</td>\n",
       "      <td>0.013000</td>\n",
       "      <td>5.610000</td>\n",
       "      <td>0.020000</td>\n",
       "      <td>-445.000000</td>\n",
       "      <td>0.040000</td>\n",
       "      <td>0.100000</td>\n",
       "      <td>0.000000</td>\n",
       "      <td>0.000000</td>\n",
       "      <td>0.800000</td>\n",
       "      <td>2.400000</td>\n",
       "    </tr>\n",
       "    <tr>\n",
       "      <th>25%</th>\n",
       "      <td>0.550000</td>\n",
       "      <td>1.000000</td>\n",
       "      <td>14.900000</td>\n",
       "      <td>0.410000</td>\n",
       "      <td>2.200000</td>\n",
       "      <td>0.500000</td>\n",
       "      <td>6.770000e+01</td>\n",
       "      <td>38.000000</td>\n",
       "      <td>6.500000</td>\n",
       "      <td>0.340000</td>\n",
       "      <td>-116.350000</td>\n",
       "      <td>0.500000</td>\n",
       "      <td>0.500000</td>\n",
       "      <td>0.042500</td>\n",
       "      <td>5.000000</td>\n",
       "      <td>6.650000</td>\n",
       "      <td>22.800000</td>\n",
       "    </tr>\n",
       "    <tr>\n",
       "      <th>50%</th>\n",
       "      <td>1.700000</td>\n",
       "      <td>10.000000</td>\n",
       "      <td>110.000000</td>\n",
       "      <td>1.000000</td>\n",
       "      <td>64.600000</td>\n",
       "      <td>4.460000</td>\n",
       "      <td>2.000000e+04</td>\n",
       "      <td>613.000000</td>\n",
       "      <td>6.670000</td>\n",
       "      <td>0.610000</td>\n",
       "      <td>-78.200000</td>\n",
       "      <td>0.500000</td>\n",
       "      <td>0.500000</td>\n",
       "      <td>0.390000</td>\n",
       "      <td>29.000000</td>\n",
       "      <td>14.200000</td>\n",
       "      <td>32.800000</td>\n",
       "    </tr>\n",
       "    <tr>\n",
       "      <th>75%</th>\n",
       "      <td>9.700000</td>\n",
       "      <td>74.000000</td>\n",
       "      <td>800.000000</td>\n",
       "      <td>6.500000</td>\n",
       "      <td>310.000000</td>\n",
       "      <td>99.200000</td>\n",
       "      <td>2.800000e+05</td>\n",
       "      <td>4500.000000</td>\n",
       "      <td>6.860000</td>\n",
       "      <td>1.880000</td>\n",
       "      <td>-25.500000</td>\n",
       "      <td>2.000000</td>\n",
       "      <td>0.500000</td>\n",
       "      <td>1.192500</td>\n",
       "      <td>56.500000</td>\n",
       "      <td>59.300000</td>\n",
       "      <td>72.100000</td>\n",
       "    </tr>\n",
       "    <tr>\n",
       "      <th>max</th>\n",
       "      <td>108700.000000</td>\n",
       "      <td>10000.000000</td>\n",
       "      <td>51000.000000</td>\n",
       "      <td>2100.000000</td>\n",
       "      <td>38000.000000</td>\n",
       "      <td>19200.000000</td>\n",
       "      <td>5.500000e+07</td>\n",
       "      <td>34600.000000</td>\n",
       "      <td>9.160000</td>\n",
       "      <td>47.100000</td>\n",
       "      <td>226.800000</td>\n",
       "      <td>63.900000</td>\n",
       "      <td>12.000000</td>\n",
       "      <td>100.000000</td>\n",
       "      <td>666.000000</td>\n",
       "      <td>8300.000000</td>\n",
       "      <td>460.000000</td>\n",
       "    </tr>\n",
       "  </tbody>\n",
       "</table>\n",
       "</div>"
      ],
      "text/plain": [
       "                 PCE           TCE         cDCE         tDCE             VC  \\\n",
       "count     149.000000    149.000000    149.000000   143.000000    149.000000   \n",
       "mean     1888.068389    304.903785   1207.266577    64.846783   1218.371409   \n",
       "std     12679.776643   1204.025864   4626.077043   262.590985   4263.934981   \n",
       "min         0.000000      0.250000      0.350000     0.000000      0.340000   \n",
       "25%         0.550000      1.000000     14.900000     0.410000      2.200000   \n",
       "50%         1.700000     10.000000    110.000000     1.000000     64.600000   \n",
       "75%         9.700000     74.000000    800.000000     6.500000    310.000000   \n",
       "max    108700.000000  10000.000000  51000.000000  2100.000000  38000.000000   \n",
       "\n",
       "             Ethene        Dhc16S       Methane         pH           DO  \\\n",
       "count    149.000000  1.490000e+02    149.000000  149.000000  149.000000   \n",
       "mean     472.142311  1.087982e+06   3484.081101    6.759732    1.926242   \n",
       "std     2097.181516  5.894971e+06   5910.758338    0.563965    4.359515   \n",
       "min        0.010000  1.000000e+01      0.013000    5.610000    0.020000   \n",
       "25%        0.500000  6.770000e+01     38.000000    6.500000    0.340000   \n",
       "50%        4.460000  2.000000e+04    613.000000    6.670000    0.610000   \n",
       "75%       99.200000  2.800000e+05   4500.000000    6.860000    1.880000   \n",
       "max    19200.000000  5.500000e+07  34600.000000    9.160000   47.100000   \n",
       "\n",
       "            Redox         NO3         NO2     Ferrous     Sulfate  \\\n",
       "count  147.000000  143.000000  115.000000  126.000000  149.000000   \n",
       "mean   -68.503673    2.859741    0.589400    4.794603   46.659430   \n",
       "std    100.070519    6.866195    1.113918   16.665491   87.338674   \n",
       "min   -445.000000    0.040000    0.100000    0.000000    0.000000   \n",
       "25%   -116.350000    0.500000    0.500000    0.042500    5.000000   \n",
       "50%    -78.200000    0.500000    0.500000    0.390000   29.000000   \n",
       "75%    -25.500000    2.000000    0.500000    1.192500   56.500000   \n",
       "max    226.800000   63.900000   12.000000  100.000000  666.000000   \n",
       "\n",
       "               TOC    Chloride  \n",
       "count   149.000000  143.000000  \n",
       "mean    494.163490   65.279371  \n",
       "std    1457.250963   81.922656  \n",
       "min       0.800000    2.400000  \n",
       "25%       6.650000   22.800000  \n",
       "50%      14.200000   32.800000  \n",
       "75%      59.300000   72.100000  \n",
       "max    8300.000000  460.000000  "
      ]
     },
     "execution_count": 8,
     "metadata": {},
     "output_type": "execute_result"
    }
   ],
   "source": [
    "gw_x_train.describe()"
   ]
  },
  {
   "cell_type": "markdown",
   "metadata": {},
   "source": [
    "...and compare them to the values after our preprocessing pipeline:"
   ]
  },
  {
   "cell_type": "code",
   "execution_count": 9,
   "metadata": {},
   "outputs": [],
   "source": [
    "gw_x_train = pd.DataFrame(gw_pipeline.fit_transform(gw_x_train),\n",
    "                          columns = gw_x_train.columns)"
   ]
  },
  {
   "cell_type": "code",
   "execution_count": 10,
   "metadata": {},
   "outputs": [
    {
     "data": {
      "text/html": [
       "<div>\n",
       "<style scoped>\n",
       "    .dataframe tbody tr th:only-of-type {\n",
       "        vertical-align: middle;\n",
       "    }\n",
       "\n",
       "    .dataframe tbody tr th {\n",
       "        vertical-align: top;\n",
       "    }\n",
       "\n",
       "    .dataframe thead th {\n",
       "        text-align: right;\n",
       "    }\n",
       "</style>\n",
       "<table border=\"1\" class=\"dataframe\">\n",
       "  <thead>\n",
       "    <tr style=\"text-align: right;\">\n",
       "      <th></th>\n",
       "      <th>PCE</th>\n",
       "      <th>TCE</th>\n",
       "      <th>cDCE</th>\n",
       "      <th>tDCE</th>\n",
       "      <th>VC</th>\n",
       "      <th>Ethene</th>\n",
       "      <th>Dhc16S</th>\n",
       "      <th>Methane</th>\n",
       "      <th>pH</th>\n",
       "      <th>DO</th>\n",
       "      <th>Redox</th>\n",
       "      <th>NO3</th>\n",
       "      <th>NO2</th>\n",
       "      <th>Ferrous</th>\n",
       "      <th>Sulfate</th>\n",
       "      <th>TOC</th>\n",
       "      <th>Chloride</th>\n",
       "    </tr>\n",
       "  </thead>\n",
       "  <tbody>\n",
       "    <tr>\n",
       "      <th>count</th>\n",
       "      <td>1.490000e+02</td>\n",
       "      <td>1.490000e+02</td>\n",
       "      <td>1.490000e+02</td>\n",
       "      <td>1.490000e+02</td>\n",
       "      <td>1.490000e+02</td>\n",
       "      <td>1.490000e+02</td>\n",
       "      <td>1.490000e+02</td>\n",
       "      <td>1.490000e+02</td>\n",
       "      <td>1.490000e+02</td>\n",
       "      <td>1.490000e+02</td>\n",
       "      <td>1.490000e+02</td>\n",
       "      <td>1.490000e+02</td>\n",
       "      <td>1.490000e+02</td>\n",
       "      <td>1.490000e+02</td>\n",
       "      <td>1.490000e+02</td>\n",
       "      <td>1.490000e+02</td>\n",
       "      <td>1.490000e+02</td>\n",
       "    </tr>\n",
       "    <tr>\n",
       "      <th>mean</th>\n",
       "      <td>1.862790e-18</td>\n",
       "      <td>2.235348e-18</td>\n",
       "      <td>7.078603e-18</td>\n",
       "      <td>7.451161e-18</td>\n",
       "      <td>-1.266697e-17</td>\n",
       "      <td>6.706045e-18</td>\n",
       "      <td>6.501138e-17</td>\n",
       "      <td>-1.918674e-17</td>\n",
       "      <td>1.473467e-15</td>\n",
       "      <td>4.060883e-17</td>\n",
       "      <td>1.918674e-16</td>\n",
       "      <td>5.960929e-18</td>\n",
       "      <td>-9.742393e-17</td>\n",
       "      <td>3.148116e-17</td>\n",
       "      <td>-9.947300e-17</td>\n",
       "      <td>-1.415721e-17</td>\n",
       "      <td>-4.470697e-18</td>\n",
       "    </tr>\n",
       "    <tr>\n",
       "      <th>std</th>\n",
       "      <td>1.003373e+00</td>\n",
       "      <td>1.003373e+00</td>\n",
       "      <td>1.003373e+00</td>\n",
       "      <td>1.003373e+00</td>\n",
       "      <td>1.003373e+00</td>\n",
       "      <td>1.003373e+00</td>\n",
       "      <td>1.003373e+00</td>\n",
       "      <td>1.003373e+00</td>\n",
       "      <td>1.003373e+00</td>\n",
       "      <td>1.003373e+00</td>\n",
       "      <td>1.003373e+00</td>\n",
       "      <td>1.003373e+00</td>\n",
       "      <td>1.003373e+00</td>\n",
       "      <td>1.003373e+00</td>\n",
       "      <td>1.003373e+00</td>\n",
       "      <td>1.003373e+00</td>\n",
       "      <td>1.003373e+00</td>\n",
       "    </tr>\n",
       "    <tr>\n",
       "      <th>min</th>\n",
       "      <td>-1.494061e-01</td>\n",
       "      <td>-2.538827e-01</td>\n",
       "      <td>-2.617741e-01</td>\n",
       "      <td>-2.426433e-01</td>\n",
       "      <td>-2.866224e-01</td>\n",
       "      <td>-2.258863e-01</td>\n",
       "      <td>-1.851817e-01</td>\n",
       "      <td>-5.914332e-01</td>\n",
       "      <td>-2.045533e+00</td>\n",
       "      <td>-4.387347e-01</td>\n",
       "      <td>-3.799213e+00</td>\n",
       "      <td>-4.055242e-01</td>\n",
       "      <td>-4.809930e-01</td>\n",
       "      <td>-2.681085e-01</td>\n",
       "      <td>-5.360374e-01</td>\n",
       "      <td>-3.396995e-01</td>\n",
       "      <td>-7.674406e-01</td>\n",
       "    </tr>\n",
       "    <tr>\n",
       "      <th>25%</th>\n",
       "      <td>-1.493626e-01</td>\n",
       "      <td>-2.532576e-01</td>\n",
       "      <td>-2.586183e-01</td>\n",
       "      <td>-2.410458e-01</td>\n",
       "      <td>-2.861848e-01</td>\n",
       "      <td>-2.256519e-01</td>\n",
       "      <td>-1.851719e-01</td>\n",
       "      <td>-5.849848e-01</td>\n",
       "      <td>-4.620987e-01</td>\n",
       "      <td>-3.650845e-01</td>\n",
       "      <td>-4.811642e-01</td>\n",
       "      <td>-3.370617e-01</td>\n",
       "      <td>-7.076443e-02</td>\n",
       "      <td>-2.641990e-01</td>\n",
       "      <td>-4.785959e-01</td>\n",
       "      <td>-3.356716e-01</td>\n",
       "      <td>-5.106776e-01</td>\n",
       "    </tr>\n",
       "    <tr>\n",
       "      <th>50%</th>\n",
       "      <td>-1.492716e-01</td>\n",
       "      <td>-2.457575e-01</td>\n",
       "      <td>-2.379916e-01</td>\n",
       "      <td>-2.387470e-01</td>\n",
       "      <td>-2.715010e-01</td>\n",
       "      <td>-2.237573e-01</td>\n",
       "      <td>-1.817793e-01</td>\n",
       "      <td>-4.873764e-01</td>\n",
       "      <td>-1.596449e-01</td>\n",
       "      <td>-3.029421e-01</td>\n",
       "      <td>-9.656535e-02</td>\n",
       "      <td>-3.370617e-01</td>\n",
       "      <td>-7.076443e-02</td>\n",
       "      <td>-2.426966e-01</td>\n",
       "      <td>-2.028768e-01</td>\n",
       "      <td>-3.304731e-01</td>\n",
       "      <td>-3.885282e-01</td>\n",
       "    </tr>\n",
       "    <tr>\n",
       "      <th>75%</th>\n",
       "      <td>-1.486385e-01</td>\n",
       "      <td>-1.924232e-01</td>\n",
       "      <td>-8.833406e-02</td>\n",
       "      <td>-2.188761e-01</td>\n",
       "      <td>-2.137544e-01</td>\n",
       "      <td>-1.784300e-01</td>\n",
       "      <td>-1.375251e-01</td>\n",
       "      <td>1.724559e-01</td>\n",
       "      <td>1.783916e-01</td>\n",
       "      <td>-1.064283e-02</td>\n",
       "      <td>4.303654e-01</td>\n",
       "      <td>-1.733469e-01</td>\n",
       "      <td>-7.076443e-02</td>\n",
       "      <td>-2.009950e-01</td>\n",
       "      <td>1.130514e-01</td>\n",
       "      <td>-2.994200e-01</td>\n",
       "      <td>1.000693e-01</td>\n",
       "    </tr>\n",
       "    <tr>\n",
       "      <th>max</th>\n",
       "      <td>8.452213e+00</td>\n",
       "      <td>8.079390e+00</td>\n",
       "      <td>1.079979e+01</td>\n",
       "      <td>7.939527e+00</td>\n",
       "      <td>8.655311e+00</td>\n",
       "      <td>8.960131e+00</td>\n",
       "      <td>9.176270e+00</td>\n",
       "      <td>5.282040e+00</td>\n",
       "      <td>4.270413e+00</td>\n",
       "      <td>1.039705e+01</td>\n",
       "      <td>2.982244e+00</td>\n",
       "      <td>9.098863e+00</td>\n",
       "      <td>1.172331e+01</td>\n",
       "      <td>6.247765e+00</td>\n",
       "      <td>7.115169e+00</td>\n",
       "      <td>5.374615e+00</td>\n",
       "      <td>4.936188e+00</td>\n",
       "    </tr>\n",
       "  </tbody>\n",
       "</table>\n",
       "</div>"
      ],
      "text/plain": [
       "                PCE           TCE         cDCE          tDCE             VC  \\\n",
       "count  1.490000e+02  1.490000e+02  1.490000e+02  1.490000e+02  1.490000e+02   \n",
       "mean   1.862790e-18  2.235348e-18  7.078603e-18  7.451161e-18 -1.266697e-17   \n",
       "std    1.003373e+00  1.003373e+00  1.003373e+00  1.003373e+00  1.003373e+00   \n",
       "min   -1.494061e-01 -2.538827e-01 -2.617741e-01 -2.426433e-01 -2.866224e-01   \n",
       "25%   -1.493626e-01 -2.532576e-01 -2.586183e-01 -2.410458e-01 -2.861848e-01   \n",
       "50%   -1.492716e-01 -2.457575e-01 -2.379916e-01 -2.387470e-01 -2.715010e-01   \n",
       "75%   -1.486385e-01 -1.924232e-01 -8.833406e-02 -2.188761e-01 -2.137544e-01   \n",
       "max    8.452213e+00  8.079390e+00  1.079979e+01  7.939527e+00  8.655311e+00   \n",
       "\n",
       "             Ethene        Dhc16S       Methane           pH             DO  \\\n",
       "count  1.490000e+02  1.490000e+02  1.490000e+02  1.490000e+02  1.490000e+02   \n",
       "mean   6.706045e-18  6.501138e-17 -1.918674e-17  1.473467e-15  4.060883e-17   \n",
       "std    1.003373e+00  1.003373e+00  1.003373e+00  1.003373e+00  1.003373e+00   \n",
       "min   -2.258863e-01 -1.851817e-01 -5.914332e-01 -2.045533e+00 -4.387347e-01   \n",
       "25%   -2.256519e-01 -1.851719e-01 -5.849848e-01 -4.620987e-01 -3.650845e-01   \n",
       "50%   -2.237573e-01 -1.817793e-01 -4.873764e-01 -1.596449e-01 -3.029421e-01   \n",
       "75%   -1.784300e-01 -1.375251e-01  1.724559e-01  1.783916e-01 -1.064283e-02   \n",
       "max    8.960131e+00  9.176270e+00  5.282040e+00  4.270413e+00  1.039705e+01   \n",
       "\n",
       "              Redox           NO3           NO2       Ferrous       Sulfate  \\\n",
       "count  1.490000e+02  1.490000e+02  1.490000e+02  1.490000e+02  1.490000e+02   \n",
       "mean   1.918674e-16  5.960929e-18 -9.742393e-17  3.148116e-17 -9.947300e-17   \n",
       "std    1.003373e+00  1.003373e+00  1.003373e+00  1.003373e+00  1.003373e+00   \n",
       "min   -3.799213e+00 -4.055242e-01 -4.809930e-01 -2.681085e-01 -5.360374e-01   \n",
       "25%   -4.811642e-01 -3.370617e-01 -7.076443e-02 -2.641990e-01 -4.785959e-01   \n",
       "50%   -9.656535e-02 -3.370617e-01 -7.076443e-02 -2.426966e-01 -2.028768e-01   \n",
       "75%    4.303654e-01 -1.733469e-01 -7.076443e-02 -2.009950e-01  1.130514e-01   \n",
       "max    2.982244e+00  9.098863e+00  1.172331e+01  6.247765e+00  7.115169e+00   \n",
       "\n",
       "                TOC      Chloride  \n",
       "count  1.490000e+02  1.490000e+02  \n",
       "mean  -1.415721e-17 -4.470697e-18  \n",
       "std    1.003373e+00  1.003373e+00  \n",
       "min   -3.396995e-01 -7.674406e-01  \n",
       "25%   -3.356716e-01 -5.106776e-01  \n",
       "50%   -3.304731e-01 -3.885282e-01  \n",
       "75%   -2.994200e-01  1.000693e-01  \n",
       "max    5.374615e+00  4.936188e+00  "
      ]
     },
     "execution_count": 10,
     "metadata": {},
     "output_type": "execute_result"
    }
   ],
   "source": [
    "gw_x_train.describe()"
   ]
  },
  {
   "cell_type": "markdown",
   "metadata": {},
   "source": [
    "And we might as well preprocess the testing attributes while we're at it:"
   ]
  },
  {
   "cell_type": "code",
   "execution_count": 11,
   "metadata": {},
   "outputs": [],
   "source": [
    "gw_x_test = pd.DataFrame(gw_pipeline.fit_transform(gw_x_test),\n",
    "                        columns = gw_x_train.columns)"
   ]
  },
  {
   "cell_type": "markdown",
   "metadata": {},
   "source": [
    "We're ready to train some models.\n",
    "\n",
    "#### Q1\n",
    "\n",
    "1. We dropped Well ID and Date as unimportant. What potential problems are there by doing this?\n",
    "\n",
    "#### Random Forest Classifier\n",
    "\n",
    "We're going to skip right to parameter tuning. You can read about Random Forests [here](https://en.wikipedia.org/wiki/Random_forest). In short, a random forest classifier is a collection of resampled decision trees (or a \"bootstrap aggregation\" or \"bagged\"). The idea is that while an individual tree may not be very accurate in terms of predictive powers, a collection of many trees tends to be more accurate when we take the majority vote as the prediction.\n",
    "\n",
    "The parameters we'll be tuning are:\n",
    "\n",
    "* `n_estimators` - the number of trees in the forest\n",
    "* `max_features` - the number of features to consider when looking for the best split\n",
    "\n",
    "You can read more about these hyperparameters (and all the other ones) at the [sklearn documentation](https://scikit-learn.org/stable/modules/generated/sklearn.ensemble.RandomForestClassifier.html)."
   ]
  },
  {
   "cell_type": "code",
   "execution_count": 12,
   "metadata": {},
   "outputs": [
    {
     "name": "stderr",
     "output_type": "stream",
     "text": [
      "/anaconda3/lib/python3.7/site-packages/sklearn/model_selection/_search.py:841: DeprecationWarning: The default of the `iid` parameter will change from True to False in version 0.22 and will be removed in 0.24. This will change numeric results when test-set sizes are unequal.\n",
      "  DeprecationWarning)\n"
     ]
    },
    {
     "data": {
      "text/plain": [
       "GridSearchCV(cv=5, error_score='raise-deprecating',\n",
       "       estimator=RandomForestClassifier(bootstrap=True, class_weight=None, criterion='gini',\n",
       "            max_depth=None, max_features='auto', max_leaf_nodes=None,\n",
       "            min_impurity_decrease=0.0, min_impurity_split=None,\n",
       "            min_samples_leaf=1, min_samples_split=2,\n",
       "            min_weight_fraction_leaf=0.0, n_estimators='warn', n_jobs=None,\n",
       "            oob_score=False, random_state=None, verbose=0,\n",
       "            warm_start=False),\n",
       "       fit_params=None, iid='warn', n_jobs=None,\n",
       "       param_grid=[{'n_estimators': [50, 100, 150, 200], 'max_features': ['sqrt', 'log2']}],\n",
       "       pre_dispatch='2*n_jobs', refit=True, return_train_score='warn',\n",
       "       scoring=None, verbose=0)"
      ]
     },
     "execution_count": 12,
     "metadata": {},
     "output_type": "execute_result"
    }
   ],
   "source": [
    "from sklearn.model_selection import GridSearchCV\n",
    "from sklearn.ensemble import RandomForestClassifier\n",
    "\n",
    "gw_rf = RandomForestClassifier()\n",
    "\n",
    "rf_param_grid = [\n",
    "    {\n",
    "        'n_estimators': [50 * (i + 1) for i in range(4)],\n",
    "        'max_features': ['sqrt', 'log2']\n",
    "    }\n",
    "]\n",
    "\n",
    "rf_grid_search = GridSearchCV(gw_rf, rf_param_grid, cv = 5)\n",
    "rf_grid_search.fit(gw_x_train, gw_y_train)"
   ]
  },
  {
   "cell_type": "markdown",
   "metadata": {},
   "source": [
    "The best score:"
   ]
  },
  {
   "cell_type": "code",
   "execution_count": 13,
   "metadata": {},
   "outputs": [
    {
     "data": {
      "text/plain": [
       "0.785234899328859"
      ]
     },
     "execution_count": 13,
     "metadata": {},
     "output_type": "execute_result"
    }
   ],
   "source": [
    "rf_grid_search.best_score_"
   ]
  },
  {
   "cell_type": "markdown",
   "metadata": {},
   "source": [
    "The best parameters"
   ]
  },
  {
   "cell_type": "code",
   "execution_count": 14,
   "metadata": {},
   "outputs": [
    {
     "data": {
      "text/plain": [
       "{'max_features': 'log2', 'n_estimators': 150}"
      ]
     },
     "execution_count": 14,
     "metadata": {},
     "output_type": "execute_result"
    }
   ],
   "source": [
    "rf_grid_search.best_params_"
   ]
  },
  {
   "cell_type": "markdown",
   "metadata": {},
   "source": [
    "Let's see the performance on the test set:"
   ]
  },
  {
   "cell_type": "code",
   "execution_count": 15,
   "metadata": {},
   "outputs": [],
   "source": [
    "gw_rf = rf_grid_search.best_estimator_"
   ]
  },
  {
   "cell_type": "code",
   "execution_count": 16,
   "metadata": {},
   "outputs": [
    {
     "data": {
      "image/png": "[encoded data removed]",
      "text/plain": [
       "<Figure size 576x432 with 2 Axes>"
      ]
     },
     "metadata": {
      "needs_background": "light"
     },
     "output_type": "display_data"
    }
   ],
   "source": [
    "from gml_utils.visualization import get_confusion_matrix\n",
    "get_confusion_matrix(gw_rf, gw_x_test, gw_y_test)"
   ]
  },
  {
   "cell_type": "markdown",
   "metadata": {},
   "source": [
    "Yucky.\n",
    "\n",
    "#### Q4.\n",
    "\n",
    "1. Tune the random forest.\n",
    "\n",
    "#### Neural networks\n",
    "\n",
    "We're going to go ahead and try to use a neural network classifier on this dataset. You can read about the various paramaters for a neural network classifier [here](https://scikit-learn.org/stable/modules/generated/sklearn.neural_network.MLPClassifier.html#sklearn.neural_network.MLPClassifier). We're going to start off by tuning the activation function, the hidden layer sizes, and the algorithm used for backpropagation.\n",
    "\n",
    "Let's create an empty neural network model and the set of parameters we want to check out:"
   ]
  },
  {
   "cell_type": "code",
   "execution_count": 17,
   "metadata": {},
   "outputs": [],
   "source": [
    "from sklearn.neural_network import MLPClassifier\n",
    "\n",
    "gw_nn = MLPClassifier()\n",
    "\n",
    "nn_params = [\n",
    "    {\n",
    "        'activation': ['relu', 'logistic'],\n",
    "        'hidden_layer_sizes': [(10), (10, 10), (10, 10, 10), (10, 10, 10, 10)],\n",
    "        'solver': ['adam', 'lbfgs']\n",
    "    }\n",
    "]"
   ]
  },
  {
   "cell_type": "markdown",
   "metadata": {},
   "source": [
    "And now we're ready to do our grid search:"
   ]
  },
  {
   "cell_type": "code",
   "execution_count": 18,
   "metadata": {},
   "outputs": [
    {
     "name": "stderr",
     "output_type": "stream",
     "text": [
      "/anaconda3/lib/python3.7/site-packages/sklearn/neural_network/multilayer_perceptron.py:562: ConvergenceWarning: Stochastic Optimizer: Maximum iterations (200) reached and the optimization hasn't converged yet.\n",
      "  % self.max_iter, ConvergenceWarning)\n",
      "/anaconda3/lib/python3.7/site-packages/sklearn/neural_network/multilayer_perceptron.py:562: ConvergenceWarning: Stochastic Optimizer: Maximum iterations (200) reached and the optimization hasn't converged yet.\n",
      "  % self.max_iter, ConvergenceWarning)\n",
      "/anaconda3/lib/python3.7/site-packages/sklearn/neural_network/multilayer_perceptron.py:562: ConvergenceWarning: Stochastic Optimizer: Maximum iterations (200) reached and the optimization hasn't converged yet.\n",
      "  % self.max_iter, ConvergenceWarning)\n",
      "/anaconda3/lib/python3.7/site-packages/sklearn/neural_network/multilayer_perceptron.py:562: ConvergenceWarning: Stochastic Optimizer: Maximum iterations (200) reached and the optimization hasn't converged yet.\n",
      "  % self.max_iter, ConvergenceWarning)\n",
      "/anaconda3/lib/python3.7/site-packages/sklearn/neural_network/multilayer_perceptron.py:562: ConvergenceWarning: Stochastic Optimizer: Maximum iterations (200) reached and the optimization hasn't converged yet.\n",
      "  % self.max_iter, ConvergenceWarning)\n",
      "/anaconda3/lib/python3.7/site-packages/sklearn/neural_network/multilayer_perceptron.py:562: ConvergenceWarning: Stochastic Optimizer: Maximum iterations (200) reached and the optimization hasn't converged yet.\n",
      "  % self.max_iter, ConvergenceWarning)\n",
      "/anaconda3/lib/python3.7/site-packages/sklearn/neural_network/multilayer_perceptron.py:562: ConvergenceWarning: Stochastic Optimizer: Maximum iterations (200) reached and the optimization hasn't converged yet.\n",
      "  % self.max_iter, ConvergenceWarning)\n",
      "/anaconda3/lib/python3.7/site-packages/sklearn/neural_network/multilayer_perceptron.py:562: ConvergenceWarning: Stochastic Optimizer: Maximum iterations (200) reached and the optimization hasn't converged yet.\n",
      "  % self.max_iter, ConvergenceWarning)\n",
      "/anaconda3/lib/python3.7/site-packages/sklearn/neural_network/multilayer_perceptron.py:562: ConvergenceWarning: Stochastic Optimizer: Maximum iterations (200) reached and the optimization hasn't converged yet.\n",
      "  % self.max_iter, ConvergenceWarning)\n",
      "/anaconda3/lib/python3.7/site-packages/sklearn/neural_network/multilayer_perceptron.py:562: ConvergenceWarning: Stochastic Optimizer: Maximum iterations (200) reached and the optimization hasn't converged yet.\n",
      "  % self.max_iter, ConvergenceWarning)\n",
      "/anaconda3/lib/python3.7/site-packages/sklearn/neural_network/multilayer_perceptron.py:562: ConvergenceWarning: Stochastic Optimizer: Maximum iterations (200) reached and the optimization hasn't converged yet.\n",
      "  % self.max_iter, ConvergenceWarning)\n",
      "/anaconda3/lib/python3.7/site-packages/sklearn/neural_network/multilayer_perceptron.py:562: ConvergenceWarning: Stochastic Optimizer: Maximum iterations (200) reached and the optimization hasn't converged yet.\n",
      "  % self.max_iter, ConvergenceWarning)\n",
      "/anaconda3/lib/python3.7/site-packages/sklearn/neural_network/multilayer_perceptron.py:562: ConvergenceWarning: Stochastic Optimizer: Maximum iterations (200) reached and the optimization hasn't converged yet.\n",
      "  % self.max_iter, ConvergenceWarning)\n",
      "/anaconda3/lib/python3.7/site-packages/sklearn/neural_network/multilayer_perceptron.py:562: ConvergenceWarning: Stochastic Optimizer: Maximum iterations (200) reached and the optimization hasn't converged yet.\n",
      "  % self.max_iter, ConvergenceWarning)\n",
      "/anaconda3/lib/python3.7/site-packages/sklearn/neural_network/multilayer_perceptron.py:562: ConvergenceWarning: Stochastic Optimizer: Maximum iterations (200) reached and the optimization hasn't converged yet.\n",
      "  % self.max_iter, ConvergenceWarning)\n",
      "/anaconda3/lib/python3.7/site-packages/sklearn/neural_network/multilayer_perceptron.py:562: ConvergenceWarning: Stochastic Optimizer: Maximum iterations (200) reached and the optimization hasn't converged yet.\n",
      "  % self.max_iter, ConvergenceWarning)\n",
      "/anaconda3/lib/python3.7/site-packages/sklearn/neural_network/multilayer_perceptron.py:562: ConvergenceWarning: Stochastic Optimizer: Maximum iterations (200) reached and the optimization hasn't converged yet.\n",
      "  % self.max_iter, ConvergenceWarning)\n",
      "/anaconda3/lib/python3.7/site-packages/sklearn/neural_network/multilayer_perceptron.py:562: ConvergenceWarning: Stochastic Optimizer: Maximum iterations (200) reached and the optimization hasn't converged yet.\n",
      "  % self.max_iter, ConvergenceWarning)\n",
      "/anaconda3/lib/python3.7/site-packages/sklearn/neural_network/multilayer_perceptron.py:562: ConvergenceWarning: Stochastic Optimizer: Maximum iterations (200) reached and the optimization hasn't converged yet.\n",
      "  % self.max_iter, ConvergenceWarning)\n",
      "/anaconda3/lib/python3.7/site-packages/sklearn/neural_network/multilayer_perceptron.py:562: ConvergenceWarning: Stochastic Optimizer: Maximum iterations (200) reached and the optimization hasn't converged yet.\n",
      "  % self.max_iter, ConvergenceWarning)\n",
      "/anaconda3/lib/python3.7/site-packages/sklearn/neural_network/multilayer_perceptron.py:562: ConvergenceWarning: Stochastic Optimizer: Maximum iterations (200) reached and the optimization hasn't converged yet.\n",
      "  % self.max_iter, ConvergenceWarning)\n",
      "/anaconda3/lib/python3.7/site-packages/sklearn/neural_network/multilayer_perceptron.py:562: ConvergenceWarning: Stochastic Optimizer: Maximum iterations (200) reached and the optimization hasn't converged yet.\n",
      "  % self.max_iter, ConvergenceWarning)\n",
      "/anaconda3/lib/python3.7/site-packages/sklearn/neural_network/multilayer_perceptron.py:562: ConvergenceWarning: Stochastic Optimizer: Maximum iterations (200) reached and the optimization hasn't converged yet.\n",
      "  % self.max_iter, ConvergenceWarning)\n",
      "/anaconda3/lib/python3.7/site-packages/sklearn/neural_network/multilayer_perceptron.py:562: ConvergenceWarning: Stochastic Optimizer: Maximum iterations (200) reached and the optimization hasn't converged yet.\n",
      "  % self.max_iter, ConvergenceWarning)\n",
      "/anaconda3/lib/python3.7/site-packages/sklearn/neural_network/multilayer_perceptron.py:562: ConvergenceWarning: Stochastic Optimizer: Maximum iterations (200) reached and the optimization hasn't converged yet.\n",
      "  % self.max_iter, ConvergenceWarning)\n",
      "/anaconda3/lib/python3.7/site-packages/sklearn/neural_network/multilayer_perceptron.py:562: ConvergenceWarning: Stochastic Optimizer: Maximum iterations (200) reached and the optimization hasn't converged yet.\n",
      "  % self.max_iter, ConvergenceWarning)\n",
      "/anaconda3/lib/python3.7/site-packages/sklearn/neural_network/multilayer_perceptron.py:562: ConvergenceWarning: Stochastic Optimizer: Maximum iterations (200) reached and the optimization hasn't converged yet.\n",
      "  % self.max_iter, ConvergenceWarning)\n",
      "/anaconda3/lib/python3.7/site-packages/sklearn/neural_network/multilayer_perceptron.py:562: ConvergenceWarning: Stochastic Optimizer: Maximum iterations (200) reached and the optimization hasn't converged yet.\n",
      "  % self.max_iter, ConvergenceWarning)\n",
      "/anaconda3/lib/python3.7/site-packages/sklearn/neural_network/multilayer_perceptron.py:562: ConvergenceWarning: Stochastic Optimizer: Maximum iterations (200) reached and the optimization hasn't converged yet.\n",
      "  % self.max_iter, ConvergenceWarning)\n",
      "/anaconda3/lib/python3.7/site-packages/sklearn/neural_network/multilayer_perceptron.py:562: ConvergenceWarning: Stochastic Optimizer: Maximum iterations (200) reached and the optimization hasn't converged yet.\n",
      "  % self.max_iter, ConvergenceWarning)\n",
      "/anaconda3/lib/python3.7/site-packages/sklearn/neural_network/multilayer_perceptron.py:562: ConvergenceWarning: Stochastic Optimizer: Maximum iterations (200) reached and the optimization hasn't converged yet.\n",
      "  % self.max_iter, ConvergenceWarning)\n",
      "/anaconda3/lib/python3.7/site-packages/sklearn/neural_network/multilayer_perceptron.py:562: ConvergenceWarning: Stochastic Optimizer: Maximum iterations (200) reached and the optimization hasn't converged yet.\n",
      "  % self.max_iter, ConvergenceWarning)\n",
      "/anaconda3/lib/python3.7/site-packages/sklearn/neural_network/multilayer_perceptron.py:562: ConvergenceWarning: Stochastic Optimizer: Maximum iterations (200) reached and the optimization hasn't converged yet.\n",
      "  % self.max_iter, ConvergenceWarning)\n",
      "/anaconda3/lib/python3.7/site-packages/sklearn/neural_network/multilayer_perceptron.py:562: ConvergenceWarning: Stochastic Optimizer: Maximum iterations (200) reached and the optimization hasn't converged yet.\n",
      "  % self.max_iter, ConvergenceWarning)\n"
     ]
    },
    {
     "name": "stderr",
     "output_type": "stream",
     "text": [
      "/anaconda3/lib/python3.7/site-packages/sklearn/neural_network/multilayer_perceptron.py:562: ConvergenceWarning: Stochastic Optimizer: Maximum iterations (200) reached and the optimization hasn't converged yet.\n",
      "  % self.max_iter, ConvergenceWarning)\n",
      "/anaconda3/lib/python3.7/site-packages/sklearn/neural_network/multilayer_perceptron.py:562: ConvergenceWarning: Stochastic Optimizer: Maximum iterations (200) reached and the optimization hasn't converged yet.\n",
      "  % self.max_iter, ConvergenceWarning)\n",
      "/anaconda3/lib/python3.7/site-packages/sklearn/neural_network/multilayer_perceptron.py:562: ConvergenceWarning: Stochastic Optimizer: Maximum iterations (200) reached and the optimization hasn't converged yet.\n",
      "  % self.max_iter, ConvergenceWarning)\n",
      "/anaconda3/lib/python3.7/site-packages/sklearn/neural_network/multilayer_perceptron.py:562: ConvergenceWarning: Stochastic Optimizer: Maximum iterations (200) reached and the optimization hasn't converged yet.\n",
      "  % self.max_iter, ConvergenceWarning)\n",
      "/anaconda3/lib/python3.7/site-packages/sklearn/neural_network/multilayer_perceptron.py:562: ConvergenceWarning: Stochastic Optimizer: Maximum iterations (200) reached and the optimization hasn't converged yet.\n",
      "  % self.max_iter, ConvergenceWarning)\n",
      "/anaconda3/lib/python3.7/site-packages/sklearn/neural_network/multilayer_perceptron.py:562: ConvergenceWarning: Stochastic Optimizer: Maximum iterations (200) reached and the optimization hasn't converged yet.\n",
      "  % self.max_iter, ConvergenceWarning)\n",
      "/anaconda3/lib/python3.7/site-packages/sklearn/neural_network/multilayer_perceptron.py:562: ConvergenceWarning: Stochastic Optimizer: Maximum iterations (200) reached and the optimization hasn't converged yet.\n",
      "  % self.max_iter, ConvergenceWarning)\n",
      "/anaconda3/lib/python3.7/site-packages/sklearn/neural_network/multilayer_perceptron.py:562: ConvergenceWarning: Stochastic Optimizer: Maximum iterations (200) reached and the optimization hasn't converged yet.\n",
      "  % self.max_iter, ConvergenceWarning)\n",
      "/anaconda3/lib/python3.7/site-packages/sklearn/neural_network/multilayer_perceptron.py:562: ConvergenceWarning: Stochastic Optimizer: Maximum iterations (200) reached and the optimization hasn't converged yet.\n",
      "  % self.max_iter, ConvergenceWarning)\n",
      "/anaconda3/lib/python3.7/site-packages/sklearn/neural_network/multilayer_perceptron.py:562: ConvergenceWarning: Stochastic Optimizer: Maximum iterations (200) reached and the optimization hasn't converged yet.\n",
      "  % self.max_iter, ConvergenceWarning)\n",
      "/anaconda3/lib/python3.7/site-packages/sklearn/neural_network/multilayer_perceptron.py:562: ConvergenceWarning: Stochastic Optimizer: Maximum iterations (200) reached and the optimization hasn't converged yet.\n",
      "  % self.max_iter, ConvergenceWarning)\n",
      "/anaconda3/lib/python3.7/site-packages/sklearn/neural_network/multilayer_perceptron.py:562: ConvergenceWarning: Stochastic Optimizer: Maximum iterations (200) reached and the optimization hasn't converged yet.\n",
      "  % self.max_iter, ConvergenceWarning)\n",
      "/anaconda3/lib/python3.7/site-packages/sklearn/neural_network/multilayer_perceptron.py:562: ConvergenceWarning: Stochastic Optimizer: Maximum iterations (200) reached and the optimization hasn't converged yet.\n",
      "  % self.max_iter, ConvergenceWarning)\n",
      "/anaconda3/lib/python3.7/site-packages/sklearn/neural_network/multilayer_perceptron.py:562: ConvergenceWarning: Stochastic Optimizer: Maximum iterations (200) reached and the optimization hasn't converged yet.\n",
      "  % self.max_iter, ConvergenceWarning)\n",
      "/anaconda3/lib/python3.7/site-packages/sklearn/neural_network/multilayer_perceptron.py:562: ConvergenceWarning: Stochastic Optimizer: Maximum iterations (200) reached and the optimization hasn't converged yet.\n",
      "  % self.max_iter, ConvergenceWarning)\n",
      "/anaconda3/lib/python3.7/site-packages/sklearn/neural_network/multilayer_perceptron.py:562: ConvergenceWarning: Stochastic Optimizer: Maximum iterations (200) reached and the optimization hasn't converged yet.\n",
      "  % self.max_iter, ConvergenceWarning)\n",
      "/anaconda3/lib/python3.7/site-packages/sklearn/neural_network/multilayer_perceptron.py:562: ConvergenceWarning: Stochastic Optimizer: Maximum iterations (200) reached and the optimization hasn't converged yet.\n",
      "  % self.max_iter, ConvergenceWarning)\n",
      "/anaconda3/lib/python3.7/site-packages/sklearn/neural_network/multilayer_perceptron.py:562: ConvergenceWarning: Stochastic Optimizer: Maximum iterations (200) reached and the optimization hasn't converged yet.\n",
      "  % self.max_iter, ConvergenceWarning)\n",
      "/anaconda3/lib/python3.7/site-packages/sklearn/neural_network/multilayer_perceptron.py:562: ConvergenceWarning: Stochastic Optimizer: Maximum iterations (200) reached and the optimization hasn't converged yet.\n",
      "  % self.max_iter, ConvergenceWarning)\n",
      "/anaconda3/lib/python3.7/site-packages/sklearn/neural_network/multilayer_perceptron.py:562: ConvergenceWarning: Stochastic Optimizer: Maximum iterations (200) reached and the optimization hasn't converged yet.\n",
      "  % self.max_iter, ConvergenceWarning)\n",
      "/anaconda3/lib/python3.7/site-packages/sklearn/neural_network/multilayer_perceptron.py:562: ConvergenceWarning: Stochastic Optimizer: Maximum iterations (200) reached and the optimization hasn't converged yet.\n",
      "  % self.max_iter, ConvergenceWarning)\n",
      "/anaconda3/lib/python3.7/site-packages/sklearn/neural_network/multilayer_perceptron.py:562: ConvergenceWarning: Stochastic Optimizer: Maximum iterations (200) reached and the optimization hasn't converged yet.\n",
      "  % self.max_iter, ConvergenceWarning)\n",
      "/anaconda3/lib/python3.7/site-packages/sklearn/neural_network/multilayer_perceptron.py:562: ConvergenceWarning: Stochastic Optimizer: Maximum iterations (200) reached and the optimization hasn't converged yet.\n",
      "  % self.max_iter, ConvergenceWarning)\n",
      "/anaconda3/lib/python3.7/site-packages/sklearn/neural_network/multilayer_perceptron.py:562: ConvergenceWarning: Stochastic Optimizer: Maximum iterations (200) reached and the optimization hasn't converged yet.\n",
      "  % self.max_iter, ConvergenceWarning)\n",
      "/anaconda3/lib/python3.7/site-packages/sklearn/neural_network/multilayer_perceptron.py:562: ConvergenceWarning: Stochastic Optimizer: Maximum iterations (200) reached and the optimization hasn't converged yet.\n",
      "  % self.max_iter, ConvergenceWarning)\n",
      "/anaconda3/lib/python3.7/site-packages/sklearn/neural_network/multilayer_perceptron.py:562: ConvergenceWarning: Stochastic Optimizer: Maximum iterations (200) reached and the optimization hasn't converged yet.\n",
      "  % self.max_iter, ConvergenceWarning)\n",
      "/anaconda3/lib/python3.7/site-packages/sklearn/neural_network/multilayer_perceptron.py:562: ConvergenceWarning: Stochastic Optimizer: Maximum iterations (200) reached and the optimization hasn't converged yet.\n",
      "  % self.max_iter, ConvergenceWarning)\n",
      "/anaconda3/lib/python3.7/site-packages/sklearn/model_selection/_search.py:841: DeprecationWarning: The default of the `iid` parameter will change from True to False in version 0.22 and will be removed in 0.24. This will change numeric results when test-set sizes are unequal.\n",
      "  DeprecationWarning)\n",
      "/anaconda3/lib/python3.7/site-packages/sklearn/neural_network/multilayer_perceptron.py:562: ConvergenceWarning: Stochastic Optimizer: Maximum iterations (200) reached and the optimization hasn't converged yet.\n",
      "  % self.max_iter, ConvergenceWarning)\n"
     ]
    },
    {
     "data": {
      "text/plain": [
       "GridSearchCV(cv=10, error_score='raise-deprecating',\n",
       "       estimator=MLPClassifier(activation='relu', alpha=0.0001, batch_size='auto', beta_1=0.9,\n",
       "       beta_2=0.999, early_stopping=False, epsilon=1e-08,\n",
       "       hidden_layer_sizes=(100,), learning_rate='constant',\n",
       "       learning_rate_init=0.001, max_iter=200, momentum=0.9,\n",
       "       n_iter_no_change=10, nesterovs_momentum=True, power_t=0.5,\n",
       "       random_state=None, shuffle=True, solver='adam', tol=0.0001,\n",
       "       validation_fraction=0.1, verbose=False, warm_start=False),\n",
       "       fit_params=None, iid='warn', n_jobs=None,\n",
       "       param_grid=[{'activation': ['relu', 'logistic'], 'hidden_layer_sizes': [10, (10, 10), (10, 10, 10), (10, 10, 10, 10)], 'solver': ['adam', 'lbfgs']}],\n",
       "       pre_dispatch='2*n_jobs', refit=True, return_train_score='warn',\n",
       "       scoring=None, verbose=0)"
      ]
     },
     "execution_count": 18,
     "metadata": {},
     "output_type": "execute_result"
    }
   ],
   "source": [
    "nn_grid_search = GridSearchCV(gw_nn, nn_params, cv = 10)\n",
    "nn_grid_search.fit(gw_x_train, gw_y_train)"
   ]
  },
  {
   "cell_type": "markdown",
   "metadata": {},
   "source": [
    "Our best performance was:"
   ]
  },
  {
   "cell_type": "code",
   "execution_count": 19,
   "metadata": {},
   "outputs": [
    {
     "data": {
      "text/plain": [
       "0.6241610738255033"
      ]
     },
     "execution_count": 19,
     "metadata": {},
     "output_type": "execute_result"
    }
   ],
   "source": [
    "nn_grid_search.best_score_"
   ]
  },
  {
   "cell_type": "markdown",
   "metadata": {},
   "source": [
    "And the parameters that gave that best score were:"
   ]
  },
  {
   "cell_type": "code",
   "execution_count": 20,
   "metadata": {},
   "outputs": [
    {
     "data": {
      "text/plain": [
       "{'activation': 'relu', 'hidden_layer_sizes': (10, 10), 'solver': 'adam'}"
      ]
     },
     "execution_count": 20,
     "metadata": {},
     "output_type": "execute_result"
    }
   ],
   "source": [
    "nn_grid_search.best_params_"
   ]
  },
  {
   "cell_type": "markdown",
   "metadata": {},
   "source": [
    "However, that's not the whole story."
   ]
  },
  {
   "cell_type": "markdown",
   "metadata": {},
   "source": [
    "#### Q3\n",
    "\n",
    "* You should have some errors. What were they? What do they mean? How can we fix them?\n",
    "\n",
    "There weren't enough iterations to actually reach a convergent solution. A first idea is to increase the number of maximum iterations to see if the model will converge. When we call the `MLPClassifier`, we can set the `max_iter` value to some number that will be shared by all the models we discover during our grid search:"
   ]
  },
  {
   "cell_type": "code",
   "execution_count": 21,
   "metadata": {},
   "outputs": [],
   "source": [
    "gw_nn = MLPClassifier(max_iter = 5000)"
   ]
  },
  {
   "cell_type": "markdown",
   "metadata": {},
   "source": [
    "And going back into our gridsearch:"
   ]
  },
  {
   "cell_type": "code",
   "execution_count": 22,
   "metadata": {},
   "outputs": [
    {
     "name": "stderr",
     "output_type": "stream",
     "text": [
      "/anaconda3/lib/python3.7/site-packages/sklearn/model_selection/_search.py:841: DeprecationWarning: The default of the `iid` parameter will change from True to False in version 0.22 and will be removed in 0.24. This will change numeric results when test-set sizes are unequal.\n",
      "  DeprecationWarning)\n"
     ]
    },
    {
     "data": {
      "text/plain": [
       "GridSearchCV(cv=10, error_score='raise-deprecating',\n",
       "       estimator=MLPClassifier(activation='relu', alpha=0.0001, batch_size='auto', beta_1=0.9,\n",
       "       beta_2=0.999, early_stopping=False, epsilon=1e-08,\n",
       "       hidden_layer_sizes=(100,), learning_rate='constant',\n",
       "       learning_rate_init=0.001, max_iter=5000, momentum=0.9,\n",
       "       n_iter_no_change=10, nesterovs_momentum=True, power_t=0.5,\n",
       "       random_state=None, shuffle=True, solver='adam', tol=0.0001,\n",
       "       validation_fraction=0.1, verbose=False, warm_start=False),\n",
       "       fit_params=None, iid='warn', n_jobs=None,\n",
       "       param_grid=[{'activation': ['relu', 'logistic'], 'hidden_layer_sizes': [10, (10, 10), (10, 10, 10), (10, 10, 10, 10)], 'solver': ['adam', 'lbfgs']}],\n",
       "       pre_dispatch='2*n_jobs', refit=True, return_train_score='warn',\n",
       "       scoring=None, verbose=0)"
      ]
     },
     "execution_count": 22,
     "metadata": {},
     "output_type": "execute_result"
    }
   ],
   "source": [
    "nn_grid_search = GridSearchCV(gw_nn, nn_params, cv = 10)\n",
    "nn_grid_search.fit(gw_x_train, gw_y_train)"
   ]
  },
  {
   "cell_type": "markdown",
   "metadata": {},
   "source": [
    "The best score:"
   ]
  },
  {
   "cell_type": "code",
   "execution_count": 23,
   "metadata": {},
   "outputs": [
    {
     "data": {
      "text/plain": [
       "0.6577181208053692"
      ]
     },
     "execution_count": 23,
     "metadata": {},
     "output_type": "execute_result"
    }
   ],
   "source": [
    "nn_grid_search.best_score_"
   ]
  },
  {
   "cell_type": "markdown",
   "metadata": {},
   "source": [
    "The best parameters:"
   ]
  },
  {
   "cell_type": "code",
   "execution_count": 24,
   "metadata": {},
   "outputs": [
    {
     "data": {
      "text/plain": [
       "{'activation': 'logistic', 'hidden_layer_sizes': 10, 'solver': 'adam'}"
      ]
     },
     "execution_count": 24,
     "metadata": {},
     "output_type": "execute_result"
    }
   ],
   "source": [
    "nn_grid_search.best_params_"
   ]
  },
  {
   "cell_type": "markdown",
   "metadata": {},
   "source": [
    "The performance is still very bad. What else can we try?\n",
    "\n",
    "The number of iterations we're using is enough for the models to converge, so we're fairly confident that a good number of hidden layers is 1. Let's see if we can get a good improvement in performance by varying the size of a single layer. We're going to drop the `solver` and `activation` parameters for now, since they have less of an impact on model performance than the architecture of the model itself:"
   ]
  },
  {
   "cell_type": "code",
   "execution_count": 25,
   "metadata": {},
   "outputs": [],
   "source": [
    "nn_params = [\n",
    "    {\n",
    "        'hidden_layer_sizes': [tuple([10 * (i + 1)]) for i in range(20)],\n",
    "    }\n",
    "]"
   ]
  },
  {
   "cell_type": "code",
   "execution_count": 26,
   "metadata": {},
   "outputs": [
    {
     "name": "stderr",
     "output_type": "stream",
     "text": [
      "/anaconda3/lib/python3.7/site-packages/sklearn/model_selection/_search.py:841: DeprecationWarning: The default of the `iid` parameter will change from True to False in version 0.22 and will be removed in 0.24. This will change numeric results when test-set sizes are unequal.\n",
      "  DeprecationWarning)\n"
     ]
    },
    {
     "data": {
      "text/plain": [
       "GridSearchCV(cv=10, error_score='raise-deprecating',\n",
       "       estimator=MLPClassifier(activation='relu', alpha=0.0001, batch_size='auto', beta_1=0.9,\n",
       "       beta_2=0.999, early_stopping=False, epsilon=1e-08,\n",
       "       hidden_layer_sizes=(100,), learning_rate='constant',\n",
       "       learning_rate_init=0.001, max_iter=5000, momentum=0.9,\n",
       "       n_iter_no_change=10, nesterovs_momentum=True, power_t=0.5,\n",
       "       random_state=None, shuffle=True, solver='adam', tol=0.0001,\n",
       "       validation_fraction=0.1, verbose=False, warm_start=False),\n",
       "       fit_params=None, iid='warn', n_jobs=None,\n",
       "       param_grid=[{'hidden_layer_sizes': [(10,), (20,), (30,), (40,), (50,), (60,), (70,), (80,), (90,), (100,), (110,), (120,), (130,), (140,), (150,), (160,), (170,), (180,), (190,), (200,)]}],\n",
       "       pre_dispatch='2*n_jobs', refit=True, return_train_score='warn',\n",
       "       scoring=None, verbose=0)"
      ]
     },
     "execution_count": 26,
     "metadata": {},
     "output_type": "execute_result"
    }
   ],
   "source": [
    "gw_nn = MLPClassifier(max_iter = 5000)\n",
    "nn_grid_search = GridSearchCV(gw_nn, nn_params, cv = 10)\n",
    "nn_grid_search.fit(gw_x_train, gw_y_train)"
   ]
  },
  {
   "cell_type": "markdown",
   "metadata": {},
   "source": [
    "The best score:"
   ]
  },
  {
   "cell_type": "code",
   "execution_count": 27,
   "metadata": {},
   "outputs": [
    {
     "data": {
      "text/plain": [
       "0.6644295302013423"
      ]
     },
     "execution_count": 27,
     "metadata": {},
     "output_type": "execute_result"
    }
   ],
   "source": [
    "nn_grid_search.best_score_"
   ]
  },
  {
   "cell_type": "markdown",
   "metadata": {},
   "source": [
    "The best parameters:"
   ]
  },
  {
   "cell_type": "code",
   "execution_count": 28,
   "metadata": {},
   "outputs": [
    {
     "data": {
      "text/plain": [
       "{'hidden_layer_sizes': (50,)}"
      ]
     },
     "execution_count": 28,
     "metadata": {},
     "output_type": "execute_result"
    }
   ],
   "source": [
    "nn_grid_search.best_params_"
   ]
  },
  {
   "cell_type": "markdown",
   "metadata": {},
   "source": [
    "Still yucky. We can continue on like this, constantly adjusting our hyperparameter search space to try and increase our performance. However, we should take a step back and reevaluate whether or not a neural network is the best fit for this problem.\n",
    "\n",
    "#### Q3.\n",
    "\n",
    "1. Why is the neural network not getting great results?\n",
    "2. What are some possible fixes?\n",
    "3. If you were to continue changing the hyperparameters for this neural network, what might be your next steps?\n",
    "\n",
    "#### Other models\n",
    "\n",
    "Let's look at the [`scikit-learn` algorithm cheat-sheet](https://scikit-learn.org/stable/tutorial/machine_learning_map/index.html) to see what models we might check out next:\n",
    "\n",
    "![caption](https://scikit-learn.org/stable/_static/ml_map.png)"
   ]
  }
 ],
 "metadata": {
  "kernelspec": {
   "display_name": "Python 3",
   "language": "python",
   "name": "python3"
  },
  "language_info": {
   "codemirror_mode": {
    "name": "ipython",
    "version": 3
   },
   "file_extension": ".py",
   "mimetype": "text/x-python",
   "name": "python",
   "nbconvert_exporter": "python",
   "pygments_lexer": "ipython3",
   "version": "3.7.3"
  }
 },
 "nbformat": 4,
 "nbformat_minor": 2
}
