{
 "cells": [
  {
   "cell_type": "markdown",
   "metadata": {},
   "source": [
    "# GERMS-ML\n",
    "\n",
    "## Meeting #4: Doing stuff\n",
    "\n",
    "This week will be more coding focused. We're going to several different classifiers to the MNIST dataset and Jae's dataset.\n",
    "\n",
    "### The MNIST dataset\n",
    "\n",
    "It's MNIST! Our good from before! We'll start by reading in the dataset from `sklearn.datasets`:"
   ]
  },
  {
   "cell_type": "code",
   "execution_count": 1,
   "metadata": {},
   "outputs": [],
   "source": [
    "%matplotlib inline \n",
    "from sklearn import datasets\n",
    "\n",
    "digits = datasets.load_digits()"
   ]
  },
  {
   "cell_type": "markdown",
   "metadata": {},
   "source": [
    "Now we'll split the separate datasets for the attributes and the targets:"
   ]
  },
  {
   "cell_type": "code",
   "execution_count": 2,
   "metadata": {},
   "outputs": [],
   "source": [
    "digits_attributes = digits.data\n",
    "digits_targets = digits.target"
   ]
  },
  {
   "cell_type": "markdown",
   "metadata": {},
   "source": [
    "Before we do anything else, we'll separate the data into a training and a testing set:"
   ]
  },
  {
   "cell_type": "code",
   "execution_count": 3,
   "metadata": {},
   "outputs": [],
   "source": [
    "from sklearn.model_selection import train_test_split\n",
    "\n",
    "x_train, x_test, y_train, y_test = train_test_split(\n",
    "    digits_attributes, digits_targets, test_size = 0.2, random_state = 489\n",
    ")\n"
   ]
  },
  {
   "cell_type": "markdown",
   "metadata": {},
   "source": [
    "Take a few moments to remind yourself what the different datasets represent.\n",
    "\n",
    "#### Preprocessing the data\n",
    "\n",
    "There are no missing values, no outliers, and no oddities in the data for us to take care of, so the only real preprocessing we need to do with this dataset is feature scaling. We'll do standardization. \n",
    "\n",
    "Note that we're using pipelines now. It's not super necessary for this example since we're only doing one preprocessing step, but it will be much more useful when we move on to the groundwater data set.\n",
    "\n",
    "Let's see what the data looks like before standardization:"
   ]
  },
  {
   "cell_type": "code",
   "execution_count": 4,
   "metadata": {},
   "outputs": [
    {
     "data": {
      "text/plain": [
       "array([[ 0.,  0.,  0., 10.,  6.],\n",
       "       [ 0.,  0.,  0.,  5., 15.],\n",
       "       [ 0.,  1.,  9., 16., 15.],\n",
       "       [ 0.,  0.,  1.,  5., 12.],\n",
       "       [ 0.,  0.,  0.,  7., 11.]])"
      ]
     },
     "execution_count": 4,
     "metadata": {},
     "output_type": "execute_result"
    }
   ],
   "source": [
    "x_train[:5, :5]"
   ]
  },
  {
   "cell_type": "markdown",
   "metadata": {},
   "source": [
    "And after standardization:"
   ]
  },
  {
   "cell_type": "code",
   "execution_count": 5,
   "metadata": {},
   "outputs": [],
   "source": [
    "from sklearn.pipeline import Pipeline\n",
    "from sklearn.preprocessing import StandardScaler\n",
    "\n",
    "digits_pipeline = Pipeline([\n",
    "    ('standardize', StandardScaler())\n",
    "])\n",
    "x_train = digits_pipeline.fit_transform(x_train)"
   ]
  },
  {
   "cell_type": "code",
   "execution_count": 6,
   "metadata": {},
   "outputs": [
    {
     "data": {
      "text/plain": [
       "array([[ 0.        , -0.33159794, -1.09096988, -0.41777192, -1.33283894],\n",
       "       [ 0.        , -0.33159794, -1.09096988, -1.58711013,  0.74698804],\n",
       "       [ 0.        ,  0.81938333,  0.81443369,  0.98543395,  0.74698804],\n",
       "       [ 0.        , -0.33159794, -0.87925837, -1.58711013,  0.05371238],\n",
       "       [ 0.        , -0.33159794, -1.09096988, -1.11937485, -0.17737951]])"
      ]
     },
     "execution_count": 6,
     "metadata": {},
     "output_type": "execute_result"
    }
   ],
   "source": [
    "x_train[:5, :5]"
   ]
  },
  {
   "cell_type": "markdown",
   "metadata": {},
   "source": [
    "#### Q1.\n",
    "\n",
    "1. Why are we only calling `digits_pipeline.fit_transform` on the `x_train` dataset?\n",
    "\n",
    "#### Applying a neural network to the data\n",
    "\n",
    "Now to use a neural network to predict on the dataset. We're going to use the GridSearch function to optimize our model in a few moments, but let's just create a simple neural network to learn more about it. You can read about the various input parameters in the [sklearn documentation](https://scikit-learn.org/stable/modules/generated/sklearn.neural_network.MLPClassifier.html), but for now, we'll just be messing with `hidden_layer_sizes` and `max_iter`. From the documentation:\n",
    "\n",
    "* `hidden_layer_sizes` - the $i$th element represents the number of neurons in the $i$th hidden layer.\n",
    "* `max_iter` - maximum number of iterations. The solver iterates until convergence or this number of iterations.\n",
    "\n",
    "For now, we'll just make a neural network with 1 hidden layer and set the max iterations to 1000 (these numbers are arbitrary):"
   ]
  },
  {
   "cell_type": "code",
   "execution_count": 7,
   "metadata": {},
   "outputs": [
    {
     "data": {
      "text/plain": [
       "MLPClassifier(activation='relu', alpha=0.0001, batch_size='auto', beta_1=0.9,\n",
       "              beta_2=0.999, early_stopping=False, epsilon=1e-08,\n",
       "              hidden_layer_sizes=10, learning_rate='constant',\n",
       "              learning_rate_init=0.001, max_iter=1000, momentum=0.9,\n",
       "              n_iter_no_change=10, nesterovs_momentum=True, power_t=0.5,\n",
       "              random_state=None, shuffle=True, solver='adam', tol=0.0001,\n",
       "              validation_fraction=0.1, verbose=False, warm_start=False)"
      ]
     },
     "execution_count": 7,
     "metadata": {},
     "output_type": "execute_result"
    }
   ],
   "source": [
    "from sklearn.neural_network import MLPClassifier\n",
    "nn_digits = MLPClassifier(hidden_layer_sizes = (10), \n",
    "                         max_iter = 1000)\n",
    "nn_digits.fit(x_train, y_train)"
   ]
  },
  {
   "cell_type": "markdown",
   "metadata": {},
   "source": [
    "Calling `.fit` from our model trains it on our data. Let's check out the performance of our model:"
   ]
  },
  {
   "cell_type": "code",
   "execution_count": 8,
   "metadata": {},
   "outputs": [
    {
     "data": {
      "text/plain": [
       "1.0"
      ]
     },
     "execution_count": 8,
     "metadata": {},
     "output_type": "execute_result"
    }
   ],
   "source": [
    "nn_digits.score(x_train, y_train)"
   ]
  },
  {
   "cell_type": "markdown",
   "metadata": {},
   "source": [
    "That's a...very high score. Let's find out how well it does on the testing data:"
   ]
  },
  {
   "cell_type": "code",
   "execution_count": 9,
   "metadata": {},
   "outputs": [
    {
     "data": {
      "text/plain": [
       "0.7055555555555556"
      ]
     },
     "execution_count": 9,
     "metadata": {},
     "output_type": "execute_result"
    }
   ],
   "source": [
    "nn_digits.score(x_test, y_test)"
   ]
  },
  {
   "cell_type": "markdown",
   "metadata": {},
   "source": [
    "That's a significant drop off. Let's visualize the confusion matrix and see if it tells us anything:"
   ]
  },
  {
   "cell_type": "code",
   "execution_count": 10,
   "metadata": {},
   "outputs": [
    {
     "data": {
      "image/png": "[encoded data removed]",
      "text/plain": [
       "<Figure size 576x432 with 2 Axes>"
      ]
     },
     "metadata": {
      "needs_background": "light"
     },
     "output_type": "display_data"
    }
   ],
   "source": [
    "import sys\n",
    "sys.path.insert(0, '../src')\n",
    "from gml_utils.visualization import get_confusion_matrix\n",
    "\n",
    "get_confusion_matrix(nn_digits, x_test, y_test);"
   ]
  },
  {
   "cell_type": "markdown",
   "metadata": {},
   "source": [
    "#### Q2.\n",
    "\n",
    "1. We made a pretty big mistake when evaluating our classifier performance on the testing set.  What was it?  Fix it.\n",
    "2. Even though the seed is the same for the training-test split, there are differences in the model performance when we fit the neural network to the data. Why?\n",
    "\n",
    "#### Tuning neural network hyperparameters\n",
    "\n",
    "Before we actually go on to tuning hyperparameters, the error we made was that we didn't standardize the `x_test` dataset. Our model was trained on a standardized dataset, so when we used it to predict values on the non-standardized testing set, it naturally didn't perform well. Let's go ahead and fix that:"
   ]
  },
  {
   "cell_type": "code",
   "execution_count": 11,
   "metadata": {},
   "outputs": [],
   "source": [
    "x_test = digits_pipeline.transform(x_test)"
   ]
  },
  {
   "cell_type": "code",
   "execution_count": 12,
   "metadata": {},
   "outputs": [
    {
     "data": {
      "image/png": "[encoded data removed]",
      "text/plain": [
       "<Figure size 576x432 with 2 Axes>"
      ]
     },
     "metadata": {
      "needs_background": "light"
     },
     "output_type": "display_data"
    }
   ],
   "source": [
    "get_confusion_matrix(nn_digits, x_test, y_test)"
   ]
  },
  {
   "cell_type": "markdown",
   "metadata": {},
   "source": [
    "Much better!\n",
    "\n",
    "We chose the number of hidden layers arbitrarily. Let's use GridSearchCV to do a systematic search of the parameter space to best optimize our model's performance. Working off of the [sklearn documentation](https://scikit-learn.org/stable/modules/generated/sklearn.neural_network.MLPClassifier.html), the hyperparameters we'll tune are:\n",
    "\n",
    "* `activation` - The activation function for the hidden layer\n",
    "* `hidden_layer_sizes` - This is the same as before\n",
    "* `solver` - The solver for weight optimization\n",
    "\n",
    "Since we're doing this together, I want to keep the search space relatively small. We'll talk more about solvers in a later lesson.\n",
    "\n",
    "We start our hyperparameter tuning by importing `GridSearchCV` and creating the parameter grid to define our hyperparameter search space:"
   ]
  },
  {
   "cell_type": "code",
   "execution_count": 13,
   "metadata": {},
   "outputs": [],
   "source": [
    "from sklearn.model_selection import GridSearchCV\n",
    "\n",
    "param_grid = [\n",
    "    {\n",
    "        'activation': ['relu', 'logistic'],\n",
    "        'hidden_layer_sizes': [(10), (10, 10), (10, 10, 10)],\n",
    "        'solver': ['adam', 'lbfgs']\n",
    "    }\n",
    "]"
   ]
  },
  {
   "cell_type": "markdown",
   "metadata": {},
   "source": [
    "Next, we create a new neural network classifier. We'll set the `max_iter` argument to 1000 so that all of our models will have this setting. We'll then create a new `GridSearchCV` object and fit it to the data. I set `cv` to 5 instead of my normal 10 for time considerations."
   ]
  },
  {
   "cell_type": "code",
   "execution_count": 14,
   "metadata": {},
   "outputs": [
    {
     "name": "stderr",
     "output_type": "stream",
     "text": [
      "/anaconda3/envs/germsml/lib/python3.6/site-packages/sklearn/model_selection/_search.py:813: DeprecationWarning: The default of the `iid` parameter will change from True to False in version 0.22 and will be removed in 0.24. This will change numeric results when test-set sizes are unequal.\n",
      "  DeprecationWarning)\n"
     ]
    },
    {
     "data": {
      "text/plain": [
       "GridSearchCV(cv=5, error_score='raise-deprecating',\n",
       "             estimator=MLPClassifier(activation='relu', alpha=0.0001,\n",
       "                                     batch_size='auto', beta_1=0.9,\n",
       "                                     beta_2=0.999, early_stopping=False,\n",
       "                                     epsilon=1e-08, hidden_layer_sizes=(100,),\n",
       "                                     learning_rate='constant',\n",
       "                                     learning_rate_init=0.001, max_iter=1000,\n",
       "                                     momentum=0.9, n_iter_no_change=10,\n",
       "                                     nesterovs_momentum=True, power_t=0.5,\n",
       "                                     random_state=None, shuffle=True,\n",
       "                                     solver='adam', tol=0.0001,\n",
       "                                     validation_fraction=0.1, verbose=False,\n",
       "                                     warm_start=False),\n",
       "             iid='warn', n_jobs=-1,\n",
       "             param_grid=[{'activation': ['relu', 'logistic'],\n",
       "                          'hidden_layer_sizes': [10, (10, 10), (10, 10, 10)],\n",
       "                          'solver': ['adam', 'lbfgs']}],\n",
       "             pre_dispatch='2*n_jobs', refit=True, return_train_score=False,\n",
       "             scoring=None, verbose=0)"
      ]
     },
     "execution_count": 14,
     "metadata": {},
     "output_type": "execute_result"
    }
   ],
   "source": [
    "nn_digits = MLPClassifier(max_iter = 1000)\n",
    "grid_search = GridSearchCV(nn_digits, \n",
    "                           param_grid, \n",
    "                           cv = 5, \n",
    "                           n_jobs = -1)\n",
    "grid_search.fit(x_train, y_train)"
   ]
  },
  {
   "cell_type": "markdown",
   "metadata": {},
   "source": [
    "Recall that we can see what the hyperparameters belonging to the best model are by calling `.best_params_` on the `GridSearchCV` object:"
   ]
  },
  {
   "cell_type": "code",
   "execution_count": 15,
   "metadata": {},
   "outputs": [
    {
     "data": {
      "text/plain": [
       "{'activation': 'logistic', 'hidden_layer_sizes': 10, 'solver': 'adam'}"
      ]
     },
     "execution_count": 15,
     "metadata": {},
     "output_type": "execute_result"
    }
   ],
   "source": [
    "grid_search.best_params_"
   ]
  },
  {
   "cell_type": "markdown",
   "metadata": {},
   "source": [
    "It looks like the single hidden layer with the `adam` solver worked best, just like in our first guess. However, a logistic activation was more optimal compared to ReLU, our choice in the first model.  Let's see the score:"
   ]
  },
  {
   "cell_type": "code",
   "execution_count": 16,
   "metadata": {},
   "outputs": [
    {
     "data": {
      "text/plain": [
       "0.953375086986778"
      ]
     },
     "execution_count": 16,
     "metadata": {},
     "output_type": "execute_result"
    }
   ],
   "source": [
    "grid_search.best_score_"
   ]
  },
  {
   "cell_type": "markdown",
   "metadata": {},
   "source": [
    "Not as impressive as the score we saw on our first model. Let's check the performance on the testing set:"
   ]
  },
  {
   "cell_type": "code",
   "execution_count": 17,
   "metadata": {},
   "outputs": [
    {
     "data": {
      "image/png": "[encoded data removed]",
      "text/plain": [
       "<Figure size 576x432 with 2 Axes>"
      ]
     },
     "metadata": {
      "needs_background": "light"
     },
     "output_type": "display_data"
    }
   ],
   "source": [
    "nn_digits = grid_search.best_estimator_\n",
    "get_confusion_matrix(nn_digits, x_test, y_test)"
   ]
  },
  {
   "cell_type": "markdown",
   "metadata": {},
   "source": [
    "#### Q3\n",
    "\n",
    "* Depending on an element of randomness, the so-called \"best\" set of hyperparameters may perform worse on the testing set than our first original blind guess. Why do you think that is?\n",
    "* You should have seen some red errors pop up while doing hyperparameter tuning. What do they mean?\n",
    "* What are some next steps to continue tuning this model?\n",
    "\n",
    "#### Other classifiers\n",
    "\n",
    "Let's look at the [`scikit-learn` algorithm cheat-sheet](https://scikit-learn.org/stable/tutorial/machine_learning_map/index.html) to see what models we might check out next:\n",
    "\n",
    "![caption](https://scikit-learn.org/stable/_static/ml_map.png)"
   ]
  },
  {
   "cell_type": "markdown",
   "metadata": {},
   "source": [
    "The first model that the cheat-sheet points us to is a linear support vector classifier, or SVC. You can read more about the support vector algorithm [here](https://en.wikipedia.org/wiki/Support-vector_machine).\n",
    "\n",
    "Since our data is already split into testing and training sets and has been normalized already, all we need to do to make predictions is create a new model and fit it to the training data. "
   ]
  },
  {
   "cell_type": "code",
   "execution_count": 18,
   "metadata": {},
   "outputs": [],
   "source": [
    "from sklearn.svm import SVC\n",
    "svc_digits = SVC()"
   ]
  },
  {
   "cell_type": "markdown",
   "metadata": {},
   "source": [
    "We're going to skip straight to the hyperparameter tuning step for this classifier. The hyperparameter we are going to tune is $C$, the error term. [Wikipedia recommends](https://en.wikipedia.org/wiki/Support-vector_machine#Parameter_selection) the following range of values for $C$:"
   ]
  },
  {
   "cell_type": "code",
   "execution_count": 19,
   "metadata": {},
   "outputs": [],
   "source": [
    "svc_param_grid = [\n",
    "    {\n",
    "        'C': [2 ** i for i in range(-5, 16)],\n",
    "        'gamma': ['auto']\n",
    "    }\n",
    "]"
   ]
  },
  {
   "cell_type": "markdown",
   "metadata": {},
   "source": [
    "Note that we set `gamma` to `auto` to avoid some annoying warnings. Now, the actual tuning:"
   ]
  },
  {
   "cell_type": "code",
   "execution_count": 20,
   "metadata": {},
   "outputs": [
    {
     "data": {
      "text/plain": [
       "GridSearchCV(cv=5, error_score='raise-deprecating',\n",
       "             estimator=SVC(C=1.0, cache_size=200, class_weight=None, coef0=0.0,\n",
       "                           decision_function_shape='ovr', degree=3,\n",
       "                           gamma='auto_deprecated', kernel='rbf', max_iter=-1,\n",
       "                           probability=False, random_state=None, shrinking=True,\n",
       "                           tol=0.001, verbose=False),\n",
       "             iid='warn', n_jobs=None,\n",
       "             param_grid=[{'C': [0.03125, 0.0625, 0.125, 0.25, 0.5, 1, 2, 4, 8,\n",
       "                                16, 32, 64, 128, 256, 512, 1024, 2048, 4096,\n",
       "                                8192, 16384, 32768],\n",
       "                          'gamma': ['auto']}],\n",
       "             pre_dispatch='2*n_jobs', refit=True, return_train_score=False,\n",
       "             scoring=None, verbose=0)"
      ]
     },
     "execution_count": 20,
     "metadata": {},
     "output_type": "execute_result"
    }
   ],
   "source": [
    "svc_grid_search = GridSearchCV(svc_digits, svc_param_grid, cv = 5)\n",
    "svc_grid_search.fit(x_train, y_train)"
   ]
  },
  {
   "cell_type": "markdown",
   "metadata": {},
   "source": [
    "The best value of $C$ we found was:"
   ]
  },
  {
   "cell_type": "code",
   "execution_count": 21,
   "metadata": {},
   "outputs": [
    {
     "data": {
      "text/plain": [
       "{'C': 2, 'gamma': 'auto'}"
      ]
     },
     "execution_count": 21,
     "metadata": {},
     "output_type": "execute_result"
    }
   ],
   "source": [
    "svc_grid_search.best_params_"
   ]
  },
  {
   "cell_type": "markdown",
   "metadata": {},
   "source": [
    "The accuracy of the model with this value of $C$ was:"
   ]
  },
  {
   "cell_type": "code",
   "execution_count": 22,
   "metadata": {},
   "outputs": [
    {
     "data": {
      "text/plain": [
       "0.9832985386221295"
      ]
     },
     "execution_count": 22,
     "metadata": {},
     "output_type": "execute_result"
    }
   ],
   "source": [
    "svc_grid_search.best_score_"
   ]
  },
  {
   "cell_type": "markdown",
   "metadata": {},
   "source": [
    "And the performance of this best estimator on the testing set:"
   ]
  },
  {
   "cell_type": "code",
   "execution_count": 23,
   "metadata": {},
   "outputs": [
    {
     "data": {
      "image/png": "[encoded data removed]",
      "text/plain": [
       "<Figure size 576x432 with 2 Axes>"
      ]
     },
     "metadata": {
      "needs_background": "light"
     },
     "output_type": "display_data"
    }
   ],
   "source": [
    "svc_digits = svc_grid_search.best_estimator_\n",
    "get_confusion_matrix(svc_digits, x_test, y_test)"
   ]
  },
  {
   "cell_type": "markdown",
   "metadata": {},
   "source": [
    "\n",
    "\n",
    "#### Q4\n",
    "\n",
    "1. [Here](https://en.wikipedia.org/wiki/Support-vector_machine#Parameter_selection), Wikipedia also recommends some values to search through for `gamma`. Include these values in `svc_param_grid` and repeat the grid search.\n",
    "2. Any thoughts about the relative performance of the SVC versus the neural net?\n",
    "3. Try out other classifiers.\n",
    "\n",
    "### The Groundwater dataset\n",
    "\n",
    "Let's revisit the groundwater data set. We didn't actually make it predictions last time. We'll skip through the preprocessing and move to predictions.\n",
    "\n",
    "#### Preprocessing\n",
    "\n",
    "This time, we'll only read in the 3-month-adjusted dataset:"
   ]
  },
  {
   "cell_type": "code",
   "execution_count": 24,
   "metadata": {},
   "outputs": [],
   "source": [
    "import pandas as pd\n",
    "gw = pd.read_excel(\"../data/gw.xlsx\", sheet_name = \"Raw_Sorted_3month\",\n",
    "                  skiprows = [0])"
   ]
  },
  {
   "cell_type": "markdown",
   "metadata": {},
   "source": [
    "Let's drop the non-numeric data for now:"
   ]
  },
  {
   "cell_type": "code",
   "execution_count": 25,
   "metadata": {},
   "outputs": [],
   "source": [
    "gw.drop([\"Internal Wel lID\", \"Date\"], axis = 1,\n",
    "                                   inplace = True)"
   ]
  },
  {
   "cell_type": "markdown",
   "metadata": {},
   "source": [
    "Let's check how much data is missing in each category:"
   ]
  },
  {
   "cell_type": "code",
   "execution_count": 26,
   "metadata": {},
   "outputs": [
    {
     "data": {
      "text/html": [
       "<div>\n",
       "<style scoped>\n",
       "    .dataframe tbody tr th:only-of-type {\n",
       "        vertical-align: middle;\n",
       "    }\n",
       "\n",
       "    .dataframe tbody tr th {\n",
       "        vertical-align: top;\n",
       "    }\n",
       "\n",
       "    .dataframe thead th {\n",
       "        text-align: right;\n",
       "    }\n",
       "</style>\n",
       "<table border=\"1\" class=\"dataframe\">\n",
       "  <thead>\n",
       "    <tr style=\"text-align: right;\">\n",
       "      <th></th>\n",
       "      <th>percent_missing</th>\n",
       "    </tr>\n",
       "  </thead>\n",
       "  <tbody>\n",
       "    <tr>\n",
       "      <th>NO2</th>\n",
       "      <td>22.994652</td>\n",
       "    </tr>\n",
       "    <tr>\n",
       "      <th>Ferrous</th>\n",
       "      <td>16.042781</td>\n",
       "    </tr>\n",
       "    <tr>\n",
       "      <th>tDCE</th>\n",
       "      <td>4.278075</td>\n",
       "    </tr>\n",
       "    <tr>\n",
       "      <th>Chloride</th>\n",
       "      <td>3.208556</td>\n",
       "    </tr>\n",
       "    <tr>\n",
       "      <th>NO3</th>\n",
       "      <td>3.208556</td>\n",
       "    </tr>\n",
       "    <tr>\n",
       "      <th>Redox</th>\n",
       "      <td>2.139037</td>\n",
       "    </tr>\n",
       "    <tr>\n",
       "      <th>DO</th>\n",
       "      <td>0.534759</td>\n",
       "    </tr>\n",
       "    <tr>\n",
       "      <th>pH</th>\n",
       "      <td>0.534759</td>\n",
       "    </tr>\n",
       "    <tr>\n",
       "      <th>Methane</th>\n",
       "      <td>0.000000</td>\n",
       "    </tr>\n",
       "    <tr>\n",
       "      <th>TCE</th>\n",
       "      <td>0.000000</td>\n",
       "    </tr>\n",
       "    <tr>\n",
       "      <th>Dhc16S</th>\n",
       "      <td>0.000000</td>\n",
       "    </tr>\n",
       "    <tr>\n",
       "      <th>DP (3month later)</th>\n",
       "      <td>0.000000</td>\n",
       "    </tr>\n",
       "    <tr>\n",
       "      <th>Ethene</th>\n",
       "      <td>0.000000</td>\n",
       "    </tr>\n",
       "    <tr>\n",
       "      <th>VC</th>\n",
       "      <td>0.000000</td>\n",
       "    </tr>\n",
       "    <tr>\n",
       "      <th>cDCE</th>\n",
       "      <td>0.000000</td>\n",
       "    </tr>\n",
       "    <tr>\n",
       "      <th>Sulfate</th>\n",
       "      <td>0.000000</td>\n",
       "    </tr>\n",
       "    <tr>\n",
       "      <th>TOC</th>\n",
       "      <td>0.000000</td>\n",
       "    </tr>\n",
       "    <tr>\n",
       "      <th>PCE</th>\n",
       "      <td>0.000000</td>\n",
       "    </tr>\n",
       "  </tbody>\n",
       "</table>\n",
       "</div>"
      ],
      "text/plain": [
       "                   percent_missing\n",
       "NO2                      22.994652\n",
       "Ferrous                  16.042781\n",
       "tDCE                      4.278075\n",
       "Chloride                  3.208556\n",
       "NO3                       3.208556\n",
       "Redox                     2.139037\n",
       "DO                        0.534759\n",
       "pH                        0.534759\n",
       "Methane                   0.000000\n",
       "TCE                       0.000000\n",
       "Dhc16S                    0.000000\n",
       "DP (3month later)         0.000000\n",
       "Ethene                    0.000000\n",
       "VC                        0.000000\n",
       "cDCE                      0.000000\n",
       "Sulfate                   0.000000\n",
       "TOC                       0.000000\n",
       "PCE                       0.000000"
      ]
     },
     "execution_count": 26,
     "metadata": {},
     "output_type": "execute_result"
    }
   ],
   "source": [
    "from gml_utils.preprocessing import get_missing_percentage\n",
    "missing_percentage = get_missing_percentage(gw)\n",
    "missing_percentage.sort_values(by = \"percent_missing\", ascending = False)"
   ]
  },
  {
   "cell_type": "markdown",
   "metadata": {},
   "source": [
    "Doesn't look too bad - most of the data is there, and there are enough values in the columns with higher missing percentages for us to impute missing values. \n",
    "\n",
    "Before we do get started with data preprocessing, let's split the data into a testing and training set. First, we separate our data into attributes and target sets. Our target is `DP (3month later)`, and the remaining columns will be our attributes:"
   ]
  },
  {
   "cell_type": "code",
   "execution_count": 27,
   "metadata": {},
   "outputs": [
    {
     "data": {
      "text/plain": [
       "(187,)"
      ]
     },
     "execution_count": 27,
     "metadata": {},
     "output_type": "execute_result"
    }
   ],
   "source": [
    "gw_targets = gw[\"DP (3month later)\"]\n",
    "gw_targets.shape"
   ]
  },
  {
   "cell_type": "code",
   "execution_count": 28,
   "metadata": {},
   "outputs": [],
   "source": [
    "gw_attributes = gw.drop(columns = \"DP (3month later)\")"
   ]
  },
  {
   "cell_type": "markdown",
   "metadata": {},
   "source": [
    "Now we split the data into testing and training sets:"
   ]
  },
  {
   "cell_type": "code",
   "execution_count": 29,
   "metadata": {},
   "outputs": [],
   "source": [
    "gw_x_train, gw_x_test, gw_y_train, gw_y_test = train_test_split(\n",
    "    gw_attributes, gw_targets, test_size = 0.2, random_state = 489\n",
    ")"
   ]
  },
  {
   "cell_type": "markdown",
   "metadata": {},
   "source": [
    "Last time, before we did any training on the dataset, we did imputation followed by standardization. Let's make a pipeline to do this for us."
   ]
  },
  {
   "cell_type": "code",
   "execution_count": 30,
   "metadata": {},
   "outputs": [],
   "source": [
    "from sklearn.impute import SimpleImputer\n",
    "\n",
    "gw_pipeline = Pipeline([\n",
    "    ('imputer', SimpleImputer(strategy = \"median\")),\n",
    "    (\"standardization\", StandardScaler())\n",
    "])"
   ]
  },
  {
   "cell_type": "markdown",
   "metadata": {},
   "source": [
    "Now all we need to do is call `fit_transform` on our training data and it will be preprocessed. Let's look at the values before..."
   ]
  },
  {
   "cell_type": "code",
   "execution_count": 31,
   "metadata": {},
   "outputs": [
    {
     "data": {
      "text/html": [
       "<div>\n",
       "<style scoped>\n",
       "    .dataframe tbody tr th:only-of-type {\n",
       "        vertical-align: middle;\n",
       "    }\n",
       "\n",
       "    .dataframe tbody tr th {\n",
       "        vertical-align: top;\n",
       "    }\n",
       "\n",
       "    .dataframe thead th {\n",
       "        text-align: right;\n",
       "    }\n",
       "</style>\n",
       "<table border=\"1\" class=\"dataframe\">\n",
       "  <thead>\n",
       "    <tr style=\"text-align: right;\">\n",
       "      <th></th>\n",
       "      <th>PCE</th>\n",
       "      <th>TCE</th>\n",
       "      <th>cDCE</th>\n",
       "      <th>tDCE</th>\n",
       "      <th>VC</th>\n",
       "      <th>Ethene</th>\n",
       "      <th>Dhc16S</th>\n",
       "      <th>Methane</th>\n",
       "      <th>pH</th>\n",
       "      <th>DO</th>\n",
       "      <th>Redox</th>\n",
       "      <th>NO3</th>\n",
       "      <th>NO2</th>\n",
       "      <th>Ferrous</th>\n",
       "      <th>Sulfate</th>\n",
       "      <th>TOC</th>\n",
       "      <th>Chloride</th>\n",
       "    </tr>\n",
       "  </thead>\n",
       "  <tbody>\n",
       "    <tr>\n",
       "      <th>count</th>\n",
       "      <td>149.000000</td>\n",
       "      <td>149.000000</td>\n",
       "      <td>149.000000</td>\n",
       "      <td>143.000000</td>\n",
       "      <td>149.000000</td>\n",
       "      <td>149.000000</td>\n",
       "      <td>1.490000e+02</td>\n",
       "      <td>149.000000</td>\n",
       "      <td>149.000000</td>\n",
       "      <td>149.000000</td>\n",
       "      <td>147.000000</td>\n",
       "      <td>143.000000</td>\n",
       "      <td>115.000000</td>\n",
       "      <td>126.000000</td>\n",
       "      <td>149.000000</td>\n",
       "      <td>149.000000</td>\n",
       "      <td>143.000000</td>\n",
       "    </tr>\n",
       "    <tr>\n",
       "      <th>mean</th>\n",
       "      <td>1888.068389</td>\n",
       "      <td>304.903785</td>\n",
       "      <td>1207.266577</td>\n",
       "      <td>64.846783</td>\n",
       "      <td>1218.371409</td>\n",
       "      <td>472.142311</td>\n",
       "      <td>1.087982e+06</td>\n",
       "      <td>3484.081101</td>\n",
       "      <td>6.759732</td>\n",
       "      <td>1.926242</td>\n",
       "      <td>-68.503673</td>\n",
       "      <td>2.859741</td>\n",
       "      <td>0.589400</td>\n",
       "      <td>4.794603</td>\n",
       "      <td>46.659430</td>\n",
       "      <td>494.163490</td>\n",
       "      <td>65.279371</td>\n",
       "    </tr>\n",
       "    <tr>\n",
       "      <th>std</th>\n",
       "      <td>12679.776643</td>\n",
       "      <td>1204.025864</td>\n",
       "      <td>4626.077043</td>\n",
       "      <td>262.590985</td>\n",
       "      <td>4263.934981</td>\n",
       "      <td>2097.181516</td>\n",
       "      <td>5.894971e+06</td>\n",
       "      <td>5910.758338</td>\n",
       "      <td>0.563965</td>\n",
       "      <td>4.359515</td>\n",
       "      <td>100.070519</td>\n",
       "      <td>6.866195</td>\n",
       "      <td>1.113918</td>\n",
       "      <td>16.665491</td>\n",
       "      <td>87.338674</td>\n",
       "      <td>1457.250963</td>\n",
       "      <td>81.922656</td>\n",
       "    </tr>\n",
       "    <tr>\n",
       "      <th>min</th>\n",
       "      <td>0.000000</td>\n",
       "      <td>0.250000</td>\n",
       "      <td>0.350000</td>\n",
       "      <td>0.000000</td>\n",
       "      <td>0.340000</td>\n",
       "      <td>0.010000</td>\n",
       "      <td>1.000000e+01</td>\n",
       "      <td>0.013000</td>\n",
       "      <td>5.610000</td>\n",
       "      <td>0.020000</td>\n",
       "      <td>-445.000000</td>\n",
       "      <td>0.040000</td>\n",
       "      <td>0.100000</td>\n",
       "      <td>0.000000</td>\n",
       "      <td>0.000000</td>\n",
       "      <td>0.800000</td>\n",
       "      <td>2.400000</td>\n",
       "    </tr>\n",
       "    <tr>\n",
       "      <th>25%</th>\n",
       "      <td>0.550000</td>\n",
       "      <td>1.000000</td>\n",
       "      <td>14.900000</td>\n",
       "      <td>0.410000</td>\n",
       "      <td>2.200000</td>\n",
       "      <td>0.500000</td>\n",
       "      <td>6.770000e+01</td>\n",
       "      <td>38.000000</td>\n",
       "      <td>6.500000</td>\n",
       "      <td>0.340000</td>\n",
       "      <td>-116.350000</td>\n",
       "      <td>0.500000</td>\n",
       "      <td>0.500000</td>\n",
       "      <td>0.042500</td>\n",
       "      <td>5.000000</td>\n",
       "      <td>6.650000</td>\n",
       "      <td>22.800000</td>\n",
       "    </tr>\n",
       "    <tr>\n",
       "      <th>50%</th>\n",
       "      <td>1.700000</td>\n",
       "      <td>10.000000</td>\n",
       "      <td>110.000000</td>\n",
       "      <td>1.000000</td>\n",
       "      <td>64.600000</td>\n",
       "      <td>4.460000</td>\n",
       "      <td>2.000000e+04</td>\n",
       "      <td>613.000000</td>\n",
       "      <td>6.670000</td>\n",
       "      <td>0.610000</td>\n",
       "      <td>-78.200000</td>\n",
       "      <td>0.500000</td>\n",
       "      <td>0.500000</td>\n",
       "      <td>0.390000</td>\n",
       "      <td>29.000000</td>\n",
       "      <td>14.200000</td>\n",
       "      <td>32.800000</td>\n",
       "    </tr>\n",
       "    <tr>\n",
       "      <th>75%</th>\n",
       "      <td>9.700000</td>\n",
       "      <td>74.000000</td>\n",
       "      <td>800.000000</td>\n",
       "      <td>6.500000</td>\n",
       "      <td>310.000000</td>\n",
       "      <td>99.200000</td>\n",
       "      <td>2.800000e+05</td>\n",
       "      <td>4500.000000</td>\n",
       "      <td>6.860000</td>\n",
       "      <td>1.880000</td>\n",
       "      <td>-25.500000</td>\n",
       "      <td>2.000000</td>\n",
       "      <td>0.500000</td>\n",
       "      <td>1.192500</td>\n",
       "      <td>56.500000</td>\n",
       "      <td>59.300000</td>\n",
       "      <td>72.100000</td>\n",
       "    </tr>\n",
       "    <tr>\n",
       "      <th>max</th>\n",
       "      <td>108700.000000</td>\n",
       "      <td>10000.000000</td>\n",
       "      <td>51000.000000</td>\n",
       "      <td>2100.000000</td>\n",
       "      <td>38000.000000</td>\n",
       "      <td>19200.000000</td>\n",
       "      <td>5.500000e+07</td>\n",
       "      <td>34600.000000</td>\n",
       "      <td>9.160000</td>\n",
       "      <td>47.100000</td>\n",
       "      <td>226.800000</td>\n",
       "      <td>63.900000</td>\n",
       "      <td>12.000000</td>\n",
       "      <td>100.000000</td>\n",
       "      <td>666.000000</td>\n",
       "      <td>8300.000000</td>\n",
       "      <td>460.000000</td>\n",
       "    </tr>\n",
       "  </tbody>\n",
       "</table>\n",
       "</div>"
      ],
      "text/plain": [
       "                 PCE           TCE         cDCE         tDCE             VC  \\\n",
       "count     149.000000    149.000000    149.000000   143.000000    149.000000   \n",
       "mean     1888.068389    304.903785   1207.266577    64.846783   1218.371409   \n",
       "std     12679.776643   1204.025864   4626.077043   262.590985   4263.934981   \n",
       "min         0.000000      0.250000      0.350000     0.000000      0.340000   \n",
       "25%         0.550000      1.000000     14.900000     0.410000      2.200000   \n",
       "50%         1.700000     10.000000    110.000000     1.000000     64.600000   \n",
       "75%         9.700000     74.000000    800.000000     6.500000    310.000000   \n",
       "max    108700.000000  10000.000000  51000.000000  2100.000000  38000.000000   \n",
       "\n",
       "             Ethene        Dhc16S       Methane         pH           DO  \\\n",
       "count    149.000000  1.490000e+02    149.000000  149.000000  149.000000   \n",
       "mean     472.142311  1.087982e+06   3484.081101    6.759732    1.926242   \n",
       "std     2097.181516  5.894971e+06   5910.758338    0.563965    4.359515   \n",
       "min        0.010000  1.000000e+01      0.013000    5.610000    0.020000   \n",
       "25%        0.500000  6.770000e+01     38.000000    6.500000    0.340000   \n",
       "50%        4.460000  2.000000e+04    613.000000    6.670000    0.610000   \n",
       "75%       99.200000  2.800000e+05   4500.000000    6.860000    1.880000   \n",
       "max    19200.000000  5.500000e+07  34600.000000    9.160000   47.100000   \n",
       "\n",
       "            Redox         NO3         NO2     Ferrous     Sulfate  \\\n",
       "count  147.000000  143.000000  115.000000  126.000000  149.000000   \n",
       "mean   -68.503673    2.859741    0.589400    4.794603   46.659430   \n",
       "std    100.070519    6.866195    1.113918   16.665491   87.338674   \n",
       "min   -445.000000    0.040000    0.100000    0.000000    0.000000   \n",
       "25%   -116.350000    0.500000    0.500000    0.042500    5.000000   \n",
       "50%    -78.200000    0.500000    0.500000    0.390000   29.000000   \n",
       "75%    -25.500000    2.000000    0.500000    1.192500   56.500000   \n",
       "max    226.800000   63.900000   12.000000  100.000000  666.000000   \n",
       "\n",
       "               TOC    Chloride  \n",
       "count   149.000000  143.000000  \n",
       "mean    494.163490   65.279371  \n",
       "std    1457.250963   81.922656  \n",
       "min       0.800000    2.400000  \n",
       "25%       6.650000   22.800000  \n",
       "50%      14.200000   32.800000  \n",
       "75%      59.300000   72.100000  \n",
       "max    8300.000000  460.000000  "
      ]
     },
     "execution_count": 31,
     "metadata": {},
     "output_type": "execute_result"
    }
   ],
   "source": [
    "gw_x_train.describe()"
   ]
  },
  {
   "cell_type": "markdown",
   "metadata": {},
   "source": [
    "...and compare them to the values after our preprocessing pipeline:"
   ]
  },
  {
   "cell_type": "code",
   "execution_count": 32,
   "metadata": {},
   "outputs": [],
   "source": [
    "gw_x_train = pd.DataFrame(gw_pipeline.fit_transform(gw_x_train),\n",
    "                          columns = gw_x_train.columns)"
   ]
  },
  {
   "cell_type": "code",
   "execution_count": 33,
   "metadata": {},
   "outputs": [
    {
     "data": {
      "text/html": [
       "<div>\n",
       "<style scoped>\n",
       "    .dataframe tbody tr th:only-of-type {\n",
       "        vertical-align: middle;\n",
       "    }\n",
       "\n",
       "    .dataframe tbody tr th {\n",
       "        vertical-align: top;\n",
       "    }\n",
       "\n",
       "    .dataframe thead th {\n",
       "        text-align: right;\n",
       "    }\n",
       "</style>\n",
       "<table border=\"1\" class=\"dataframe\">\n",
       "  <thead>\n",
       "    <tr style=\"text-align: right;\">\n",
       "      <th></th>\n",
       "      <th>PCE</th>\n",
       "      <th>TCE</th>\n",
       "      <th>cDCE</th>\n",
       "      <th>tDCE</th>\n",
       "      <th>VC</th>\n",
       "      <th>Ethene</th>\n",
       "      <th>Dhc16S</th>\n",
       "      <th>Methane</th>\n",
       "      <th>pH</th>\n",
       "      <th>DO</th>\n",
       "      <th>Redox</th>\n",
       "      <th>NO3</th>\n",
       "      <th>NO2</th>\n",
       "      <th>Ferrous</th>\n",
       "      <th>Sulfate</th>\n",
       "      <th>TOC</th>\n",
       "      <th>Chloride</th>\n",
       "    </tr>\n",
       "  </thead>\n",
       "  <tbody>\n",
       "    <tr>\n",
       "      <th>count</th>\n",
       "      <td>1.490000e+02</td>\n",
       "      <td>1.490000e+02</td>\n",
       "      <td>1.490000e+02</td>\n",
       "      <td>1.490000e+02</td>\n",
       "      <td>1.490000e+02</td>\n",
       "      <td>1.490000e+02</td>\n",
       "      <td>1.490000e+02</td>\n",
       "      <td>1.490000e+02</td>\n",
       "      <td>1.490000e+02</td>\n",
       "      <td>1.490000e+02</td>\n",
       "      <td>1.490000e+02</td>\n",
       "      <td>1.490000e+02</td>\n",
       "      <td>1.490000e+02</td>\n",
       "      <td>1.490000e+02</td>\n",
       "      <td>1.490000e+02</td>\n",
       "      <td>149.000000</td>\n",
       "      <td>149.000000</td>\n",
       "    </tr>\n",
       "    <tr>\n",
       "      <th>mean</th>\n",
       "      <td>3.576557e-17</td>\n",
       "      <td>-3.874604e-17</td>\n",
       "      <td>-1.788279e-17</td>\n",
       "      <td>5.960929e-18</td>\n",
       "      <td>5.960929e-18</td>\n",
       "      <td>2.980464e-17</td>\n",
       "      <td>6.706045e-18</td>\n",
       "      <td>-5.960929e-18</td>\n",
       "      <td>1.454467e-15</td>\n",
       "      <td>3.576557e-17</td>\n",
       "      <td>1.922400e-16</td>\n",
       "      <td>1.192186e-17</td>\n",
       "      <td>-7.153115e-17</td>\n",
       "      <td>2.682418e-17</td>\n",
       "      <td>-9.984556e-17</td>\n",
       "      <td>0.000000</td>\n",
       "      <td>0.000000</td>\n",
       "    </tr>\n",
       "    <tr>\n",
       "      <th>std</th>\n",
       "      <td>1.003373e+00</td>\n",
       "      <td>1.003373e+00</td>\n",
       "      <td>1.003373e+00</td>\n",
       "      <td>1.003373e+00</td>\n",
       "      <td>1.003373e+00</td>\n",
       "      <td>1.003373e+00</td>\n",
       "      <td>1.003373e+00</td>\n",
       "      <td>1.003373e+00</td>\n",
       "      <td>1.003373e+00</td>\n",
       "      <td>1.003373e+00</td>\n",
       "      <td>1.003373e+00</td>\n",
       "      <td>1.003373e+00</td>\n",
       "      <td>1.003373e+00</td>\n",
       "      <td>1.003373e+00</td>\n",
       "      <td>1.003373e+00</td>\n",
       "      <td>1.003373</td>\n",
       "      <td>1.003373</td>\n",
       "    </tr>\n",
       "    <tr>\n",
       "      <th>min</th>\n",
       "      <td>-1.494061e-01</td>\n",
       "      <td>-2.538827e-01</td>\n",
       "      <td>-2.617741e-01</td>\n",
       "      <td>-2.426433e-01</td>\n",
       "      <td>-2.866224e-01</td>\n",
       "      <td>-2.258863e-01</td>\n",
       "      <td>-1.851817e-01</td>\n",
       "      <td>-5.914332e-01</td>\n",
       "      <td>-2.045533e+00</td>\n",
       "      <td>-4.387347e-01</td>\n",
       "      <td>-3.799213e+00</td>\n",
       "      <td>-4.055242e-01</td>\n",
       "      <td>-4.809930e-01</td>\n",
       "      <td>-2.681085e-01</td>\n",
       "      <td>-5.360374e-01</td>\n",
       "      <td>-0.339700</td>\n",
       "      <td>-0.767441</td>\n",
       "    </tr>\n",
       "    <tr>\n",
       "      <th>25%</th>\n",
       "      <td>-1.493626e-01</td>\n",
       "      <td>-2.532576e-01</td>\n",
       "      <td>-2.586183e-01</td>\n",
       "      <td>-2.410458e-01</td>\n",
       "      <td>-2.861848e-01</td>\n",
       "      <td>-2.256519e-01</td>\n",
       "      <td>-1.851719e-01</td>\n",
       "      <td>-5.849848e-01</td>\n",
       "      <td>-4.620987e-01</td>\n",
       "      <td>-3.650845e-01</td>\n",
       "      <td>-4.811642e-01</td>\n",
       "      <td>-3.370617e-01</td>\n",
       "      <td>-7.076443e-02</td>\n",
       "      <td>-2.641990e-01</td>\n",
       "      <td>-4.785959e-01</td>\n",
       "      <td>-0.335672</td>\n",
       "      <td>-0.510678</td>\n",
       "    </tr>\n",
       "    <tr>\n",
       "      <th>50%</th>\n",
       "      <td>-1.492716e-01</td>\n",
       "      <td>-2.457575e-01</td>\n",
       "      <td>-2.379916e-01</td>\n",
       "      <td>-2.387470e-01</td>\n",
       "      <td>-2.715010e-01</td>\n",
       "      <td>-2.237573e-01</td>\n",
       "      <td>-1.817793e-01</td>\n",
       "      <td>-4.873764e-01</td>\n",
       "      <td>-1.596449e-01</td>\n",
       "      <td>-3.029421e-01</td>\n",
       "      <td>-9.656535e-02</td>\n",
       "      <td>-3.370617e-01</td>\n",
       "      <td>-7.076443e-02</td>\n",
       "      <td>-2.426966e-01</td>\n",
       "      <td>-2.028768e-01</td>\n",
       "      <td>-0.330473</td>\n",
       "      <td>-0.388528</td>\n",
       "    </tr>\n",
       "    <tr>\n",
       "      <th>75%</th>\n",
       "      <td>-1.486385e-01</td>\n",
       "      <td>-1.924232e-01</td>\n",
       "      <td>-8.833406e-02</td>\n",
       "      <td>-2.188761e-01</td>\n",
       "      <td>-2.137544e-01</td>\n",
       "      <td>-1.784300e-01</td>\n",
       "      <td>-1.375251e-01</td>\n",
       "      <td>1.724559e-01</td>\n",
       "      <td>1.783916e-01</td>\n",
       "      <td>-1.064283e-02</td>\n",
       "      <td>4.303654e-01</td>\n",
       "      <td>-1.733469e-01</td>\n",
       "      <td>-7.076443e-02</td>\n",
       "      <td>-2.009950e-01</td>\n",
       "      <td>1.130514e-01</td>\n",
       "      <td>-0.299420</td>\n",
       "      <td>0.100069</td>\n",
       "    </tr>\n",
       "    <tr>\n",
       "      <th>max</th>\n",
       "      <td>8.452213e+00</td>\n",
       "      <td>8.079390e+00</td>\n",
       "      <td>1.079979e+01</td>\n",
       "      <td>7.939527e+00</td>\n",
       "      <td>8.655311e+00</td>\n",
       "      <td>8.960131e+00</td>\n",
       "      <td>9.176270e+00</td>\n",
       "      <td>5.282040e+00</td>\n",
       "      <td>4.270413e+00</td>\n",
       "      <td>1.039705e+01</td>\n",
       "      <td>2.982244e+00</td>\n",
       "      <td>9.098863e+00</td>\n",
       "      <td>1.172331e+01</td>\n",
       "      <td>6.247765e+00</td>\n",
       "      <td>7.115169e+00</td>\n",
       "      <td>5.374615</td>\n",
       "      <td>4.936188</td>\n",
       "    </tr>\n",
       "  </tbody>\n",
       "</table>\n",
       "</div>"
      ],
      "text/plain": [
       "                PCE           TCE         cDCE          tDCE             VC  \\\n",
       "count  1.490000e+02  1.490000e+02  1.490000e+02  1.490000e+02  1.490000e+02   \n",
       "mean   3.576557e-17 -3.874604e-17 -1.788279e-17  5.960929e-18  5.960929e-18   \n",
       "std    1.003373e+00  1.003373e+00  1.003373e+00  1.003373e+00  1.003373e+00   \n",
       "min   -1.494061e-01 -2.538827e-01 -2.617741e-01 -2.426433e-01 -2.866224e-01   \n",
       "25%   -1.493626e-01 -2.532576e-01 -2.586183e-01 -2.410458e-01 -2.861848e-01   \n",
       "50%   -1.492716e-01 -2.457575e-01 -2.379916e-01 -2.387470e-01 -2.715010e-01   \n",
       "75%   -1.486385e-01 -1.924232e-01 -8.833406e-02 -2.188761e-01 -2.137544e-01   \n",
       "max    8.452213e+00  8.079390e+00  1.079979e+01  7.939527e+00  8.655311e+00   \n",
       "\n",
       "             Ethene        Dhc16S       Methane           pH             DO  \\\n",
       "count  1.490000e+02  1.490000e+02  1.490000e+02  1.490000e+02  1.490000e+02   \n",
       "mean   2.980464e-17  6.706045e-18 -5.960929e-18  1.454467e-15  3.576557e-17   \n",
       "std    1.003373e+00  1.003373e+00  1.003373e+00  1.003373e+00  1.003373e+00   \n",
       "min   -2.258863e-01 -1.851817e-01 -5.914332e-01 -2.045533e+00 -4.387347e-01   \n",
       "25%   -2.256519e-01 -1.851719e-01 -5.849848e-01 -4.620987e-01 -3.650845e-01   \n",
       "50%   -2.237573e-01 -1.817793e-01 -4.873764e-01 -1.596449e-01 -3.029421e-01   \n",
       "75%   -1.784300e-01 -1.375251e-01  1.724559e-01  1.783916e-01 -1.064283e-02   \n",
       "max    8.960131e+00  9.176270e+00  5.282040e+00  4.270413e+00  1.039705e+01   \n",
       "\n",
       "              Redox           NO3           NO2       Ferrous       Sulfate  \\\n",
       "count  1.490000e+02  1.490000e+02  1.490000e+02  1.490000e+02  1.490000e+02   \n",
       "mean   1.922400e-16  1.192186e-17 -7.153115e-17  2.682418e-17 -9.984556e-17   \n",
       "std    1.003373e+00  1.003373e+00  1.003373e+00  1.003373e+00  1.003373e+00   \n",
       "min   -3.799213e+00 -4.055242e-01 -4.809930e-01 -2.681085e-01 -5.360374e-01   \n",
       "25%   -4.811642e-01 -3.370617e-01 -7.076443e-02 -2.641990e-01 -4.785959e-01   \n",
       "50%   -9.656535e-02 -3.370617e-01 -7.076443e-02 -2.426966e-01 -2.028768e-01   \n",
       "75%    4.303654e-01 -1.733469e-01 -7.076443e-02 -2.009950e-01  1.130514e-01   \n",
       "max    2.982244e+00  9.098863e+00  1.172331e+01  6.247765e+00  7.115169e+00   \n",
       "\n",
       "              TOC    Chloride  \n",
       "count  149.000000  149.000000  \n",
       "mean     0.000000    0.000000  \n",
       "std      1.003373    1.003373  \n",
       "min     -0.339700   -0.767441  \n",
       "25%     -0.335672   -0.510678  \n",
       "50%     -0.330473   -0.388528  \n",
       "75%     -0.299420    0.100069  \n",
       "max      5.374615    4.936188  "
      ]
     },
     "execution_count": 33,
     "metadata": {},
     "output_type": "execute_result"
    }
   ],
   "source": [
    "gw_x_train.describe()"
   ]
  },
  {
   "cell_type": "markdown",
   "metadata": {},
   "source": [
    "And we might as well preprocess the testing attributes while we're at it:"
   ]
  },
  {
   "cell_type": "code",
   "execution_count": 34,
   "metadata": {},
   "outputs": [],
   "source": [
    "gw_x_test = pd.DataFrame(gw_pipeline.fit_transform(gw_x_test),\n",
    "                        columns = gw_x_train.columns)"
   ]
  },
  {
   "cell_type": "markdown",
   "metadata": {},
   "source": [
    "We're ready to train some models.\n",
    "\n",
    "#### Q4\n",
    "\n",
    "1. We dropped Well ID and Date as unimportant. What potential problems are there by doing this?\n",
    "\n",
    "#### Random Forest Classifier\n",
    "\n",
    "We're going to skip right to parameter tuning. You can read about Random Forests [here](https://en.wikipedia.org/wiki/Random_forest). In short, a random forest classifier is a collection of resampled decision trees (or a \"bootstrap aggregation\" or \"bagged\"). The idea is that while an individual tree may not be very accurate in terms of predictive powers, a collection of many trees tends to be more accurate when we take the majority vote as the prediction.\n",
    "\n",
    "The parameters we'll be tuning are:\n",
    "\n",
    "* `n_estimators` - the number of trees in the forest\n",
    "* `max_features` - the number of features to consider when looking for the best split\n",
    "\n",
    "You can read more about these hyperparameters (and all the other ones) at the [sklearn documentation](https://scikit-learn.org/stable/modules/generated/sklearn.ensemble.RandomForestClassifier.html)."
   ]
  },
  {
   "cell_type": "code",
   "execution_count": 35,
   "metadata": {},
   "outputs": [
    {
     "name": "stderr",
     "output_type": "stream",
     "text": [
      "/anaconda3/envs/germsml/lib/python3.6/site-packages/sklearn/model_selection/_search.py:813: DeprecationWarning: The default of the `iid` parameter will change from True to False in version 0.22 and will be removed in 0.24. This will change numeric results when test-set sizes are unequal.\n",
      "  DeprecationWarning)\n"
     ]
    },
    {
     "data": {
      "text/plain": [
       "GridSearchCV(cv=5, error_score='raise-deprecating',\n",
       "             estimator=RandomForestClassifier(bootstrap=True, class_weight=None,\n",
       "                                              criterion='gini', max_depth=None,\n",
       "                                              max_features='auto',\n",
       "                                              max_leaf_nodes=None,\n",
       "                                              min_impurity_decrease=0.0,\n",
       "                                              min_impurity_split=None,\n",
       "                                              min_samples_leaf=1,\n",
       "                                              min_samples_split=2,\n",
       "                                              min_weight_fraction_leaf=0.0,\n",
       "                                              n_estimators='warn', n_jobs=None,\n",
       "                                              oob_score=False,\n",
       "                                              random_state=None, verbose=0,\n",
       "                                              warm_start=False),\n",
       "             iid='warn', n_jobs=-1,\n",
       "             param_grid=[{'max_features': ['sqrt', 'log2'],\n",
       "                          'n_estimators': [50, 100, 150, 200]}],\n",
       "             pre_dispatch='2*n_jobs', refit=True, return_train_score=False,\n",
       "             scoring=None, verbose=0)"
      ]
     },
     "execution_count": 35,
     "metadata": {},
     "output_type": "execute_result"
    }
   ],
   "source": [
    "from sklearn.ensemble import RandomForestClassifier\n",
    "\n",
    "gw_rf = RandomForestClassifier()\n",
    "\n",
    "rf_param_grid = [\n",
    "    {\n",
    "        'n_estimators': [50 * (i + 1) for i in range(4)],\n",
    "        'max_features': ['sqrt', 'log2']\n",
    "    }\n",
    "]\n",
    "\n",
    "rf_grid_search = GridSearchCV(gw_rf, \n",
    "                              rf_param_grid, \n",
    "                              cv = 5,\n",
    "                              n_jobs = -1)\n",
    "rf_grid_search.fit(gw_x_train, gw_y_train)"
   ]
  },
  {
   "cell_type": "markdown",
   "metadata": {},
   "source": [
    "The best score:"
   ]
  },
  {
   "cell_type": "code",
   "execution_count": 36,
   "metadata": {},
   "outputs": [
    {
     "data": {
      "text/plain": [
       "0.7718120805369127"
      ]
     },
     "execution_count": 36,
     "metadata": {},
     "output_type": "execute_result"
    }
   ],
   "source": [
    "rf_grid_search.best_score_"
   ]
  },
  {
   "cell_type": "markdown",
   "metadata": {},
   "source": [
    "The best parameters"
   ]
  },
  {
   "cell_type": "code",
   "execution_count": 37,
   "metadata": {},
   "outputs": [
    {
     "data": {
      "text/plain": [
       "{'max_features': 'log2', 'n_estimators': 100}"
      ]
     },
     "execution_count": 37,
     "metadata": {},
     "output_type": "execute_result"
    }
   ],
   "source": [
    "rf_grid_search.best_params_"
   ]
  },
  {
   "cell_type": "markdown",
   "metadata": {},
   "source": [
    "Let's see the performance on the test set:"
   ]
  },
  {
   "cell_type": "code",
   "execution_count": 38,
   "metadata": {},
   "outputs": [],
   "source": [
    "gw_rf = rf_grid_search.best_estimator_"
   ]
  },
  {
   "cell_type": "code",
   "execution_count": 39,
   "metadata": {},
   "outputs": [
    {
     "data": {
      "image/png": "[encoded data removed]",
      "text/plain": [
       "<Figure size 576x432 with 2 Axes>"
      ]
     },
     "metadata": {
      "needs_background": "light"
     },
     "output_type": "display_data"
    }
   ],
   "source": [
    "get_confusion_matrix(gw_rf, gw_x_test, gw_y_test)"
   ]
  },
  {
   "cell_type": "markdown",
   "metadata": {},
   "source": [
    "Yucky.\n",
    "\n",
    "#### Q5.\n",
    "\n",
    "1. Tune the random forest.\n",
    "2. Train some other models.\n",
    "3. What else can we do to improve the prediction accuracy?"
   ]
  }
 ],
 "metadata": {
  "kernelspec": {
   "display_name": "Python 3",
   "language": "python",
   "name": "python3"
  },
  "language_info": {
   "codemirror_mode": {
    "name": "ipython",
    "version": 3
   },
   "file_extension": ".py",
   "mimetype": "text/x-python",
   "name": "python",
   "nbconvert_exporter": "python",
   "pygments_lexer": "ipython3",
   "version": "3.6.7"
  }
 },
 "nbformat": 4,
 "nbformat_minor": 2
}
