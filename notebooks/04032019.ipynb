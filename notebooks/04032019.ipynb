{
 "cells": [
  {
   "cell_type": "markdown",
   "metadata": {},
   "source": [
    "# GERMS-ML\n",
    "\n",
    "## Meeting #2: A small case study with groundwater\n",
    "\n",
    "We'll begin working on Jae's data from his paper *\"A Data Mining Approach to Predict In Situ Detoxification Potential of Chlorinated Ethenes.\"* You can find the paper [here](https://pubs.acs.org/doi/abs/10.1021/acs.est.5b05090). We'll start by reading in the data:"
   ]
  },
  {
   "cell_type": "code",
   "execution_count": 1,
   "metadata": {},
   "outputs": [],
   "source": [
    "import pandas as pd\n",
    "\n",
    "gw_all = pd.read_excel(\"../data/gw.xlsx\", sheet_name = None, \n",
    "                   skiprows = [0])"
   ]
  },
  {
   "cell_type": "markdown",
   "metadata": {},
   "source": [
    "The data was stored in an Excel spreadsheet. By default, Pandas reads in the entire sheet as a dictionary. To access a dataframe representation of a particular sheet, just pass the name of that sheet to the resulting object. We can call `gw_all.keys()` to see all of the valid keys for this dictionary."
   ]
  },
  {
   "cell_type": "code",
   "execution_count": 2,
   "metadata": {},
   "outputs": [
    {
     "data": {
      "text/plain": [
       "odict_keys(['Raw_Sorted', 'Raw_Sorted_3month', 'Sheet1'])"
      ]
     },
     "execution_count": 2,
     "metadata": {},
     "output_type": "execute_result"
    }
   ],
   "source": [
    "gw_all.keys()"
   ]
  },
  {
   "cell_type": "markdown",
   "metadata": {},
   "source": [
    "We're just interested in the `Raw_Sorted` dataset for today. We'll save that to its own object."
   ]
  },
  {
   "cell_type": "code",
   "execution_count": 3,
   "metadata": {},
   "outputs": [],
   "source": [
    "raw_sorted = gw_all['Raw_Sorted']"
   ]
  },
  {
   "cell_type": "markdown",
   "metadata": {},
   "source": [
    "Let's see what we're working with:"
   ]
  },
  {
   "cell_type": "code",
   "execution_count": 4,
   "metadata": {},
   "outputs": [
    {
     "data": {
      "text/html": [
       "<div>\n",
       "<style scoped>\n",
       "    .dataframe tbody tr th:only-of-type {\n",
       "        vertical-align: middle;\n",
       "    }\n",
       "\n",
       "    .dataframe tbody tr th {\n",
       "        vertical-align: top;\n",
       "    }\n",
       "\n",
       "    .dataframe thead th {\n",
       "        text-align: right;\n",
       "    }\n",
       "</style>\n",
       "<table border=\"1\" class=\"dataframe\">\n",
       "  <thead>\n",
       "    <tr style=\"text-align: right;\">\n",
       "      <th></th>\n",
       "      <th>tceA</th>\n",
       "      <th>bvcA</th>\n",
       "      <th>vcrA</th>\n",
       "      <th>bvc+vcrA</th>\n",
       "      <th>t+b+v</th>\n",
       "      <th>Bac</th>\n",
       "      <th>PCE</th>\n",
       "      <th>TCE</th>\n",
       "      <th>cDCE</th>\n",
       "      <th>tDCE</th>\n",
       "      <th>...</th>\n",
       "      <th>Methane</th>\n",
       "      <th>pH</th>\n",
       "      <th>DO</th>\n",
       "      <th>Redox</th>\n",
       "      <th>NO3</th>\n",
       "      <th>NO2</th>\n",
       "      <th>Ferrous</th>\n",
       "      <th>Sulfate</th>\n",
       "      <th>TOC</th>\n",
       "      <th>Chloride</th>\n",
       "    </tr>\n",
       "  </thead>\n",
       "  <tbody>\n",
       "    <tr>\n",
       "      <th>count</th>\n",
       "      <td>6.000000e+01</td>\n",
       "      <td>6.000000e+01</td>\n",
       "      <td>60.000000</td>\n",
       "      <td>6.000000e+01</td>\n",
       "      <td>6.000000e+01</td>\n",
       "      <td>1.200000e+01</td>\n",
       "      <td>222.000000</td>\n",
       "      <td>222.000000</td>\n",
       "      <td>222.000000</td>\n",
       "      <td>214.000000</td>\n",
       "      <td>...</td>\n",
       "      <td>222.000000</td>\n",
       "      <td>221.000000</td>\n",
       "      <td>221.000000</td>\n",
       "      <td>218.000000</td>\n",
       "      <td>214.000000</td>\n",
       "      <td>170.000000</td>\n",
       "      <td>190.000000</td>\n",
       "      <td>221.000000</td>\n",
       "      <td>222.000000</td>\n",
       "      <td>214.000000</td>\n",
       "    </tr>\n",
       "    <tr>\n",
       "      <th>mean</th>\n",
       "      <td>1.265321e+05</td>\n",
       "      <td>9.071605e+04</td>\n",
       "      <td>66006.196667</td>\n",
       "      <td>1.567222e+05</td>\n",
       "      <td>2.832544e+05</td>\n",
       "      <td>1.615025e+07</td>\n",
       "      <td>1943.458468</td>\n",
       "      <td>243.405342</td>\n",
       "      <td>1030.916216</td>\n",
       "      <td>48.076589</td>\n",
       "      <td>...</td>\n",
       "      <td>3523.983599</td>\n",
       "      <td>6.767421</td>\n",
       "      <td>1.695792</td>\n",
       "      <td>-66.949266</td>\n",
       "      <td>2.867991</td>\n",
       "      <td>0.547300</td>\n",
       "      <td>5.569263</td>\n",
       "      <td>44.496403</td>\n",
       "      <td>374.515991</td>\n",
       "      <td>63.530280</td>\n",
       "    </tr>\n",
       "    <tr>\n",
       "      <th>std</th>\n",
       "      <td>4.964519e+05</td>\n",
       "      <td>4.637998e+05</td>\n",
       "      <td>122417.816884</td>\n",
       "      <td>5.088562e+05</td>\n",
       "      <td>7.512042e+05</td>\n",
       "      <td>4.109335e+07</td>\n",
       "      <td>14392.404331</td>\n",
       "      <td>1017.279534</td>\n",
       "      <td>3887.285907</td>\n",
       "      <td>217.146400</td>\n",
       "      <td>...</td>\n",
       "      <td>5901.727258</td>\n",
       "      <td>0.574998</td>\n",
       "      <td>3.682131</td>\n",
       "      <td>98.747869</td>\n",
       "      <td>6.871372</td>\n",
       "      <td>0.924471</td>\n",
       "      <td>20.372691</td>\n",
       "      <td>82.586378</td>\n",
       "      <td>1231.753786</td>\n",
       "      <td>83.764297</td>\n",
       "    </tr>\n",
       "    <tr>\n",
       "      <th>min</th>\n",
       "      <td>2.000000e-01</td>\n",
       "      <td>0.000000e+00</td>\n",
       "      <td>0.500000</td>\n",
       "      <td>7.000000e-01</td>\n",
       "      <td>1.200000e+00</td>\n",
       "      <td>5.160000e+05</td>\n",
       "      <td>0.000000</td>\n",
       "      <td>0.200000</td>\n",
       "      <td>0.200000</td>\n",
       "      <td>0.000000</td>\n",
       "      <td>...</td>\n",
       "      <td>0.013000</td>\n",
       "      <td>5.610000</td>\n",
       "      <td>0.010000</td>\n",
       "      <td>-445.000000</td>\n",
       "      <td>0.040000</td>\n",
       "      <td>0.100000</td>\n",
       "      <td>0.000000</td>\n",
       "      <td>0.000000</td>\n",
       "      <td>0.800000</td>\n",
       "      <td>2.400000</td>\n",
       "    </tr>\n",
       "    <tr>\n",
       "      <th>25%</th>\n",
       "      <td>3.125000e+00</td>\n",
       "      <td>2.870000e+01</td>\n",
       "      <td>42.025000</td>\n",
       "      <td>7.318000e+02</td>\n",
       "      <td>1.075450e+03</td>\n",
       "      <td>1.130000e+06</td>\n",
       "      <td>0.270000</td>\n",
       "      <td>1.000000</td>\n",
       "      <td>11.000000</td>\n",
       "      <td>0.410000</td>\n",
       "      <td>...</td>\n",
       "      <td>58.025000</td>\n",
       "      <td>6.490000</td>\n",
       "      <td>0.340000</td>\n",
       "      <td>-116.375000</td>\n",
       "      <td>0.500000</td>\n",
       "      <td>0.500000</td>\n",
       "      <td>0.042500</td>\n",
       "      <td>3.530000</td>\n",
       "      <td>6.665000</td>\n",
       "      <td>21.800000</td>\n",
       "    </tr>\n",
       "    <tr>\n",
       "      <th>50%</th>\n",
       "      <td>4.265000e+01</td>\n",
       "      <td>1.065000e+03</td>\n",
       "      <td>1290.500000</td>\n",
       "      <td>8.170000e+03</td>\n",
       "      <td>1.425665e+04</td>\n",
       "      <td>2.895000e+06</td>\n",
       "      <td>1.150000</td>\n",
       "      <td>9.350000</td>\n",
       "      <td>95.200000</td>\n",
       "      <td>1.000000</td>\n",
       "      <td>...</td>\n",
       "      <td>621.500000</td>\n",
       "      <td>6.670000</td>\n",
       "      <td>0.610000</td>\n",
       "      <td>-79.100000</td>\n",
       "      <td>0.500000</td>\n",
       "      <td>0.500000</td>\n",
       "      <td>0.405000</td>\n",
       "      <td>27.400000</td>\n",
       "      <td>12.650000</td>\n",
       "      <td>32.350000</td>\n",
       "    </tr>\n",
       "    <tr>\n",
       "      <th>75%</th>\n",
       "      <td>2.467500e+04</td>\n",
       "      <td>8.620000e+03</td>\n",
       "      <td>49725.000000</td>\n",
       "      <td>1.695014e+05</td>\n",
       "      <td>1.946400e+05</td>\n",
       "      <td>8.585000e+06</td>\n",
       "      <td>8.450000</td>\n",
       "      <td>59.250000</td>\n",
       "      <td>687.500000</td>\n",
       "      <td>6.975000</td>\n",
       "      <td>...</td>\n",
       "      <td>4475.000000</td>\n",
       "      <td>6.860000</td>\n",
       "      <td>1.810000</td>\n",
       "      <td>-22.375000</td>\n",
       "      <td>1.117500</td>\n",
       "      <td>0.500000</td>\n",
       "      <td>1.357500</td>\n",
       "      <td>53.800000</td>\n",
       "      <td>36.175000</td>\n",
       "      <td>68.750000</td>\n",
       "    </tr>\n",
       "    <tr>\n",
       "      <th>max</th>\n",
       "      <td>3.610000e+06</td>\n",
       "      <td>3.540000e+06</td>\n",
       "      <td>456000.000000</td>\n",
       "      <td>3.830000e+06</td>\n",
       "      <td>4.130000e+06</td>\n",
       "      <td>1.460000e+08</td>\n",
       "      <td>149300.000000</td>\n",
       "      <td>10000.000000</td>\n",
       "      <td>51000.000000</td>\n",
       "      <td>2100.000000</td>\n",
       "      <td>...</td>\n",
       "      <td>34600.000000</td>\n",
       "      <td>9.160000</td>\n",
       "      <td>47.100000</td>\n",
       "      <td>227.600000</td>\n",
       "      <td>63.900000</td>\n",
       "      <td>12.000000</td>\n",
       "      <td>190.000000</td>\n",
       "      <td>666.000000</td>\n",
       "      <td>8300.000000</td>\n",
       "      <td>470.000000</td>\n",
       "    </tr>\n",
       "  </tbody>\n",
       "</table>\n",
       "<p>8 rows × 24 columns</p>\n",
       "</div>"
      ],
      "text/plain": [
       "               tceA          bvcA           vcrA      bvc+vcrA         t+b+v  \\\n",
       "count  6.000000e+01  6.000000e+01      60.000000  6.000000e+01  6.000000e+01   \n",
       "mean   1.265321e+05  9.071605e+04   66006.196667  1.567222e+05  2.832544e+05   \n",
       "std    4.964519e+05  4.637998e+05  122417.816884  5.088562e+05  7.512042e+05   \n",
       "min    2.000000e-01  0.000000e+00       0.500000  7.000000e-01  1.200000e+00   \n",
       "25%    3.125000e+00  2.870000e+01      42.025000  7.318000e+02  1.075450e+03   \n",
       "50%    4.265000e+01  1.065000e+03    1290.500000  8.170000e+03  1.425665e+04   \n",
       "75%    2.467500e+04  8.620000e+03   49725.000000  1.695014e+05  1.946400e+05   \n",
       "max    3.610000e+06  3.540000e+06  456000.000000  3.830000e+06  4.130000e+06   \n",
       "\n",
       "                Bac            PCE           TCE         cDCE         tDCE   \\\n",
       "count  1.200000e+01     222.000000    222.000000    222.000000   214.000000   \n",
       "mean   1.615025e+07    1943.458468    243.405342   1030.916216    48.076589   \n",
       "std    4.109335e+07   14392.404331   1017.279534   3887.285907   217.146400   \n",
       "min    5.160000e+05       0.000000      0.200000      0.200000     0.000000   \n",
       "25%    1.130000e+06       0.270000      1.000000     11.000000     0.410000   \n",
       "50%    2.895000e+06       1.150000      9.350000     95.200000     1.000000   \n",
       "75%    8.585000e+06       8.450000     59.250000    687.500000     6.975000   \n",
       "max    1.460000e+08  149300.000000  10000.000000  51000.000000  2100.000000   \n",
       "\n",
       "          ...           Methane         pH           DO       Redox  \\\n",
       "count     ...        222.000000  221.000000  221.000000  218.000000   \n",
       "mean      ...       3523.983599    6.767421    1.695792  -66.949266   \n",
       "std       ...       5901.727258    0.574998    3.682131   98.747869   \n",
       "min       ...          0.013000    5.610000    0.010000 -445.000000   \n",
       "25%       ...         58.025000    6.490000    0.340000 -116.375000   \n",
       "50%       ...        621.500000    6.670000    0.610000  -79.100000   \n",
       "75%       ...       4475.000000    6.860000    1.810000  -22.375000   \n",
       "max       ...      34600.000000    9.160000   47.100000  227.600000   \n",
       "\n",
       "              NO3         NO2     Ferrous     Sulfate          TOC    Chloride  \n",
       "count  214.000000  170.000000  190.000000  221.000000   222.000000  214.000000  \n",
       "mean     2.867991    0.547300    5.569263   44.496403   374.515991   63.530280  \n",
       "std      6.871372    0.924471   20.372691   82.586378  1231.753786   83.764297  \n",
       "min      0.040000    0.100000    0.000000    0.000000     0.800000    2.400000  \n",
       "25%      0.500000    0.500000    0.042500    3.530000     6.665000   21.800000  \n",
       "50%      0.500000    0.500000    0.405000   27.400000    12.650000   32.350000  \n",
       "75%      1.117500    0.500000    1.357500   53.800000    36.175000   68.750000  \n",
       "max     63.900000   12.000000  190.000000  666.000000  8300.000000  470.000000  \n",
       "\n",
       "[8 rows x 24 columns]"
      ]
     },
     "execution_count": 4,
     "metadata": {},
     "output_type": "execute_result"
    }
   ],
   "source": [
    "raw_sorted.describe()"
   ]
  },
  {
   "cell_type": "code",
   "execution_count": 5,
   "metadata": {},
   "outputs": [
    {
     "data": {
      "image/png": "[encoded data removed]",
      "text/plain": [
       "<Figure size 1440x1080 with 25 Axes>"
      ]
     },
     "metadata": {
      "needs_background": "light"
     },
     "output_type": "display_data"
    }
   ],
   "source": [
    "%matplotlib inline   \n",
    "import matplotlib.pyplot as plt\n",
    "\n",
    "raw_sorted.hist(bins = 50, figsize = (20, 15));"
   ]
  },
  {
   "cell_type": "markdown",
   "metadata": {},
   "source": [
    "### Question 1\n",
    "\n",
    "* What do these histograms and the column descriptions tell us?\n",
    "\n",
    "### Handling missing values and non-numeric data\n",
    "\n",
    "Something we want to be aware of is just how much of the data is missing. Most algorithms can't handle missing data, so we have to decide what we want to do with it before feeding the data into an algorithm. Typical choices are:\n",
    "\n",
    "* Remove observations (rows) with any missing values\n",
    "* Remove attributes (columns) with any missing values\n",
    "* Impute missing values\n",
    "\n",
    "There are variations on these, but these are the most common ones. Personally, I remove attributes that have over 30% of its values missing and I impute the rest (this number isn't something I've thought deeply about). Let's see what percentage of each column is missing:"
   ]
  },
  {
   "cell_type": "code",
   "execution_count": 11,
   "metadata": {},
   "outputs": [],
   "source": [
    "def get_missing_percentage(df):\n",
    "    percent_missing = df.isnull().sum() * 100 / len(df)\n",
    "    missing_value_df = pd.DataFrame({'column_name': df.columns,\n",
    "                                     'percent_missing': percent_missing})\n",
    "    return missing_value_df"
   ]
  },
  {
   "cell_type": "code",
   "execution_count": 7,
   "metadata": {},
   "outputs": [
    {
     "data": {
      "text/html": [
       "<div>\n",
       "<style scoped>\n",
       "    .dataframe tbody tr th:only-of-type {\n",
       "        vertical-align: middle;\n",
       "    }\n",
       "\n",
       "    .dataframe tbody tr th {\n",
       "        vertical-align: top;\n",
       "    }\n",
       "\n",
       "    .dataframe thead th {\n",
       "        text-align: right;\n",
       "    }\n",
       "</style>\n",
       "<table border=\"1\" class=\"dataframe\">\n",
       "  <thead>\n",
       "    <tr style=\"text-align: right;\">\n",
       "      <th></th>\n",
       "      <th>column_name</th>\n",
       "      <th>percent_missing</th>\n",
       "    </tr>\n",
       "  </thead>\n",
       "  <tbody>\n",
       "    <tr>\n",
       "      <th>Internal Wel lID</th>\n",
       "      <td>Internal Wel lID</td>\n",
       "      <td>0.000000</td>\n",
       "    </tr>\n",
       "    <tr>\n",
       "      <th>Date</th>\n",
       "      <td>Date</td>\n",
       "      <td>0.000000</td>\n",
       "    </tr>\n",
       "    <tr>\n",
       "      <th>tceA</th>\n",
       "      <td>tceA</td>\n",
       "      <td>72.972973</td>\n",
       "    </tr>\n",
       "    <tr>\n",
       "      <th>bvcA</th>\n",
       "      <td>bvcA</td>\n",
       "      <td>72.972973</td>\n",
       "    </tr>\n",
       "    <tr>\n",
       "      <th>vcrA</th>\n",
       "      <td>vcrA</td>\n",
       "      <td>72.972973</td>\n",
       "    </tr>\n",
       "    <tr>\n",
       "      <th>bvc+vcrA</th>\n",
       "      <td>bvc+vcrA</td>\n",
       "      <td>72.972973</td>\n",
       "    </tr>\n",
       "    <tr>\n",
       "      <th>t+b+v</th>\n",
       "      <td>t+b+v</td>\n",
       "      <td>72.972973</td>\n",
       "    </tr>\n",
       "    <tr>\n",
       "      <th>Bac</th>\n",
       "      <td>Bac</td>\n",
       "      <td>94.594595</td>\n",
       "    </tr>\n",
       "    <tr>\n",
       "      <th>PCE</th>\n",
       "      <td>PCE</td>\n",
       "      <td>0.000000</td>\n",
       "    </tr>\n",
       "    <tr>\n",
       "      <th>TCE</th>\n",
       "      <td>TCE</td>\n",
       "      <td>0.000000</td>\n",
       "    </tr>\n",
       "    <tr>\n",
       "      <th>cDCE</th>\n",
       "      <td>cDCE</td>\n",
       "      <td>0.000000</td>\n",
       "    </tr>\n",
       "    <tr>\n",
       "      <th>tDCE</th>\n",
       "      <td>tDCE</td>\n",
       "      <td>3.603604</td>\n",
       "    </tr>\n",
       "    <tr>\n",
       "      <th>VC</th>\n",
       "      <td>VC</td>\n",
       "      <td>0.000000</td>\n",
       "    </tr>\n",
       "    <tr>\n",
       "      <th>Ethene</th>\n",
       "      <td>Ethene</td>\n",
       "      <td>0.000000</td>\n",
       "    </tr>\n",
       "    <tr>\n",
       "      <th>DP</th>\n",
       "      <td>DP</td>\n",
       "      <td>0.000000</td>\n",
       "    </tr>\n",
       "    <tr>\n",
       "      <th>Dhc16S</th>\n",
       "      <td>Dhc16S</td>\n",
       "      <td>0.000000</td>\n",
       "    </tr>\n",
       "    <tr>\n",
       "      <th>Methane</th>\n",
       "      <td>Methane</td>\n",
       "      <td>0.000000</td>\n",
       "    </tr>\n",
       "    <tr>\n",
       "      <th>pH</th>\n",
       "      <td>pH</td>\n",
       "      <td>0.450450</td>\n",
       "    </tr>\n",
       "    <tr>\n",
       "      <th>DO</th>\n",
       "      <td>DO</td>\n",
       "      <td>0.450450</td>\n",
       "    </tr>\n",
       "    <tr>\n",
       "      <th>Redox</th>\n",
       "      <td>Redox</td>\n",
       "      <td>1.801802</td>\n",
       "    </tr>\n",
       "    <tr>\n",
       "      <th>NO3</th>\n",
       "      <td>NO3</td>\n",
       "      <td>3.603604</td>\n",
       "    </tr>\n",
       "    <tr>\n",
       "      <th>NO2</th>\n",
       "      <td>NO2</td>\n",
       "      <td>23.423423</td>\n",
       "    </tr>\n",
       "    <tr>\n",
       "      <th>Ferrous</th>\n",
       "      <td>Ferrous</td>\n",
       "      <td>14.414414</td>\n",
       "    </tr>\n",
       "    <tr>\n",
       "      <th>Sulfate</th>\n",
       "      <td>Sulfate</td>\n",
       "      <td>0.450450</td>\n",
       "    </tr>\n",
       "    <tr>\n",
       "      <th>TOC</th>\n",
       "      <td>TOC</td>\n",
       "      <td>0.000000</td>\n",
       "    </tr>\n",
       "    <tr>\n",
       "      <th>Chloride</th>\n",
       "      <td>Chloride</td>\n",
       "      <td>3.603604</td>\n",
       "    </tr>\n",
       "  </tbody>\n",
       "</table>\n",
       "</div>"
      ],
      "text/plain": [
       "                       column_name  percent_missing\n",
       "Internal Wel lID  Internal Wel lID         0.000000\n",
       "Date                          Date         0.000000\n",
       "tceA                          tceA        72.972973\n",
       "bvcA                          bvcA        72.972973\n",
       "vcrA                          vcrA        72.972973\n",
       "bvc+vcrA                  bvc+vcrA        72.972973\n",
       "t+b+v                        t+b+v        72.972973\n",
       "Bac                            Bac        94.594595\n",
       "PCE                            PCE         0.000000\n",
       "TCE                            TCE         0.000000\n",
       "cDCE                         cDCE          0.000000\n",
       "tDCE                         tDCE          3.603604\n",
       "VC                              VC         0.000000\n",
       "Ethene                      Ethene         0.000000\n",
       "DP                              DP         0.000000\n",
       "Dhc16S                      Dhc16S         0.000000\n",
       "Methane                    Methane         0.000000\n",
       "pH                             pH          0.450450\n",
       "DO                              DO         0.450450\n",
       "Redox                        Redox         1.801802\n",
       "NO3                            NO3         3.603604\n",
       "NO2                            NO2        23.423423\n",
       "Ferrous                    Ferrous        14.414414\n",
       "Sulfate                    Sulfate         0.450450\n",
       "TOC                            TOC         0.000000\n",
       "Chloride                  Chloride         3.603604"
      ]
     },
     "execution_count": 7,
     "metadata": {},
     "output_type": "execute_result"
    }
   ],
   "source": [
    "missing_percentage = get_missing_percentage(raw_sorted)\n",
    "missing_percentage"
   ]
  },
  {
   "cell_type": "markdown",
   "metadata": {},
   "source": [
    "There are quite a few columns with over 30% of its values missing. Let's go ahead and remove them. First, we'll go ahead and make a list of all those column names:"
   ]
  },
  {
   "cell_type": "code",
   "execution_count": 12,
   "metadata": {},
   "outputs": [],
   "source": [
    "variables_to_drop = missing_percentage.query('percent_missing > 30')"
   ]
  },
  {
   "cell_type": "code",
   "execution_count": 13,
   "metadata": {},
   "outputs": [
    {
     "data": {
      "text/html": [
       "<div>\n",
       "<style scoped>\n",
       "    .dataframe tbody tr th:only-of-type {\n",
       "        vertical-align: middle;\n",
       "    }\n",
       "\n",
       "    .dataframe tbody tr th {\n",
       "        vertical-align: top;\n",
       "    }\n",
       "\n",
       "    .dataframe thead th {\n",
       "        text-align: right;\n",
       "    }\n",
       "</style>\n",
       "<table border=\"1\" class=\"dataframe\">\n",
       "  <thead>\n",
       "    <tr style=\"text-align: right;\">\n",
       "      <th></th>\n",
       "      <th>column_name</th>\n",
       "      <th>percent_missing</th>\n",
       "    </tr>\n",
       "  </thead>\n",
       "  <tbody>\n",
       "    <tr>\n",
       "      <th>tceA</th>\n",
       "      <td>tceA</td>\n",
       "      <td>72.972973</td>\n",
       "    </tr>\n",
       "    <tr>\n",
       "      <th>bvcA</th>\n",
       "      <td>bvcA</td>\n",
       "      <td>72.972973</td>\n",
       "    </tr>\n",
       "    <tr>\n",
       "      <th>vcrA</th>\n",
       "      <td>vcrA</td>\n",
       "      <td>72.972973</td>\n",
       "    </tr>\n",
       "    <tr>\n",
       "      <th>bvc+vcrA</th>\n",
       "      <td>bvc+vcrA</td>\n",
       "      <td>72.972973</td>\n",
       "    </tr>\n",
       "    <tr>\n",
       "      <th>t+b+v</th>\n",
       "      <td>t+b+v</td>\n",
       "      <td>72.972973</td>\n",
       "    </tr>\n",
       "    <tr>\n",
       "      <th>Bac</th>\n",
       "      <td>Bac</td>\n",
       "      <td>94.594595</td>\n",
       "    </tr>\n",
       "  </tbody>\n",
       "</table>\n",
       "</div>"
      ],
      "text/plain": [
       "         column_name  percent_missing\n",
       "tceA            tceA        72.972973\n",
       "bvcA            bvcA        72.972973\n",
       "vcrA            vcrA        72.972973\n",
       "bvc+vcrA    bvc+vcrA        72.972973\n",
       "t+b+v          t+b+v        72.972973\n",
       "Bac              Bac        94.594595"
      ]
     },
     "execution_count": 13,
     "metadata": {},
     "output_type": "execute_result"
    }
   ],
   "source": [
    "variables_to_drop"
   ]
  },
  {
   "cell_type": "markdown",
   "metadata": {},
   "source": [
    "Here are the column names before dropping:"
   ]
  },
  {
   "cell_type": "code",
   "execution_count": 14,
   "metadata": {},
   "outputs": [
    {
     "data": {
      "text/plain": [
       "['Internal Wel lID',\n",
       " 'Date',\n",
       " 'tceA',\n",
       " 'bvcA',\n",
       " 'vcrA',\n",
       " 'bvc+vcrA',\n",
       " 't+b+v',\n",
       " 'Bac',\n",
       " 'PCE',\n",
       " 'TCE',\n",
       " 'cDCE ',\n",
       " 'tDCE ',\n",
       " 'VC',\n",
       " 'Ethene',\n",
       " 'DP',\n",
       " 'Dhc16S',\n",
       " 'Methane',\n",
       " 'pH ',\n",
       " 'DO',\n",
       " 'Redox',\n",
       " 'NO3',\n",
       " 'NO2',\n",
       " 'Ferrous',\n",
       " 'Sulfate',\n",
       " 'TOC',\n",
       " 'Chloride']"
      ]
     },
     "execution_count": 14,
     "metadata": {},
     "output_type": "execute_result"
    }
   ],
   "source": [
    "list(raw_sorted)"
   ]
  },
  {
   "cell_type": "markdown",
   "metadata": {},
   "source": [
    "And the column names after dropping them:"
   ]
  },
  {
   "cell_type": "code",
   "execution_count": 15,
   "metadata": {},
   "outputs": [],
   "source": [
    "raw_sorted.drop(variables_to_drop['column_name'], axis = 1, inplace = True)"
   ]
  },
  {
   "cell_type": "code",
   "execution_count": 16,
   "metadata": {},
   "outputs": [
    {
     "data": {
      "text/plain": [
       "['Internal Wel lID',\n",
       " 'Date',\n",
       " 'PCE',\n",
       " 'TCE',\n",
       " 'cDCE ',\n",
       " 'tDCE ',\n",
       " 'VC',\n",
       " 'Ethene',\n",
       " 'DP',\n",
       " 'Dhc16S',\n",
       " 'Methane',\n",
       " 'pH ',\n",
       " 'DO',\n",
       " 'Redox',\n",
       " 'NO3',\n",
       " 'NO2',\n",
       " 'Ferrous',\n",
       " 'Sulfate',\n",
       " 'TOC',\n",
       " 'Chloride']"
      ]
     },
     "execution_count": 16,
     "metadata": {},
     "output_type": "execute_result"
    }
   ],
   "source": [
    "list(raw_sorted)"
   ]
  },
  {
   "cell_type": "markdown",
   "metadata": {},
   "source": [
    "Another concern is how to handle non-numeric data. Here, `Internal Wel lID` and `Date` are the only non-numerical attributes. It's possible that there are phenomena happening at certain time points or at certain wells (or at certain wells over a period of time) that are worth capturing. We're going to ignore that for now:"
   ]
  },
  {
   "cell_type": "code",
   "execution_count": 17,
   "metadata": {},
   "outputs": [],
   "source": [
    "raw_sorted.drop([\"Internal Wel lID\", \"Date\"], axis = 1, inplace = True)"
   ]
  },
  {
   "cell_type": "code",
   "execution_count": 18,
   "metadata": {},
   "outputs": [
    {
     "data": {
      "text/plain": [
       "['PCE',\n",
       " 'TCE',\n",
       " 'cDCE ',\n",
       " 'tDCE ',\n",
       " 'VC',\n",
       " 'Ethene',\n",
       " 'DP',\n",
       " 'Dhc16S',\n",
       " 'Methane',\n",
       " 'pH ',\n",
       " 'DO',\n",
       " 'Redox',\n",
       " 'NO3',\n",
       " 'NO2',\n",
       " 'Ferrous',\n",
       " 'Sulfate',\n",
       " 'TOC',\n",
       " 'Chloride']"
      ]
     },
     "execution_count": 18,
     "metadata": {},
     "output_type": "execute_result"
    }
   ],
   "source": [
    "list(raw_sorted)"
   ]
  },
  {
   "cell_type": "markdown",
   "metadata": {},
   "source": [
    "### Examining attribute-by-attribute relationships\n",
    "\n",
    "Before we pick our models, we want to check out if there are any obvious or interesting relationships going on between variables. One easy way to do this is by looking at the correlation between variables:"
   ]
  },
  {
   "cell_type": "code",
   "execution_count": 19,
   "metadata": {},
   "outputs": [
    {
     "data": {
      "text/plain": [
       "DP          1.000000\n",
       "Redox       0.341748\n",
       "NO3         0.315322\n",
       "Sulfate     0.241606\n",
       "NO2         0.191762\n",
       "Chloride    0.191427\n",
       "TCE         0.186826\n",
       "PCE         0.148893\n",
       "cDCE        0.106581\n",
       "DO          0.005669\n",
       "TOC        -0.051471\n",
       "Dhc16S     -0.064401\n",
       "VC         -0.070790\n",
       "tDCE       -0.089825\n",
       "pH         -0.102188\n",
       "Ethene     -0.298441\n",
       "Ferrous    -0.335485\n",
       "Methane    -0.409594\n",
       "Name: DP, dtype: float64"
      ]
     },
     "execution_count": 19,
     "metadata": {},
     "output_type": "execute_result"
    }
   ],
   "source": [
    "gw_corr_matrix = raw_sorted.corr(method = \"pearson\")\n",
    "\n",
    "gw_corr_matrix[\"DP\"].sort_values(ascending = False)"
   ]
  },
  {
   "cell_type": "markdown",
   "metadata": {},
   "source": [
    "There doesn't seem to be any strong linear relationships between variables. We'll visualize the highest ranking correlations just to be sure, though:"
   ]
  },
  {
   "cell_type": "code",
   "execution_count": 20,
   "metadata": {},
   "outputs": [],
   "source": [
    "interesting_attributes = list(abs(gw_corr_matrix[\"DP\"]).sort_values(ascending = False).head(6).index)\n",
    "interesting_attributes.remove(\"DP\")"
   ]
  },
  {
   "cell_type": "code",
   "execution_count": 21,
   "metadata": {},
   "outputs": [
    {
     "data": {
      "text/plain": [
       "['Methane', 'Redox', 'Ferrous', 'NO3', 'Ethene']"
      ]
     },
     "execution_count": 21,
     "metadata": {},
     "output_type": "execute_result"
    }
   ],
   "source": [
    "interesting_attributes"
   ]
  },
  {
   "cell_type": "code",
   "execution_count": 22,
   "metadata": {},
   "outputs": [
    {
     "data": {
      "image/png": "[encoded data removed]",
      "text/plain": [
       "<Figure size 864x576 with 25 Axes>"
      ]
     },
     "metadata": {
      "needs_background": "light"
     },
     "output_type": "display_data"
    }
   ],
   "source": [
    "from pandas.plotting import scatter_matrix\n",
    "scatter_matrix(raw_sorted[interesting_attributes], figsize=(12, 8));"
   ]
  },
  {
   "cell_type": "markdown",
   "metadata": {},
   "source": [
    "### Question 2\n",
    "\n",
    "* How do you read this?\n",
    "* How would finding a strong correlation between variables inform our choice of model?\n",
    "\n",
    "### Preprocessing the data\n",
    "\n",
    "As always, we split our data into testing and training sets before we proceed. We start by separating our target variable `DP`:"
   ]
  },
  {
   "cell_type": "code",
   "execution_count": 23,
   "metadata": {},
   "outputs": [],
   "source": [
    "gw_targets = raw_sorted[\"DP\"]"
   ]
  },
  {
   "cell_type": "code",
   "execution_count": 24,
   "metadata": {},
   "outputs": [
    {
     "data": {
      "text/plain": [
       "(222,)"
      ]
     },
     "execution_count": 24,
     "metadata": {},
     "output_type": "execute_result"
    }
   ],
   "source": [
    "gw_targets.shape"
   ]
  },
  {
   "cell_type": "code",
   "execution_count": 25,
   "metadata": {},
   "outputs": [],
   "source": [
    "gw_attributes = raw_sorted.loc[:, raw_sorted.columns != \"DP\"]"
   ]
  },
  {
   "cell_type": "code",
   "execution_count": 26,
   "metadata": {},
   "outputs": [
    {
     "data": {
      "text/plain": [
       "(222, 17)"
      ]
     },
     "execution_count": 26,
     "metadata": {},
     "output_type": "execute_result"
    }
   ],
   "source": [
    "gw_attributes.shape"
   ]
  },
  {
   "cell_type": "markdown",
   "metadata": {},
   "source": [
    "And now we'll use `train_test_split` to separate the data into training and testing sets:"
   ]
  },
  {
   "cell_type": "code",
   "execution_count": 28,
   "metadata": {},
   "outputs": [],
   "source": [
    "from sklearn.model_selection import train_test_split\n",
    "\n",
    "x_train, x_test, y_train, y_test = train_test_split(\n",
    "    gw_attributes, gw_targets, test_size = 0.2, random_state = 489)"
   ]
  },
  {
   "cell_type": "markdown",
   "metadata": {},
   "source": [
    "We're now going to address the remaining missing values. I mentioned previously that I throw away attributes with more than 30% missing observations. We'll now impute the remaining attributes using `SimpleImputer` set to `median`."
   ]
  },
  {
   "cell_type": "code",
   "execution_count": 29,
   "metadata": {},
   "outputs": [],
   "source": [
    "from sklearn.impute import SimpleImputer\n",
    "\n",
    "gw_imputer = SimpleImputer(strategy = \"median\")"
   ]
  },
  {
   "cell_type": "markdown",
   "metadata": {},
   "source": [
    "We'll now fit the imputer to the training data by calling its `fit` method:"
   ]
  },
  {
   "cell_type": "code",
   "execution_count": 30,
   "metadata": {},
   "outputs": [
    {
     "data": {
      "text/plain": [
       "SimpleImputer(copy=True, fill_value=None, missing_values=nan,\n",
       "       strategy='median', verbose=0)"
      ]
     },
     "execution_count": 30,
     "metadata": {},
     "output_type": "execute_result"
    }
   ],
   "source": [
    "gw_imputer.fit(x_train)"
   ]
  },
  {
   "cell_type": "markdown",
   "metadata": {},
   "source": [
    "`gw_imputer` has calculated the median of all the data. We can see the calculated medians in the `statistics` attribute of `gw_imputer`:"
   ]
  },
  {
   "cell_type": "code",
   "execution_count": 31,
   "metadata": {},
   "outputs": [
    {
     "data": {
      "text/plain": [
       "array([ 1.70e+00,  1.00e+01,  9.40e+01,  1.00e+00,  4.35e+01,  3.00e+00,\n",
       "        1.32e+04,  6.33e+02,  6.65e+00,  5.70e-01, -7.81e+01,  5.00e-01,\n",
       "        5.00e-01,  4.70e-01,  2.84e+01,  1.40e+01,  3.28e+01])"
      ]
     },
     "execution_count": 31,
     "metadata": {},
     "output_type": "execute_result"
    }
   ],
   "source": [
    "gw_imputer.statistics_"
   ]
  },
  {
   "cell_type": "markdown",
   "metadata": {},
   "source": [
    "And we can verify that:"
   ]
  },
  {
   "cell_type": "code",
   "execution_count": 32,
   "metadata": {},
   "outputs": [
    {
     "data": {
      "text/plain": [
       "PCE             1.70\n",
       "TCE            10.00\n",
       "cDCE           94.00\n",
       "tDCE            1.00\n",
       "VC             43.50\n",
       "Ethene          3.00\n",
       "Dhc16S      13200.00\n",
       "Methane       633.00\n",
       "pH              6.65\n",
       "DO              0.57\n",
       "Redox         -78.10\n",
       "NO3             0.50\n",
       "NO2             0.50\n",
       "Ferrous         0.47\n",
       "Sulfate        28.40\n",
       "TOC            14.00\n",
       "Chloride       32.80\n",
       "dtype: float64"
      ]
     },
     "execution_count": 32,
     "metadata": {},
     "output_type": "execute_result"
    }
   ],
   "source": [
    "x_train.median()"
   ]
  },
  {
   "cell_type": "markdown",
   "metadata": {},
   "source": [
    "Now that the imputer has been fit to the data, we can fill in the missing values via the `transform` method:"
   ]
  },
  {
   "cell_type": "code",
   "execution_count": 33,
   "metadata": {},
   "outputs": [
    {
     "data": {
      "text/plain": [
       "array([[5.20e+00, 4.40e+00, 2.40e+02, ..., 7.02e+01, 1.37e+01, 9.77e+01],\n",
       "       [1.70e+02, 3.90e+01, 6.00e+01, ..., 4.13e+01, 5.99e+00, 2.80e+01],\n",
       "       [6.30e-01, 9.10e+00, 1.10e+01, ..., 2.34e+01, 5.69e+01, 3.78e+01],\n",
       "       ...,\n",
       "       [2.00e-01, 2.10e+00, 1.52e+01, ..., 3.26e+01, 2.50e+00, 2.43e+01],\n",
       "       [2.70e-01, 2.80e-01, 2.50e+00, ..., 4.54e+01, 6.80e+00, 3.28e+01],\n",
       "       [9.80e+00, 1.20e+00, 1.50e+00, ..., 6.39e+01, 9.10e+00, 2.53e+01]])"
      ]
     },
     "execution_count": 33,
     "metadata": {},
     "output_type": "execute_result"
    }
   ],
   "source": [
    "gw_imputer.transform(x_train)"
   ]
  },
  {
   "cell_type": "markdown",
   "metadata": {},
   "source": [
    "This returns a numpy array. We can convert it back to a dataframe by doing:"
   ]
  },
  {
   "cell_type": "code",
   "execution_count": 34,
   "metadata": {},
   "outputs": [],
   "source": [
    "x_train_imp = pd.DataFrame(gw_imputer.transform(x_train), \n",
    "                          columns = x_train.columns)"
   ]
  },
  {
   "cell_type": "code",
   "execution_count": 35,
   "metadata": {},
   "outputs": [
    {
     "data": {
      "text/html": [
       "<div>\n",
       "<style scoped>\n",
       "    .dataframe tbody tr th:only-of-type {\n",
       "        vertical-align: middle;\n",
       "    }\n",
       "\n",
       "    .dataframe tbody tr th {\n",
       "        vertical-align: top;\n",
       "    }\n",
       "\n",
       "    .dataframe thead th {\n",
       "        text-align: right;\n",
       "    }\n",
       "</style>\n",
       "<table border=\"1\" class=\"dataframe\">\n",
       "  <thead>\n",
       "    <tr style=\"text-align: right;\">\n",
       "      <th></th>\n",
       "      <th>PCE</th>\n",
       "      <th>TCE</th>\n",
       "      <th>cDCE</th>\n",
       "      <th>tDCE</th>\n",
       "      <th>VC</th>\n",
       "      <th>Ethene</th>\n",
       "      <th>Dhc16S</th>\n",
       "      <th>Methane</th>\n",
       "      <th>pH</th>\n",
       "      <th>DO</th>\n",
       "      <th>Redox</th>\n",
       "      <th>NO3</th>\n",
       "      <th>NO2</th>\n",
       "      <th>Ferrous</th>\n",
       "      <th>Sulfate</th>\n",
       "      <th>TOC</th>\n",
       "      <th>Chloride</th>\n",
       "    </tr>\n",
       "  </thead>\n",
       "  <tbody>\n",
       "    <tr>\n",
       "      <th>0</th>\n",
       "      <td>5.20</td>\n",
       "      <td>4.4</td>\n",
       "      <td>240.0</td>\n",
       "      <td>6.10</td>\n",
       "      <td>180.00</td>\n",
       "      <td>40.4</td>\n",
       "      <td>650000.0</td>\n",
       "      <td>633.00</td>\n",
       "      <td>6.88</td>\n",
       "      <td>0.38</td>\n",
       "      <td>226.8</td>\n",
       "      <td>0.500</td>\n",
       "      <td>0.5</td>\n",
       "      <td>1.14</td>\n",
       "      <td>70.200</td>\n",
       "      <td>13.70</td>\n",
       "      <td>97.7</td>\n",
       "    </tr>\n",
       "    <tr>\n",
       "      <th>1</th>\n",
       "      <td>170.00</td>\n",
       "      <td>39.0</td>\n",
       "      <td>60.0</td>\n",
       "      <td>0.58</td>\n",
       "      <td>15.00</td>\n",
       "      <td>0.5</td>\n",
       "      <td>768000.0</td>\n",
       "      <td>346.00</td>\n",
       "      <td>6.74</td>\n",
       "      <td>1.29</td>\n",
       "      <td>61.3</td>\n",
       "      <td>4.320</td>\n",
       "      <td>0.5</td>\n",
       "      <td>0.02</td>\n",
       "      <td>41.300</td>\n",
       "      <td>5.99</td>\n",
       "      <td>28.0</td>\n",
       "    </tr>\n",
       "    <tr>\n",
       "      <th>2</th>\n",
       "      <td>0.63</td>\n",
       "      <td>9.1</td>\n",
       "      <td>11.0</td>\n",
       "      <td>1.20</td>\n",
       "      <td>0.34</td>\n",
       "      <td>0.5</td>\n",
       "      <td>10.0</td>\n",
       "      <td>0.25</td>\n",
       "      <td>6.84</td>\n",
       "      <td>4.30</td>\n",
       "      <td>158.8</td>\n",
       "      <td>7.900</td>\n",
       "      <td>0.5</td>\n",
       "      <td>0.06</td>\n",
       "      <td>23.400</td>\n",
       "      <td>56.90</td>\n",
       "      <td>37.8</td>\n",
       "    </tr>\n",
       "    <tr>\n",
       "      <th>3</th>\n",
       "      <td>60.00</td>\n",
       "      <td>20.0</td>\n",
       "      <td>41.0</td>\n",
       "      <td>1300.00</td>\n",
       "      <td>1100.00</td>\n",
       "      <td>8040.0</td>\n",
       "      <td>103000.0</td>\n",
       "      <td>314.00</td>\n",
       "      <td>6.32</td>\n",
       "      <td>0.04</td>\n",
       "      <td>-105.0</td>\n",
       "      <td>0.500</td>\n",
       "      <td>0.5</td>\n",
       "      <td>100.00</td>\n",
       "      <td>0.000</td>\n",
       "      <td>1900.00</td>\n",
       "      <td>32.8</td>\n",
       "    </tr>\n",
       "    <tr>\n",
       "      <th>4</th>\n",
       "      <td>65.00</td>\n",
       "      <td>47.0</td>\n",
       "      <td>1000.0</td>\n",
       "      <td>12.00</td>\n",
       "      <td>550.00</td>\n",
       "      <td>119.0</td>\n",
       "      <td>5700000.0</td>\n",
       "      <td>2750.00</td>\n",
       "      <td>6.75</td>\n",
       "      <td>0.90</td>\n",
       "      <td>-84.6</td>\n",
       "      <td>0.663</td>\n",
       "      <td>0.5</td>\n",
       "      <td>3.30</td>\n",
       "      <td>0.598</td>\n",
       "      <td>12.40</td>\n",
       "      <td>47.3</td>\n",
       "    </tr>\n",
       "  </tbody>\n",
       "</table>\n",
       "</div>"
      ],
      "text/plain": [
       "      PCE   TCE   cDCE     tDCE        VC  Ethene     Dhc16S  Methane   pH   \\\n",
       "0    5.20   4.4   240.0     6.10   180.00    40.4   650000.0   633.00  6.88   \n",
       "1  170.00  39.0    60.0     0.58    15.00     0.5   768000.0   346.00  6.74   \n",
       "2    0.63   9.1    11.0     1.20     0.34     0.5       10.0     0.25  6.84   \n",
       "3   60.00  20.0    41.0  1300.00  1100.00  8040.0   103000.0   314.00  6.32   \n",
       "4   65.00  47.0  1000.0    12.00   550.00   119.0  5700000.0  2750.00  6.75   \n",
       "\n",
       "     DO  Redox    NO3  NO2  Ferrous  Sulfate      TOC  Chloride  \n",
       "0  0.38  226.8  0.500  0.5     1.14   70.200    13.70      97.7  \n",
       "1  1.29   61.3  4.320  0.5     0.02   41.300     5.99      28.0  \n",
       "2  4.30  158.8  7.900  0.5     0.06   23.400    56.90      37.8  \n",
       "3  0.04 -105.0  0.500  0.5   100.00    0.000  1900.00      32.8  \n",
       "4  0.90  -84.6  0.663  0.5     3.30    0.598    12.40      47.3  "
      ]
     },
     "execution_count": 35,
     "metadata": {},
     "output_type": "execute_result"
    }
   ],
   "source": [
    "x_train_imp.head()"
   ]
  },
  {
   "cell_type": "markdown",
   "metadata": {},
   "source": [
    "We can see if the missing values have been filled in with our `get_missing_percentage` function:"
   ]
  },
  {
   "cell_type": "code",
   "execution_count": 36,
   "metadata": {},
   "outputs": [
    {
     "data": {
      "text/html": [
       "<div>\n",
       "<style scoped>\n",
       "    .dataframe tbody tr th:only-of-type {\n",
       "        vertical-align: middle;\n",
       "    }\n",
       "\n",
       "    .dataframe tbody tr th {\n",
       "        vertical-align: top;\n",
       "    }\n",
       "\n",
       "    .dataframe thead th {\n",
       "        text-align: right;\n",
       "    }\n",
       "</style>\n",
       "<table border=\"1\" class=\"dataframe\">\n",
       "  <thead>\n",
       "    <tr style=\"text-align: right;\">\n",
       "      <th></th>\n",
       "      <th>column_name</th>\n",
       "      <th>percent_missing</th>\n",
       "    </tr>\n",
       "  </thead>\n",
       "  <tbody>\n",
       "    <tr>\n",
       "      <th>PCE</th>\n",
       "      <td>PCE</td>\n",
       "      <td>0.0</td>\n",
       "    </tr>\n",
       "    <tr>\n",
       "      <th>TCE</th>\n",
       "      <td>TCE</td>\n",
       "      <td>0.0</td>\n",
       "    </tr>\n",
       "    <tr>\n",
       "      <th>cDCE</th>\n",
       "      <td>cDCE</td>\n",
       "      <td>0.0</td>\n",
       "    </tr>\n",
       "    <tr>\n",
       "      <th>tDCE</th>\n",
       "      <td>tDCE</td>\n",
       "      <td>0.0</td>\n",
       "    </tr>\n",
       "    <tr>\n",
       "      <th>VC</th>\n",
       "      <td>VC</td>\n",
       "      <td>0.0</td>\n",
       "    </tr>\n",
       "    <tr>\n",
       "      <th>Ethene</th>\n",
       "      <td>Ethene</td>\n",
       "      <td>0.0</td>\n",
       "    </tr>\n",
       "    <tr>\n",
       "      <th>Dhc16S</th>\n",
       "      <td>Dhc16S</td>\n",
       "      <td>0.0</td>\n",
       "    </tr>\n",
       "    <tr>\n",
       "      <th>Methane</th>\n",
       "      <td>Methane</td>\n",
       "      <td>0.0</td>\n",
       "    </tr>\n",
       "    <tr>\n",
       "      <th>pH</th>\n",
       "      <td>pH</td>\n",
       "      <td>0.0</td>\n",
       "    </tr>\n",
       "    <tr>\n",
       "      <th>DO</th>\n",
       "      <td>DO</td>\n",
       "      <td>0.0</td>\n",
       "    </tr>\n",
       "    <tr>\n",
       "      <th>Redox</th>\n",
       "      <td>Redox</td>\n",
       "      <td>0.0</td>\n",
       "    </tr>\n",
       "    <tr>\n",
       "      <th>NO3</th>\n",
       "      <td>NO3</td>\n",
       "      <td>0.0</td>\n",
       "    </tr>\n",
       "    <tr>\n",
       "      <th>NO2</th>\n",
       "      <td>NO2</td>\n",
       "      <td>0.0</td>\n",
       "    </tr>\n",
       "    <tr>\n",
       "      <th>Ferrous</th>\n",
       "      <td>Ferrous</td>\n",
       "      <td>0.0</td>\n",
       "    </tr>\n",
       "    <tr>\n",
       "      <th>Sulfate</th>\n",
       "      <td>Sulfate</td>\n",
       "      <td>0.0</td>\n",
       "    </tr>\n",
       "    <tr>\n",
       "      <th>TOC</th>\n",
       "      <td>TOC</td>\n",
       "      <td>0.0</td>\n",
       "    </tr>\n",
       "    <tr>\n",
       "      <th>Chloride</th>\n",
       "      <td>Chloride</td>\n",
       "      <td>0.0</td>\n",
       "    </tr>\n",
       "  </tbody>\n",
       "</table>\n",
       "</div>"
      ],
      "text/plain": [
       "         column_name  percent_missing\n",
       "PCE              PCE              0.0\n",
       "TCE              TCE              0.0\n",
       "cDCE           cDCE               0.0\n",
       "tDCE           tDCE               0.0\n",
       "VC                VC              0.0\n",
       "Ethene        Ethene              0.0\n",
       "Dhc16S        Dhc16S              0.0\n",
       "Methane      Methane              0.0\n",
       "pH               pH               0.0\n",
       "DO                DO              0.0\n",
       "Redox          Redox              0.0\n",
       "NO3              NO3              0.0\n",
       "NO2              NO2              0.0\n",
       "Ferrous      Ferrous              0.0\n",
       "Sulfate      Sulfate              0.0\n",
       "TOC              TOC              0.0\n",
       "Chloride    Chloride              0.0"
      ]
     },
     "execution_count": 36,
     "metadata": {},
     "output_type": "execute_result"
    }
   ],
   "source": [
    "get_missing_percentage(x_train_imp)"
   ]
  },
  {
   "cell_type": "markdown",
   "metadata": {},
   "source": [
    "Next, we'll do some feature scaling. We're choosing to do standardization ($z$-transform) here instead of normalization (min-max scaling). The process is pretty much the same as imputing: we create an imputer, `fit` it to our data, and then use it to `transform` the data."
   ]
  },
  {
   "cell_type": "code",
   "execution_count": 37,
   "metadata": {},
   "outputs": [
    {
     "data": {
      "text/plain": [
       "StandardScaler(copy=True, with_mean=True, with_std=True)"
      ]
     },
     "execution_count": 37,
     "metadata": {},
     "output_type": "execute_result"
    }
   ],
   "source": [
    "from sklearn.preprocessing import StandardScaler\n",
    "scaler = StandardScaler()\n",
    "scaler.fit(x_train_imp)"
   ]
  },
  {
   "cell_type": "code",
   "execution_count": 38,
   "metadata": {},
   "outputs": [
    {
     "data": {
      "text/html": [
       "<div>\n",
       "<style scoped>\n",
       "    .dataframe tbody tr th:only-of-type {\n",
       "        vertical-align: middle;\n",
       "    }\n",
       "\n",
       "    .dataframe tbody tr th {\n",
       "        vertical-align: top;\n",
       "    }\n",
       "\n",
       "    .dataframe thead th {\n",
       "        text-align: right;\n",
       "    }\n",
       "</style>\n",
       "<table border=\"1\" class=\"dataframe\">\n",
       "  <thead>\n",
       "    <tr style=\"text-align: right;\">\n",
       "      <th></th>\n",
       "      <th>PCE</th>\n",
       "      <th>TCE</th>\n",
       "      <th>cDCE</th>\n",
       "      <th>tDCE</th>\n",
       "      <th>VC</th>\n",
       "      <th>Ethene</th>\n",
       "      <th>Dhc16S</th>\n",
       "      <th>Methane</th>\n",
       "      <th>pH</th>\n",
       "      <th>DO</th>\n",
       "      <th>Redox</th>\n",
       "      <th>NO3</th>\n",
       "      <th>NO2</th>\n",
       "      <th>Ferrous</th>\n",
       "      <th>Sulfate</th>\n",
       "      <th>TOC</th>\n",
       "      <th>Chloride</th>\n",
       "    </tr>\n",
       "  </thead>\n",
       "  <tbody>\n",
       "    <tr>\n",
       "      <th>count</th>\n",
       "      <td>177.000000</td>\n",
       "      <td>177.000000</td>\n",
       "      <td>177.000000</td>\n",
       "      <td>177.000000</td>\n",
       "      <td>177.000000</td>\n",
       "      <td>177.000000</td>\n",
       "      <td>1.770000e+02</td>\n",
       "      <td>177.000000</td>\n",
       "      <td>177.000000</td>\n",
       "      <td>177.000000</td>\n",
       "      <td>177.000000</td>\n",
       "      <td>177.000000</td>\n",
       "      <td>177.000000</td>\n",
       "      <td>177.000000</td>\n",
       "      <td>177.000000</td>\n",
       "      <td>177.000000</td>\n",
       "      <td>177.000000</td>\n",
       "    </tr>\n",
       "    <tr>\n",
       "      <th>mean</th>\n",
       "      <td>1593.060565</td>\n",
       "      <td>167.091785</td>\n",
       "      <td>876.727119</td>\n",
       "      <td>55.609209</td>\n",
       "      <td>1116.773503</td>\n",
       "      <td>413.684064</td>\n",
       "      <td>9.989590e+05</td>\n",
       "      <td>3882.396102</td>\n",
       "      <td>6.740113</td>\n",
       "      <td>1.716667</td>\n",
       "      <td>-66.351977</td>\n",
       "      <td>3.164175</td>\n",
       "      <td>0.571864</td>\n",
       "      <td>5.779096</td>\n",
       "      <td>43.357768</td>\n",
       "      <td>461.591864</td>\n",
       "      <td>63.868023</td>\n",
       "    </tr>\n",
       "    <tr>\n",
       "      <th>std</th>\n",
       "      <td>11647.531566</td>\n",
       "      <td>507.830728</td>\n",
       "      <td>2120.842169</td>\n",
       "      <td>237.788502</td>\n",
       "      <td>3963.105582</td>\n",
       "      <td>1963.689349</td>\n",
       "      <td>5.445042e+06</td>\n",
       "      <td>6355.866850</td>\n",
       "      <td>0.565333</td>\n",
       "      <td>4.015127</td>\n",
       "      <td>99.939745</td>\n",
       "      <td>7.436981</td>\n",
       "      <td>0.896873</td>\n",
       "      <td>21.014559</td>\n",
       "      <td>81.461096</td>\n",
       "      <td>1366.226498</td>\n",
       "      <td>85.674299</td>\n",
       "    </tr>\n",
       "    <tr>\n",
       "      <th>min</th>\n",
       "      <td>0.000000</td>\n",
       "      <td>0.200000</td>\n",
       "      <td>0.200000</td>\n",
       "      <td>0.000000</td>\n",
       "      <td>0.200000</td>\n",
       "      <td>0.010000</td>\n",
       "      <td>1.000000e+01</td>\n",
       "      <td>0.013000</td>\n",
       "      <td>5.610000</td>\n",
       "      <td>0.010000</td>\n",
       "      <td>-445.000000</td>\n",
       "      <td>0.050000</td>\n",
       "      <td>0.100000</td>\n",
       "      <td>0.000000</td>\n",
       "      <td>0.000000</td>\n",
       "      <td>0.800000</td>\n",
       "      <td>2.400000</td>\n",
       "    </tr>\n",
       "    <tr>\n",
       "      <th>25%</th>\n",
       "      <td>0.270000</td>\n",
       "      <td>0.890000</td>\n",
       "      <td>7.600000</td>\n",
       "      <td>0.410000</td>\n",
       "      <td>2.100000</td>\n",
       "      <td>0.500000</td>\n",
       "      <td>1.538000e+01</td>\n",
       "      <td>57.000000</td>\n",
       "      <td>6.460000</td>\n",
       "      <td>0.330000</td>\n",
       "      <td>-113.000000</td>\n",
       "      <td>0.500000</td>\n",
       "      <td>0.500000</td>\n",
       "      <td>0.070000</td>\n",
       "      <td>3.530000</td>\n",
       "      <td>7.220000</td>\n",
       "      <td>21.800000</td>\n",
       "    </tr>\n",
       "    <tr>\n",
       "      <th>50%</th>\n",
       "      <td>1.700000</td>\n",
       "      <td>10.000000</td>\n",
       "      <td>94.000000</td>\n",
       "      <td>1.000000</td>\n",
       "      <td>43.500000</td>\n",
       "      <td>3.000000</td>\n",
       "      <td>1.320000e+04</td>\n",
       "      <td>633.000000</td>\n",
       "      <td>6.650000</td>\n",
       "      <td>0.570000</td>\n",
       "      <td>-78.100000</td>\n",
       "      <td>0.500000</td>\n",
       "      <td>0.500000</td>\n",
       "      <td>0.470000</td>\n",
       "      <td>28.400000</td>\n",
       "      <td>14.000000</td>\n",
       "      <td>32.800000</td>\n",
       "    </tr>\n",
       "    <tr>\n",
       "      <th>75%</th>\n",
       "      <td>9.500000</td>\n",
       "      <td>63.000000</td>\n",
       "      <td>770.000000</td>\n",
       "      <td>6.900000</td>\n",
       "      <td>320.000000</td>\n",
       "      <td>87.000000</td>\n",
       "      <td>2.310000e+05</td>\n",
       "      <td>5600.000000</td>\n",
       "      <td>6.840000</td>\n",
       "      <td>1.700000</td>\n",
       "      <td>-20.300000</td>\n",
       "      <td>1.150000</td>\n",
       "      <td>0.500000</td>\n",
       "      <td>1.130000</td>\n",
       "      <td>54.700000</td>\n",
       "      <td>56.900000</td>\n",
       "      <td>68.000000</td>\n",
       "    </tr>\n",
       "    <tr>\n",
       "      <th>max</th>\n",
       "      <td>108700.000000</td>\n",
       "      <td>3900.000000</td>\n",
       "      <td>18000.000000</td>\n",
       "      <td>2100.000000</td>\n",
       "      <td>38000.000000</td>\n",
       "      <td>19200.000000</td>\n",
       "      <td>5.500000e+07</td>\n",
       "      <td>34600.000000</td>\n",
       "      <td>9.140000</td>\n",
       "      <td>47.100000</td>\n",
       "      <td>227.600000</td>\n",
       "      <td>63.900000</td>\n",
       "      <td>12.000000</td>\n",
       "      <td>190.000000</td>\n",
       "      <td>666.000000</td>\n",
       "      <td>8300.000000</td>\n",
       "      <td>470.000000</td>\n",
       "    </tr>\n",
       "  </tbody>\n",
       "</table>\n",
       "</div>"
      ],
      "text/plain": [
       "                 PCE          TCE         cDCE         tDCE             VC  \\\n",
       "count     177.000000   177.000000    177.000000   177.000000    177.000000   \n",
       "mean     1593.060565   167.091785    876.727119    55.609209   1116.773503   \n",
       "std     11647.531566   507.830728   2120.842169   237.788502   3963.105582   \n",
       "min         0.000000     0.200000      0.200000     0.000000      0.200000   \n",
       "25%         0.270000     0.890000      7.600000     0.410000      2.100000   \n",
       "50%         1.700000    10.000000     94.000000     1.000000     43.500000   \n",
       "75%         9.500000    63.000000    770.000000     6.900000    320.000000   \n",
       "max    108700.000000  3900.000000  18000.000000  2100.000000  38000.000000   \n",
       "\n",
       "             Ethene        Dhc16S       Methane         pH           DO  \\\n",
       "count    177.000000  1.770000e+02    177.000000  177.000000  177.000000   \n",
       "mean     413.684064  9.989590e+05   3882.396102    6.740113    1.716667   \n",
       "std     1963.689349  5.445042e+06   6355.866850    0.565333    4.015127   \n",
       "min        0.010000  1.000000e+01      0.013000    5.610000    0.010000   \n",
       "25%        0.500000  1.538000e+01     57.000000    6.460000    0.330000   \n",
       "50%        3.000000  1.320000e+04    633.000000    6.650000    0.570000   \n",
       "75%       87.000000  2.310000e+05   5600.000000    6.840000    1.700000   \n",
       "max    19200.000000  5.500000e+07  34600.000000    9.140000   47.100000   \n",
       "\n",
       "            Redox         NO3         NO2     Ferrous     Sulfate  \\\n",
       "count  177.000000  177.000000  177.000000  177.000000  177.000000   \n",
       "mean   -66.351977    3.164175    0.571864    5.779096   43.357768   \n",
       "std     99.939745    7.436981    0.896873   21.014559   81.461096   \n",
       "min   -445.000000    0.050000    0.100000    0.000000    0.000000   \n",
       "25%   -113.000000    0.500000    0.500000    0.070000    3.530000   \n",
       "50%    -78.100000    0.500000    0.500000    0.470000   28.400000   \n",
       "75%    -20.300000    1.150000    0.500000    1.130000   54.700000   \n",
       "max    227.600000   63.900000   12.000000  190.000000  666.000000   \n",
       "\n",
       "               TOC    Chloride  \n",
       "count   177.000000  177.000000  \n",
       "mean    461.591864   63.868023  \n",
       "std    1366.226498   85.674299  \n",
       "min       0.800000    2.400000  \n",
       "25%       7.220000   21.800000  \n",
       "50%      14.000000   32.800000  \n",
       "75%      56.900000   68.000000  \n",
       "max    8300.000000  470.000000  "
      ]
     },
     "execution_count": 38,
     "metadata": {},
     "output_type": "execute_result"
    }
   ],
   "source": [
    "x_train_imp.describe()"
   ]
  },
  {
   "cell_type": "code",
   "execution_count": 39,
   "metadata": {},
   "outputs": [],
   "source": [
    "x_train_imp = pd.DataFrame(scaler.transform(x_train_imp),\n",
    "                           columns = x_train_imp.columns)"
   ]
  },
  {
   "cell_type": "code",
   "execution_count": 40,
   "metadata": {},
   "outputs": [
    {
     "data": {
      "text/html": [
       "<div>\n",
       "<style scoped>\n",
       "    .dataframe tbody tr th:only-of-type {\n",
       "        vertical-align: middle;\n",
       "    }\n",
       "\n",
       "    .dataframe tbody tr th {\n",
       "        vertical-align: top;\n",
       "    }\n",
       "\n",
       "    .dataframe thead th {\n",
       "        text-align: right;\n",
       "    }\n",
       "</style>\n",
       "<table border=\"1\" class=\"dataframe\">\n",
       "  <thead>\n",
       "    <tr style=\"text-align: right;\">\n",
       "      <th></th>\n",
       "      <th>PCE</th>\n",
       "      <th>TCE</th>\n",
       "      <th>cDCE</th>\n",
       "      <th>tDCE</th>\n",
       "      <th>VC</th>\n",
       "      <th>Ethene</th>\n",
       "      <th>Dhc16S</th>\n",
       "      <th>Methane</th>\n",
       "      <th>pH</th>\n",
       "      <th>DO</th>\n",
       "      <th>Redox</th>\n",
       "      <th>NO3</th>\n",
       "      <th>NO2</th>\n",
       "      <th>Ferrous</th>\n",
       "      <th>Sulfate</th>\n",
       "      <th>TOC</th>\n",
       "      <th>Chloride</th>\n",
       "    </tr>\n",
       "  </thead>\n",
       "  <tbody>\n",
       "    <tr>\n",
       "      <th>count</th>\n",
       "      <td>1.770000e+02</td>\n",
       "      <td>1.770000e+02</td>\n",
       "      <td>1.770000e+02</td>\n",
       "      <td>1.770000e+02</td>\n",
       "      <td>1.770000e+02</td>\n",
       "      <td>1.770000e+02</td>\n",
       "      <td>1.770000e+02</td>\n",
       "      <td>1.770000e+02</td>\n",
       "      <td>1.770000e+02</td>\n",
       "      <td>1.770000e+02</td>\n",
       "      <td>1.770000e+02</td>\n",
       "      <td>1.770000e+02</td>\n",
       "      <td>1.770000e+02</td>\n",
       "      <td>1.770000e+02</td>\n",
       "      <td>1.770000e+02</td>\n",
       "      <td>1.770000e+02</td>\n",
       "      <td>1.770000e+02</td>\n",
       "    </tr>\n",
       "    <tr>\n",
       "      <th>mean</th>\n",
       "      <td>-6.570388e-17</td>\n",
       "      <td>2.069907e-17</td>\n",
       "      <td>5.017957e-18</td>\n",
       "      <td>-2.195356e-18</td>\n",
       "      <td>4.390713e-17</td>\n",
       "      <td>8.467803e-18</td>\n",
       "      <td>1.677879e-17</td>\n",
       "      <td>3.136223e-18</td>\n",
       "      <td>-6.418290e-16</td>\n",
       "      <td>6.272446e-18</td>\n",
       "      <td>7.213313e-18</td>\n",
       "      <td>5.268855e-17</td>\n",
       "      <td>-1.881734e-17</td>\n",
       "      <td>-1.285852e-17</td>\n",
       "      <td>1.787647e-17</td>\n",
       "      <td>-7.087865e-17</td>\n",
       "      <td>1.881734e-18</td>\n",
       "    </tr>\n",
       "    <tr>\n",
       "      <th>std</th>\n",
       "      <td>1.002837e+00</td>\n",
       "      <td>1.002837e+00</td>\n",
       "      <td>1.002837e+00</td>\n",
       "      <td>1.002837e+00</td>\n",
       "      <td>1.002837e+00</td>\n",
       "      <td>1.002837e+00</td>\n",
       "      <td>1.002837e+00</td>\n",
       "      <td>1.002837e+00</td>\n",
       "      <td>1.002837e+00</td>\n",
       "      <td>1.002837e+00</td>\n",
       "      <td>1.002837e+00</td>\n",
       "      <td>1.002837e+00</td>\n",
       "      <td>1.002837e+00</td>\n",
       "      <td>1.002837e+00</td>\n",
       "      <td>1.002837e+00</td>\n",
       "      <td>1.002837e+00</td>\n",
       "      <td>1.002837e+00</td>\n",
       "    </tr>\n",
       "    <tr>\n",
       "      <th>min</th>\n",
       "      <td>-1.371604e-01</td>\n",
       "      <td>-3.295689e-01</td>\n",
       "      <td>-4.144645e-01</td>\n",
       "      <td>-2.345234e-01</td>\n",
       "      <td>-2.825413e-01</td>\n",
       "      <td>-2.112593e-01</td>\n",
       "      <td>-1.839807e-01</td>\n",
       "      <td>-6.125674e-01</td>\n",
       "      <td>-2.004694e+00</td>\n",
       "      <td>-4.262651e-01</td>\n",
       "      <td>-3.799511e+00</td>\n",
       "      <td>-4.199297e-01</td>\n",
       "      <td>-5.276142e-01</td>\n",
       "      <td>-2.757845e-01</td>\n",
       "      <td>-5.337612e-01</td>\n",
       "      <td>-3.382302e-01</td>\n",
       "      <td>-7.194970e-01</td>\n",
       "    </tr>\n",
       "    <tr>\n",
       "      <th>25%</th>\n",
       "      <td>-1.371371e-01</td>\n",
       "      <td>-3.282064e-01</td>\n",
       "      <td>-4.109654e-01</td>\n",
       "      <td>-2.327943e-01</td>\n",
       "      <td>-2.820605e-01</td>\n",
       "      <td>-2.110090e-01</td>\n",
       "      <td>-1.839798e-01</td>\n",
       "      <td>-6.035759e-01</td>\n",
       "      <td>-4.968890e-01</td>\n",
       "      <td>-3.463404e-01</td>\n",
       "      <td>-4.680856e-01</td>\n",
       "      <td>-3.592497e-01</td>\n",
       "      <td>-8.035503e-02</td>\n",
       "      <td>-2.724441e-01</td>\n",
       "      <td>-4.903047e-01</td>\n",
       "      <td>-3.335178e-01</td>\n",
       "      <td>-4.924156e-01</td>\n",
       "    </tr>\n",
       "    <tr>\n",
       "      <th>50%</th>\n",
       "      <td>-1.370140e-01</td>\n",
       "      <td>-3.102164e-01</td>\n",
       "      <td>-3.701113e-01</td>\n",
       "      <td>-2.303060e-01</td>\n",
       "      <td>-2.715846e-01</td>\n",
       "      <td>-2.097323e-01</td>\n",
       "      <td>-1.815515e-01</td>\n",
       "      <td>-5.126939e-01</td>\n",
       "      <td>-1.598503e-01</td>\n",
       "      <td>-2.863968e-01</td>\n",
       "      <td>-1.178845e-01</td>\n",
       "      <td>-3.592497e-01</td>\n",
       "      <td>-8.035503e-02</td>\n",
       "      <td>-2.533556e-01</td>\n",
       "      <td>-1.841395e-01</td>\n",
       "      <td>-3.285412e-01</td>\n",
       "      <td>-3.636582e-01</td>\n",
       "    </tr>\n",
       "    <tr>\n",
       "      <th>75%</th>\n",
       "      <td>-1.363424e-01</td>\n",
       "      <td>-2.055549e-01</td>\n",
       "      <td>-5.046575e-02</td>\n",
       "      <td>-2.054237e-01</td>\n",
       "      <td>-2.016181e-01</td>\n",
       "      <td>-1.668343e-01</td>\n",
       "      <td>-1.414383e-01</td>\n",
       "      <td>2.710058e-01</td>\n",
       "      <td>1.771883e-01</td>\n",
       "      <td>-4.162745e-03</td>\n",
       "      <td>4.621047e-01</td>\n",
       "      <td>-2.716007e-01</td>\n",
       "      <td>-8.035503e-02</td>\n",
       "      <td>-2.218598e-01</td>\n",
       "      <td>1.396299e-01</td>\n",
       "      <td>-2.970517e-01</td>\n",
       "      <td>4.836572e-02</td>\n",
       "    </tr>\n",
       "    <tr>\n",
       "      <th>max</th>\n",
       "      <td>9.221764e+00</td>\n",
       "      <td>7.371547e+00</td>\n",
       "      <td>8.096713e+00</td>\n",
       "      <td>8.621908e+00</td>\n",
       "      <td>9.333049e+00</td>\n",
       "      <td>9.593987e+00</td>\n",
       "      <td>9.945604e+00</td>\n",
       "      <td>4.846663e+00</td>\n",
       "      <td>4.257130e+00</td>\n",
       "      <td>1.133515e+01</td>\n",
       "      <td>2.949636e+00</td>\n",
       "      <td>8.189899e+00</td>\n",
       "      <td>1.277834e+01</td>\n",
       "      <td>8.791215e+00</td>\n",
       "      <td>7.665114e+00</td>\n",
       "      <td>5.753544e+00</td>\n",
       "      <td>4.753866e+00</td>\n",
       "    </tr>\n",
       "  </tbody>\n",
       "</table>\n",
       "</div>"
      ],
      "text/plain": [
       "                PCE           TCE         cDCE          tDCE             VC  \\\n",
       "count  1.770000e+02  1.770000e+02  1.770000e+02  1.770000e+02  1.770000e+02   \n",
       "mean  -6.570388e-17  2.069907e-17  5.017957e-18 -2.195356e-18  4.390713e-17   \n",
       "std    1.002837e+00  1.002837e+00  1.002837e+00  1.002837e+00  1.002837e+00   \n",
       "min   -1.371604e-01 -3.295689e-01 -4.144645e-01 -2.345234e-01 -2.825413e-01   \n",
       "25%   -1.371371e-01 -3.282064e-01 -4.109654e-01 -2.327943e-01 -2.820605e-01   \n",
       "50%   -1.370140e-01 -3.102164e-01 -3.701113e-01 -2.303060e-01 -2.715846e-01   \n",
       "75%   -1.363424e-01 -2.055549e-01 -5.046575e-02 -2.054237e-01 -2.016181e-01   \n",
       "max    9.221764e+00  7.371547e+00  8.096713e+00  8.621908e+00  9.333049e+00   \n",
       "\n",
       "             Ethene        Dhc16S       Methane           pH             DO  \\\n",
       "count  1.770000e+02  1.770000e+02  1.770000e+02  1.770000e+02  1.770000e+02   \n",
       "mean   8.467803e-18  1.677879e-17  3.136223e-18 -6.418290e-16  6.272446e-18   \n",
       "std    1.002837e+00  1.002837e+00  1.002837e+00  1.002837e+00  1.002837e+00   \n",
       "min   -2.112593e-01 -1.839807e-01 -6.125674e-01 -2.004694e+00 -4.262651e-01   \n",
       "25%   -2.110090e-01 -1.839798e-01 -6.035759e-01 -4.968890e-01 -3.463404e-01   \n",
       "50%   -2.097323e-01 -1.815515e-01 -5.126939e-01 -1.598503e-01 -2.863968e-01   \n",
       "75%   -1.668343e-01 -1.414383e-01  2.710058e-01  1.771883e-01 -4.162745e-03   \n",
       "max    9.593987e+00  9.945604e+00  4.846663e+00  4.257130e+00  1.133515e+01   \n",
       "\n",
       "              Redox           NO3           NO2       Ferrous       Sulfate  \\\n",
       "count  1.770000e+02  1.770000e+02  1.770000e+02  1.770000e+02  1.770000e+02   \n",
       "mean   7.213313e-18  5.268855e-17 -1.881734e-17 -1.285852e-17  1.787647e-17   \n",
       "std    1.002837e+00  1.002837e+00  1.002837e+00  1.002837e+00  1.002837e+00   \n",
       "min   -3.799511e+00 -4.199297e-01 -5.276142e-01 -2.757845e-01 -5.337612e-01   \n",
       "25%   -4.680856e-01 -3.592497e-01 -8.035503e-02 -2.724441e-01 -4.903047e-01   \n",
       "50%   -1.178845e-01 -3.592497e-01 -8.035503e-02 -2.533556e-01 -1.841395e-01   \n",
       "75%    4.621047e-01 -2.716007e-01 -8.035503e-02 -2.218598e-01  1.396299e-01   \n",
       "max    2.949636e+00  8.189899e+00  1.277834e+01  8.791215e+00  7.665114e+00   \n",
       "\n",
       "                TOC      Chloride  \n",
       "count  1.770000e+02  1.770000e+02  \n",
       "mean  -7.087865e-17  1.881734e-18  \n",
       "std    1.002837e+00  1.002837e+00  \n",
       "min   -3.382302e-01 -7.194970e-01  \n",
       "25%   -3.335178e-01 -4.924156e-01  \n",
       "50%   -3.285412e-01 -3.636582e-01  \n",
       "75%   -2.970517e-01  4.836572e-02  \n",
       "max    5.753544e+00  4.753866e+00  "
      ]
     },
     "execution_count": 40,
     "metadata": {},
     "output_type": "execute_result"
    }
   ],
   "source": [
    "x_train_imp.describe()"
   ]
  },
  {
   "cell_type": "markdown",
   "metadata": {},
   "source": [
    "### Question 1.\n",
    "\n",
    "* Why did we split the data into training and testing sets before we imputed the missing values or scaled the data?\n",
    "* Why might we choose to impute based on median values instead of mean values?\n",
    "* Why would we choose to standardize the data instead of normalize it?\n",
    "\n",
    "\n",
    "### Making life easier with pipelines\n",
    "\n",
    "Doing all of the preprocessing is a big pain in the butt. We can wrap it all up into a pipeline to make this process more painless:"
   ]
  },
  {
   "cell_type": "code",
   "execution_count": 41,
   "metadata": {},
   "outputs": [],
   "source": [
    "from sklearn.impute import SimpleImputer\n",
    "from sklearn.pipeline import Pipeline\n",
    "from sklearn.preprocessing import StandardScaler\n",
    "\n",
    "transformation_pipeline = Pipeline([\n",
    "        ('imputer', SimpleImputer(strategy=\"median\")),\n",
    "        ('scaler', StandardScaler()),\n",
    "    ])"
   ]
  },
  {
   "cell_type": "markdown",
   "metadata": {},
   "source": [
    "The pipeline will call each of the preprocessing methods that we passed to it in order, passing the results of one to the input of the other. We can add our own custom functions to the pipeline; for example, if you had a custom formula to calculate a weighted mean to impute missing values with, we could insert that function into an `sklearn` pipeline as long as we wrote it as a Transformer class with `fit` and `transform` methods. \n",
    "\n",
    "We'll do that in a future lesson, but now today. For now, we'll call our transformation pipeline on our original dataset:"
   ]
  },
  {
   "cell_type": "code",
   "execution_count": 42,
   "metadata": {},
   "outputs": [],
   "source": [
    "x_train_preprocessed = pd.DataFrame(transformation_pipeline.fit_transform(x_train),\n",
    "                                    columns = x_train.columns)"
   ]
  },
  {
   "cell_type": "code",
   "execution_count": 43,
   "metadata": {},
   "outputs": [
    {
     "data": {
      "text/html": [
       "<div>\n",
       "<style scoped>\n",
       "    .dataframe tbody tr th:only-of-type {\n",
       "        vertical-align: middle;\n",
       "    }\n",
       "\n",
       "    .dataframe tbody tr th {\n",
       "        vertical-align: top;\n",
       "    }\n",
       "\n",
       "    .dataframe thead th {\n",
       "        text-align: right;\n",
       "    }\n",
       "</style>\n",
       "<table border=\"1\" class=\"dataframe\">\n",
       "  <thead>\n",
       "    <tr style=\"text-align: right;\">\n",
       "      <th></th>\n",
       "      <th>PCE</th>\n",
       "      <th>TCE</th>\n",
       "      <th>cDCE</th>\n",
       "      <th>tDCE</th>\n",
       "      <th>VC</th>\n",
       "      <th>Ethene</th>\n",
       "      <th>Dhc16S</th>\n",
       "      <th>Methane</th>\n",
       "      <th>pH</th>\n",
       "      <th>DO</th>\n",
       "      <th>Redox</th>\n",
       "      <th>NO3</th>\n",
       "      <th>NO2</th>\n",
       "      <th>Ferrous</th>\n",
       "      <th>Sulfate</th>\n",
       "      <th>TOC</th>\n",
       "      <th>Chloride</th>\n",
       "    </tr>\n",
       "  </thead>\n",
       "  <tbody>\n",
       "    <tr>\n",
       "      <th>count</th>\n",
       "      <td>1.770000e+02</td>\n",
       "      <td>1.770000e+02</td>\n",
       "      <td>1.770000e+02</td>\n",
       "      <td>1.770000e+02</td>\n",
       "      <td>1.770000e+02</td>\n",
       "      <td>1.770000e+02</td>\n",
       "      <td>1.770000e+02</td>\n",
       "      <td>1.770000e+02</td>\n",
       "      <td>1.770000e+02</td>\n",
       "      <td>1.770000e+02</td>\n",
       "      <td>1.770000e+02</td>\n",
       "      <td>1.770000e+02</td>\n",
       "      <td>1.770000e+02</td>\n",
       "      <td>1.770000e+02</td>\n",
       "      <td>1.770000e+02</td>\n",
       "      <td>1.770000e+02</td>\n",
       "      <td>1.770000e+02</td>\n",
       "    </tr>\n",
       "    <tr>\n",
       "      <th>mean</th>\n",
       "      <td>-6.570388e-17</td>\n",
       "      <td>2.069907e-17</td>\n",
       "      <td>5.017957e-18</td>\n",
       "      <td>-2.195356e-18</td>\n",
       "      <td>4.390713e-17</td>\n",
       "      <td>8.467803e-18</td>\n",
       "      <td>1.677879e-17</td>\n",
       "      <td>3.136223e-18</td>\n",
       "      <td>-6.418290e-16</td>\n",
       "      <td>6.272446e-18</td>\n",
       "      <td>7.213313e-18</td>\n",
       "      <td>5.268855e-17</td>\n",
       "      <td>-1.881734e-17</td>\n",
       "      <td>-1.285852e-17</td>\n",
       "      <td>1.787647e-17</td>\n",
       "      <td>-7.087865e-17</td>\n",
       "      <td>1.881734e-18</td>\n",
       "    </tr>\n",
       "    <tr>\n",
       "      <th>std</th>\n",
       "      <td>1.002837e+00</td>\n",
       "      <td>1.002837e+00</td>\n",
       "      <td>1.002837e+00</td>\n",
       "      <td>1.002837e+00</td>\n",
       "      <td>1.002837e+00</td>\n",
       "      <td>1.002837e+00</td>\n",
       "      <td>1.002837e+00</td>\n",
       "      <td>1.002837e+00</td>\n",
       "      <td>1.002837e+00</td>\n",
       "      <td>1.002837e+00</td>\n",
       "      <td>1.002837e+00</td>\n",
       "      <td>1.002837e+00</td>\n",
       "      <td>1.002837e+00</td>\n",
       "      <td>1.002837e+00</td>\n",
       "      <td>1.002837e+00</td>\n",
       "      <td>1.002837e+00</td>\n",
       "      <td>1.002837e+00</td>\n",
       "    </tr>\n",
       "    <tr>\n",
       "      <th>min</th>\n",
       "      <td>-1.371604e-01</td>\n",
       "      <td>-3.295689e-01</td>\n",
       "      <td>-4.144645e-01</td>\n",
       "      <td>-2.345234e-01</td>\n",
       "      <td>-2.825413e-01</td>\n",
       "      <td>-2.112593e-01</td>\n",
       "      <td>-1.839807e-01</td>\n",
       "      <td>-6.125674e-01</td>\n",
       "      <td>-2.004694e+00</td>\n",
       "      <td>-4.262651e-01</td>\n",
       "      <td>-3.799511e+00</td>\n",
       "      <td>-4.199297e-01</td>\n",
       "      <td>-5.276142e-01</td>\n",
       "      <td>-2.757845e-01</td>\n",
       "      <td>-5.337612e-01</td>\n",
       "      <td>-3.382302e-01</td>\n",
       "      <td>-7.194970e-01</td>\n",
       "    </tr>\n",
       "    <tr>\n",
       "      <th>25%</th>\n",
       "      <td>-1.371371e-01</td>\n",
       "      <td>-3.282064e-01</td>\n",
       "      <td>-4.109654e-01</td>\n",
       "      <td>-2.327943e-01</td>\n",
       "      <td>-2.820605e-01</td>\n",
       "      <td>-2.110090e-01</td>\n",
       "      <td>-1.839798e-01</td>\n",
       "      <td>-6.035759e-01</td>\n",
       "      <td>-4.968890e-01</td>\n",
       "      <td>-3.463404e-01</td>\n",
       "      <td>-4.680856e-01</td>\n",
       "      <td>-3.592497e-01</td>\n",
       "      <td>-8.035503e-02</td>\n",
       "      <td>-2.724441e-01</td>\n",
       "      <td>-4.903047e-01</td>\n",
       "      <td>-3.335178e-01</td>\n",
       "      <td>-4.924156e-01</td>\n",
       "    </tr>\n",
       "    <tr>\n",
       "      <th>50%</th>\n",
       "      <td>-1.370140e-01</td>\n",
       "      <td>-3.102164e-01</td>\n",
       "      <td>-3.701113e-01</td>\n",
       "      <td>-2.303060e-01</td>\n",
       "      <td>-2.715846e-01</td>\n",
       "      <td>-2.097323e-01</td>\n",
       "      <td>-1.815515e-01</td>\n",
       "      <td>-5.126939e-01</td>\n",
       "      <td>-1.598503e-01</td>\n",
       "      <td>-2.863968e-01</td>\n",
       "      <td>-1.178845e-01</td>\n",
       "      <td>-3.592497e-01</td>\n",
       "      <td>-8.035503e-02</td>\n",
       "      <td>-2.533556e-01</td>\n",
       "      <td>-1.841395e-01</td>\n",
       "      <td>-3.285412e-01</td>\n",
       "      <td>-3.636582e-01</td>\n",
       "    </tr>\n",
       "    <tr>\n",
       "      <th>75%</th>\n",
       "      <td>-1.363424e-01</td>\n",
       "      <td>-2.055549e-01</td>\n",
       "      <td>-5.046575e-02</td>\n",
       "      <td>-2.054237e-01</td>\n",
       "      <td>-2.016181e-01</td>\n",
       "      <td>-1.668343e-01</td>\n",
       "      <td>-1.414383e-01</td>\n",
       "      <td>2.710058e-01</td>\n",
       "      <td>1.771883e-01</td>\n",
       "      <td>-4.162745e-03</td>\n",
       "      <td>4.621047e-01</td>\n",
       "      <td>-2.716007e-01</td>\n",
       "      <td>-8.035503e-02</td>\n",
       "      <td>-2.218598e-01</td>\n",
       "      <td>1.396299e-01</td>\n",
       "      <td>-2.970517e-01</td>\n",
       "      <td>4.836572e-02</td>\n",
       "    </tr>\n",
       "    <tr>\n",
       "      <th>max</th>\n",
       "      <td>9.221764e+00</td>\n",
       "      <td>7.371547e+00</td>\n",
       "      <td>8.096713e+00</td>\n",
       "      <td>8.621908e+00</td>\n",
       "      <td>9.333049e+00</td>\n",
       "      <td>9.593987e+00</td>\n",
       "      <td>9.945604e+00</td>\n",
       "      <td>4.846663e+00</td>\n",
       "      <td>4.257130e+00</td>\n",
       "      <td>1.133515e+01</td>\n",
       "      <td>2.949636e+00</td>\n",
       "      <td>8.189899e+00</td>\n",
       "      <td>1.277834e+01</td>\n",
       "      <td>8.791215e+00</td>\n",
       "      <td>7.665114e+00</td>\n",
       "      <td>5.753544e+00</td>\n",
       "      <td>4.753866e+00</td>\n",
       "    </tr>\n",
       "  </tbody>\n",
       "</table>\n",
       "</div>"
      ],
      "text/plain": [
       "                PCE           TCE         cDCE          tDCE             VC  \\\n",
       "count  1.770000e+02  1.770000e+02  1.770000e+02  1.770000e+02  1.770000e+02   \n",
       "mean  -6.570388e-17  2.069907e-17  5.017957e-18 -2.195356e-18  4.390713e-17   \n",
       "std    1.002837e+00  1.002837e+00  1.002837e+00  1.002837e+00  1.002837e+00   \n",
       "min   -1.371604e-01 -3.295689e-01 -4.144645e-01 -2.345234e-01 -2.825413e-01   \n",
       "25%   -1.371371e-01 -3.282064e-01 -4.109654e-01 -2.327943e-01 -2.820605e-01   \n",
       "50%   -1.370140e-01 -3.102164e-01 -3.701113e-01 -2.303060e-01 -2.715846e-01   \n",
       "75%   -1.363424e-01 -2.055549e-01 -5.046575e-02 -2.054237e-01 -2.016181e-01   \n",
       "max    9.221764e+00  7.371547e+00  8.096713e+00  8.621908e+00  9.333049e+00   \n",
       "\n",
       "             Ethene        Dhc16S       Methane           pH             DO  \\\n",
       "count  1.770000e+02  1.770000e+02  1.770000e+02  1.770000e+02  1.770000e+02   \n",
       "mean   8.467803e-18  1.677879e-17  3.136223e-18 -6.418290e-16  6.272446e-18   \n",
       "std    1.002837e+00  1.002837e+00  1.002837e+00  1.002837e+00  1.002837e+00   \n",
       "min   -2.112593e-01 -1.839807e-01 -6.125674e-01 -2.004694e+00 -4.262651e-01   \n",
       "25%   -2.110090e-01 -1.839798e-01 -6.035759e-01 -4.968890e-01 -3.463404e-01   \n",
       "50%   -2.097323e-01 -1.815515e-01 -5.126939e-01 -1.598503e-01 -2.863968e-01   \n",
       "75%   -1.668343e-01 -1.414383e-01  2.710058e-01  1.771883e-01 -4.162745e-03   \n",
       "max    9.593987e+00  9.945604e+00  4.846663e+00  4.257130e+00  1.133515e+01   \n",
       "\n",
       "              Redox           NO3           NO2       Ferrous       Sulfate  \\\n",
       "count  1.770000e+02  1.770000e+02  1.770000e+02  1.770000e+02  1.770000e+02   \n",
       "mean   7.213313e-18  5.268855e-17 -1.881734e-17 -1.285852e-17  1.787647e-17   \n",
       "std    1.002837e+00  1.002837e+00  1.002837e+00  1.002837e+00  1.002837e+00   \n",
       "min   -3.799511e+00 -4.199297e-01 -5.276142e-01 -2.757845e-01 -5.337612e-01   \n",
       "25%   -4.680856e-01 -3.592497e-01 -8.035503e-02 -2.724441e-01 -4.903047e-01   \n",
       "50%   -1.178845e-01 -3.592497e-01 -8.035503e-02 -2.533556e-01 -1.841395e-01   \n",
       "75%    4.621047e-01 -2.716007e-01 -8.035503e-02 -2.218598e-01  1.396299e-01   \n",
       "max    2.949636e+00  8.189899e+00  1.277834e+01  8.791215e+00  7.665114e+00   \n",
       "\n",
       "                TOC      Chloride  \n",
       "count  1.770000e+02  1.770000e+02  \n",
       "mean  -7.087865e-17  1.881734e-18  \n",
       "std    1.002837e+00  1.002837e+00  \n",
       "min   -3.382302e-01 -7.194970e-01  \n",
       "25%   -3.335178e-01 -4.924156e-01  \n",
       "50%   -3.285412e-01 -3.636582e-01  \n",
       "75%   -2.970517e-01  4.836572e-02  \n",
       "max    5.753544e+00  4.753866e+00  "
      ]
     },
     "execution_count": 43,
     "metadata": {},
     "output_type": "execute_result"
    }
   ],
   "source": [
    "x_train_preprocessed.describe()"
   ]
  },
  {
   "cell_type": "markdown",
   "metadata": {},
   "source": [
    "Now we're ready to train some models. Just like last week, we'll be using `GridSearchCV` to find optimal hyperparameters for our models and perform cross-validation before we attempt to predict on the test set. We'll begin with a RandomForestClassifier."
   ]
  },
  {
   "cell_type": "code",
   "execution_count": 44,
   "metadata": {},
   "outputs": [
    {
     "name": "stderr",
     "output_type": "stream",
     "text": [
      "/anaconda3/lib/python3.7/site-packages/sklearn/model_selection/_search.py:841: DeprecationWarning: The default of the `iid` parameter will change from True to False in version 0.22 and will be removed in 0.24. This will change numeric results when test-set sizes are unequal.\n",
      "  DeprecationWarning)\n"
     ]
    },
    {
     "data": {
      "text/plain": [
       "GridSearchCV(cv=10, error_score='raise-deprecating',\n",
       "       estimator=RandomForestClassifier(bootstrap=True, class_weight=None, criterion='gini',\n",
       "            max_depth=None, max_features='auto', max_leaf_nodes=None,\n",
       "            min_impurity_decrease=0.0, min_impurity_split=None,\n",
       "            min_samples_leaf=1, min_samples_split=2,\n",
       "            min_weight_fraction_leaf=0.0, n_estimators='warn', n_jobs=None,\n",
       "            oob_score=False, random_state=None, verbose=0,\n",
       "            warm_start=False),\n",
       "       fit_params=None, iid='warn', n_jobs=None,\n",
       "       param_grid=[{'n_estimators': [50, 100, 150, 200], 'max_features': ['sqrt', 'log2']}],\n",
       "       pre_dispatch='2*n_jobs', refit=True, return_train_score='warn',\n",
       "       scoring='accuracy', verbose=0)"
      ]
     },
     "execution_count": 44,
     "metadata": {},
     "output_type": "execute_result"
    }
   ],
   "source": [
    "from sklearn.ensemble import RandomForestClassifier\n",
    "from sklearn.model_selection import GridSearchCV\n",
    "\n",
    "gw_rf = RandomForestClassifier()\n",
    "\n",
    "param_grid = [{'n_estimators': [50 * (i + 1) for i in range(4)], \n",
    "               'max_features': ['sqrt', 'log2']}]\n",
    "\n",
    "grid_search = GridSearchCV(gw_rf, param_grid, cv = 10, scoring = 'accuracy')\n",
    "grid_search.fit(x_train_preprocessed, y_train)"
   ]
  },
  {
   "cell_type": "markdown",
   "metadata": {},
   "source": [
    "All done! Let's see how the best random forest classifier (within our hyperparameter search space) performed:"
   ]
  },
  {
   "cell_type": "code",
   "execution_count": 45,
   "metadata": {},
   "outputs": [
    {
     "data": {
      "text/plain": [
       "0.8757062146892656"
      ]
     },
     "execution_count": 45,
     "metadata": {},
     "output_type": "execute_result"
    }
   ],
   "source": [
    "grid_search.best_score_"
   ]
  },
  {
   "cell_type": "markdown",
   "metadata": {},
   "source": [
    "So it correctly predicted 88% of classes. Not the best, but still pretty good. Let's see what the best parameters were:"
   ]
  },
  {
   "cell_type": "code",
   "execution_count": 46,
   "metadata": {},
   "outputs": [
    {
     "data": {
      "text/plain": [
       "RandomForestClassifier(bootstrap=True, class_weight=None, criterion='gini',\n",
       "            max_depth=None, max_features='sqrt', max_leaf_nodes=None,\n",
       "            min_impurity_decrease=0.0, min_impurity_split=None,\n",
       "            min_samples_leaf=1, min_samples_split=2,\n",
       "            min_weight_fraction_leaf=0.0, n_estimators=150, n_jobs=None,\n",
       "            oob_score=False, random_state=None, verbose=0,\n",
       "            warm_start=False)"
      ]
     },
     "execution_count": 46,
     "metadata": {},
     "output_type": "execute_result"
    }
   ],
   "source": [
    "grid_search.best_estimator_"
   ]
  },
  {
   "cell_type": "markdown",
   "metadata": {},
   "source": [
    "We see that the best number of estimators was 100 and that the best maximum number of features was log2. If the best number of estimators was 200, that might be a reason to go back and redo the grid search with larger number of estimators. However, since the number of estimators was right in the middle, we're confident enough to move on for now.\n",
    "\n",
    "Of course, we're interested in seeing how our model performs on the test set. First, let's use `grid_search` to retrieve an instance of `RandomForestClassifier` with the optimal paramters:"
   ]
  },
  {
   "cell_type": "code",
   "execution_count": 47,
   "metadata": {},
   "outputs": [],
   "source": [
    "gw_randomforest = grid_search.best_estimator_"
   ]
  },
  {
   "cell_type": "markdown",
   "metadata": {},
   "source": [
    "Now let's see how it does on the testing set:"
   ]
  },
  {
   "cell_type": "code",
   "execution_count": 49,
   "metadata": {},
   "outputs": [
    {
     "ename": "ValueError",
     "evalue": "Input contains NaN, infinity or a value too large for dtype('float32').",
     "output_type": "error",
     "traceback": [
      "\u001b[0;31m---------------------------------------------------------------------------\u001b[0m",
      "\u001b[0;31mValueError\u001b[0m                                Traceback (most recent call last)",
      "\u001b[0;32m<ipython-input-49-fe10b2235d57>\u001b[0m in \u001b[0;36m<module>\u001b[0;34m\u001b[0m\n\u001b[0;32m----> 1\u001b[0;31m \u001b[0my_pred_random_forest\u001b[0m \u001b[0;34m=\u001b[0m \u001b[0mgw_randomforest\u001b[0m\u001b[0;34m.\u001b[0m\u001b[0mpredict\u001b[0m\u001b[0;34m(\u001b[0m\u001b[0mx_test\u001b[0m\u001b[0;34m)\u001b[0m\u001b[0;34m\u001b[0m\u001b[0;34m\u001b[0m\u001b[0m\n\u001b[0m",
      "\u001b[0;32m/anaconda3/lib/python3.7/site-packages/sklearn/ensemble/forest.py\u001b[0m in \u001b[0;36mpredict\u001b[0;34m(self, X)\u001b[0m\n\u001b[1;32m    541\u001b[0m             \u001b[0mThe\u001b[0m \u001b[0mpredicted\u001b[0m \u001b[0mclasses\u001b[0m\u001b[0;34m.\u001b[0m\u001b[0;34m\u001b[0m\u001b[0;34m\u001b[0m\u001b[0m\n\u001b[1;32m    542\u001b[0m         \"\"\"\n\u001b[0;32m--> 543\u001b[0;31m         \u001b[0mproba\u001b[0m \u001b[0;34m=\u001b[0m \u001b[0mself\u001b[0m\u001b[0;34m.\u001b[0m\u001b[0mpredict_proba\u001b[0m\u001b[0;34m(\u001b[0m\u001b[0mX\u001b[0m\u001b[0;34m)\u001b[0m\u001b[0;34m\u001b[0m\u001b[0;34m\u001b[0m\u001b[0m\n\u001b[0m\u001b[1;32m    544\u001b[0m \u001b[0;34m\u001b[0m\u001b[0m\n\u001b[1;32m    545\u001b[0m         \u001b[0;32mif\u001b[0m \u001b[0mself\u001b[0m\u001b[0;34m.\u001b[0m\u001b[0mn_outputs_\u001b[0m \u001b[0;34m==\u001b[0m \u001b[0;36m1\u001b[0m\u001b[0;34m:\u001b[0m\u001b[0;34m\u001b[0m\u001b[0;34m\u001b[0m\u001b[0m\n",
      "\u001b[0;32m/anaconda3/lib/python3.7/site-packages/sklearn/ensemble/forest.py\u001b[0m in \u001b[0;36mpredict_proba\u001b[0;34m(self, X)\u001b[0m\n\u001b[1;32m    581\u001b[0m         \u001b[0mcheck_is_fitted\u001b[0m\u001b[0;34m(\u001b[0m\u001b[0mself\u001b[0m\u001b[0;34m,\u001b[0m \u001b[0;34m'estimators_'\u001b[0m\u001b[0;34m)\u001b[0m\u001b[0;34m\u001b[0m\u001b[0;34m\u001b[0m\u001b[0m\n\u001b[1;32m    582\u001b[0m         \u001b[0;31m# Check data\u001b[0m\u001b[0;34m\u001b[0m\u001b[0;34m\u001b[0m\u001b[0;34m\u001b[0m\u001b[0m\n\u001b[0;32m--> 583\u001b[0;31m         \u001b[0mX\u001b[0m \u001b[0;34m=\u001b[0m \u001b[0mself\u001b[0m\u001b[0;34m.\u001b[0m\u001b[0m_validate_X_predict\u001b[0m\u001b[0;34m(\u001b[0m\u001b[0mX\u001b[0m\u001b[0;34m)\u001b[0m\u001b[0;34m\u001b[0m\u001b[0;34m\u001b[0m\u001b[0m\n\u001b[0m\u001b[1;32m    584\u001b[0m \u001b[0;34m\u001b[0m\u001b[0m\n\u001b[1;32m    585\u001b[0m         \u001b[0;31m# Assign chunk of trees to jobs\u001b[0m\u001b[0;34m\u001b[0m\u001b[0;34m\u001b[0m\u001b[0;34m\u001b[0m\u001b[0m\n",
      "\u001b[0;32m/anaconda3/lib/python3.7/site-packages/sklearn/ensemble/forest.py\u001b[0m in \u001b[0;36m_validate_X_predict\u001b[0;34m(self, X)\u001b[0m\n\u001b[1;32m    360\u001b[0m                                  \"call `fit` before exploiting the model.\")\n\u001b[1;32m    361\u001b[0m \u001b[0;34m\u001b[0m\u001b[0m\n\u001b[0;32m--> 362\u001b[0;31m         \u001b[0;32mreturn\u001b[0m \u001b[0mself\u001b[0m\u001b[0;34m.\u001b[0m\u001b[0mestimators_\u001b[0m\u001b[0;34m[\u001b[0m\u001b[0;36m0\u001b[0m\u001b[0;34m]\u001b[0m\u001b[0;34m.\u001b[0m\u001b[0m_validate_X_predict\u001b[0m\u001b[0;34m(\u001b[0m\u001b[0mX\u001b[0m\u001b[0;34m,\u001b[0m \u001b[0mcheck_input\u001b[0m\u001b[0;34m=\u001b[0m\u001b[0;32mTrue\u001b[0m\u001b[0;34m)\u001b[0m\u001b[0;34m\u001b[0m\u001b[0;34m\u001b[0m\u001b[0m\n\u001b[0m\u001b[1;32m    363\u001b[0m \u001b[0;34m\u001b[0m\u001b[0m\n\u001b[1;32m    364\u001b[0m     \u001b[0;34m@\u001b[0m\u001b[0mproperty\u001b[0m\u001b[0;34m\u001b[0m\u001b[0;34m\u001b[0m\u001b[0m\n",
      "\u001b[0;32m/anaconda3/lib/python3.7/site-packages/sklearn/tree/tree.py\u001b[0m in \u001b[0;36m_validate_X_predict\u001b[0;34m(self, X, check_input)\u001b[0m\n\u001b[1;32m    375\u001b[0m         \u001b[0;34m\"\"\"Validate X whenever one tries to predict, apply, predict_proba\"\"\"\u001b[0m\u001b[0;34m\u001b[0m\u001b[0;34m\u001b[0m\u001b[0m\n\u001b[1;32m    376\u001b[0m         \u001b[0;32mif\u001b[0m \u001b[0mcheck_input\u001b[0m\u001b[0;34m:\u001b[0m\u001b[0;34m\u001b[0m\u001b[0;34m\u001b[0m\u001b[0m\n\u001b[0;32m--> 377\u001b[0;31m             \u001b[0mX\u001b[0m \u001b[0;34m=\u001b[0m \u001b[0mcheck_array\u001b[0m\u001b[0;34m(\u001b[0m\u001b[0mX\u001b[0m\u001b[0;34m,\u001b[0m \u001b[0mdtype\u001b[0m\u001b[0;34m=\u001b[0m\u001b[0mDTYPE\u001b[0m\u001b[0;34m,\u001b[0m \u001b[0maccept_sparse\u001b[0m\u001b[0;34m=\u001b[0m\u001b[0;34m\"csr\"\u001b[0m\u001b[0;34m)\u001b[0m\u001b[0;34m\u001b[0m\u001b[0;34m\u001b[0m\u001b[0m\n\u001b[0m\u001b[1;32m    378\u001b[0m             if issparse(X) and (X.indices.dtype != np.intc or\n\u001b[1;32m    379\u001b[0m                                 X.indptr.dtype != np.intc):\n",
      "\u001b[0;32m/anaconda3/lib/python3.7/site-packages/sklearn/utils/validation.py\u001b[0m in \u001b[0;36mcheck_array\u001b[0;34m(array, accept_sparse, accept_large_sparse, dtype, order, copy, force_all_finite, ensure_2d, allow_nd, ensure_min_samples, ensure_min_features, warn_on_dtype, estimator)\u001b[0m\n\u001b[1;32m    571\u001b[0m         \u001b[0;32mif\u001b[0m \u001b[0mforce_all_finite\u001b[0m\u001b[0;34m:\u001b[0m\u001b[0;34m\u001b[0m\u001b[0;34m\u001b[0m\u001b[0m\n\u001b[1;32m    572\u001b[0m             _assert_all_finite(array,\n\u001b[0;32m--> 573\u001b[0;31m                                allow_nan=force_all_finite == 'allow-nan')\n\u001b[0m\u001b[1;32m    574\u001b[0m \u001b[0;34m\u001b[0m\u001b[0m\n\u001b[1;32m    575\u001b[0m     \u001b[0mshape_repr\u001b[0m \u001b[0;34m=\u001b[0m \u001b[0m_shape_repr\u001b[0m\u001b[0;34m(\u001b[0m\u001b[0marray\u001b[0m\u001b[0;34m.\u001b[0m\u001b[0mshape\u001b[0m\u001b[0;34m)\u001b[0m\u001b[0;34m\u001b[0m\u001b[0;34m\u001b[0m\u001b[0m\n",
      "\u001b[0;32m/anaconda3/lib/python3.7/site-packages/sklearn/utils/validation.py\u001b[0m in \u001b[0;36m_assert_all_finite\u001b[0;34m(X, allow_nan)\u001b[0m\n\u001b[1;32m     54\u001b[0m                 not allow_nan and not np.isfinite(X).all()):\n\u001b[1;32m     55\u001b[0m             \u001b[0mtype_err\u001b[0m \u001b[0;34m=\u001b[0m \u001b[0;34m'infinity'\u001b[0m \u001b[0;32mif\u001b[0m \u001b[0mallow_nan\u001b[0m \u001b[0;32melse\u001b[0m \u001b[0;34m'NaN, infinity'\u001b[0m\u001b[0;34m\u001b[0m\u001b[0;34m\u001b[0m\u001b[0m\n\u001b[0;32m---> 56\u001b[0;31m             \u001b[0;32mraise\u001b[0m \u001b[0mValueError\u001b[0m\u001b[0;34m(\u001b[0m\u001b[0mmsg_err\u001b[0m\u001b[0;34m.\u001b[0m\u001b[0mformat\u001b[0m\u001b[0;34m(\u001b[0m\u001b[0mtype_err\u001b[0m\u001b[0;34m,\u001b[0m \u001b[0mX\u001b[0m\u001b[0;34m.\u001b[0m\u001b[0mdtype\u001b[0m\u001b[0;34m)\u001b[0m\u001b[0;34m)\u001b[0m\u001b[0;34m\u001b[0m\u001b[0;34m\u001b[0m\u001b[0m\n\u001b[0m\u001b[1;32m     57\u001b[0m \u001b[0;34m\u001b[0m\u001b[0m\n\u001b[1;32m     58\u001b[0m \u001b[0;34m\u001b[0m\u001b[0m\n",
      "\u001b[0;31mValueError\u001b[0m: Input contains NaN, infinity or a value too large for dtype('float32')."
     ]
    }
   ],
   "source": [
    "y_pred_random_forest = gw_randomforest.predict(x_test)"
   ]
  },
  {
   "cell_type": "markdown",
   "metadata": {},
   "source": [
    "Oops!\n",
    "\n",
    "### Question 2\n",
    "\n",
    "* What was the error? How can we fix it?\n",
    "\n",
    "Random forests can't handle missing values, so we'll have to impute them before we proceed. Additionally, even though it didn't pop up as an error, our model would have performed horribly on the test data because it wasn't standardized. We can perform both of these steps by using the `transformation_pipeline` that we created earlier:"
   ]
  },
  {
   "cell_type": "code",
   "execution_count": 50,
   "metadata": {},
   "outputs": [],
   "source": [
    "x_test_preprocessed = transformation_pipeline.transform(x_test)"
   ]
  },
  {
   "cell_type": "markdown",
   "metadata": {},
   "source": [
    "Now the test data has had it's missing values imputed and we can make predictions on the test set."
   ]
  },
  {
   "cell_type": "code",
   "execution_count": 54,
   "metadata": {},
   "outputs": [],
   "source": [
    "y_pred_random_forest = gw_randomforest.predict(x_test_preprocessed)"
   ]
  },
  {
   "cell_type": "markdown",
   "metadata": {},
   "source": [
    "And let's go ahead and visualize the result."
   ]
  },
  {
   "cell_type": "code",
   "execution_count": 52,
   "metadata": {},
   "outputs": [],
   "source": [
    "def plot_confusion_matrix(cm,\n",
    "                          target_names,\n",
    "                          normalize = True):\n",
    "    \"\"\"\n",
    "    A pretty visualization of the confusion matrix. \n",
    "    \n",
    "    Citiation\n",
    "    ---------\n",
    "    http://scikit-learn.org/stable/auto_examples/model_selection/plot_confusion_matrix.html\n",
    "\n",
    "    \"\"\"\n",
    "    import matplotlib.pyplot as plt\n",
    "    import numpy as np\n",
    "    import itertools\n",
    "\n",
    "    accuracy = np.trace(cm) / float(np.sum(cm))\n",
    "    misclass = 1 - accuracy\n",
    "\n",
    "    cmap = plt.get_cmap('Blues')\n",
    "\n",
    "    plt.figure(figsize = (8, 6))\n",
    "    plt.imshow(cm, interpolation = 'nearest', cmap = cmap)\n",
    "    plt.title('Confusion matrix')\n",
    "    plt.colorbar()\n",
    "\n",
    "    if target_names is not None:\n",
    "        tick_marks = np.arange(len(target_names))\n",
    "        plt.xticks(tick_marks, target_names, rotation = 45)\n",
    "        plt.yticks(tick_marks, target_names)\n",
    "\n",
    "    if normalize:\n",
    "        cm = cm.astype('float') / cm.sum(axis=1)[:, np.newaxis]\n",
    "\n",
    "\n",
    "    thresh = cm.max() / 1.5 if normalize else cm.max() / 2\n",
    "    for i, j in itertools.product(range(cm.shape[0]), range(cm.shape[1])):\n",
    "        if normalize:\n",
    "            plt.text(j, i, \"{:0.4f}\".format(cm[i, j]),\n",
    "                     horizontalalignment = \"center\",\n",
    "                     color=\"white\" if cm[i, j] > thresh else \"black\")\n",
    "        else:\n",
    "            plt.text(j, i, \"{:,}\".format(cm[i, j]),\n",
    "                     horizontalalignment = \"center\",\n",
    "                     color=\"white\" if cm[i, j] > thresh else \"black\")\n",
    "\n",
    "\n",
    "    plt.tight_layout()\n",
    "    plt.ylabel('True label')\n",
    "    plt.xlabel('Predicted label\\nAccuracy = {:0.4f}; misclass = {:0.4f}'.format(accuracy, misclass))\n",
    "    plt.show()\n",
    "    \n",
    "def get_confusion_matrix(predictor, x_test, y_test, labels):\n",
    "    '''\n",
    "    Helper method for plot_confusion_matrix\n",
    "    \n",
    "    Inputs:\n",
    "        predictor: an sklearn predictor that has been fit\n",
    "        x_test: the vector of features that predictor was trained on\n",
    "        y_test: the labels from the holdout set\n",
    "        labels: a vector containing the categories\n",
    "    '''\n",
    "    from sklearn.metrics import confusion_matrix\n",
    "    \n",
    "    y_pred = predictor.predict(x_test)\n",
    "    cm = confusion_matrix(y_test, y_pred, labels)\n",
    "    plot_confusion_matrix(cm, labels)"
   ]
  },
  {
   "cell_type": "code",
   "execution_count": 55,
   "metadata": {},
   "outputs": [
    {
     "data": {
      "image/png": "[encoded data removed]",
      "text/plain": [
       "<Figure size 576x432 with 2 Axes>"
      ]
     },
     "metadata": {
      "needs_background": "light"
     },
     "output_type": "display_data"
    }
   ],
   "source": [
    "class_labels = [1, 2, 3]\n",
    "\n",
    "get_confusion_matrix(gw_randomforest, x_test_preprocessed, y_test, class_labels)"
   ]
  },
  {
   "cell_type": "markdown",
   "metadata": {},
   "source": [
    "Our optimized random forest performed at roughly the same level as it did on the training set. \n",
    "\n",
    "### Question 4\n",
    "\n",
    "* Interpret the confusion matrix. Do any biological questions arise?\n",
    "* What other classifiers could we use? Implement one.\n",
    "* What other parameters could we have tuned in this model? Or in the preprocessing steps?\n",
    "* Another way to preprocess the data is to take combinations of the existing attributes. For instance, we might be interested in the ratio of sulfate to chloride. Can you think of any such combinations of variables that may be enlightening?"
   ]
  }
 ],
 "metadata": {
  "kernelspec": {
   "display_name": "Python 3",
   "language": "python",
   "name": "python3"
  },
  "language_info": {
   "codemirror_mode": {
    "name": "ipython",
    "version": 3
   },
   "file_extension": ".py",
   "mimetype": "text/x-python",
   "name": "python",
   "nbconvert_exporter": "python",
   "pygments_lexer": "ipython3",
   "version": "3.7.1"
  }
 },
 "nbformat": 4,
 "nbformat_minor": 2
}
