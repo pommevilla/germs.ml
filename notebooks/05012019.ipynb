{
 "cells": [
  {
   "cell_type": "markdown",
   "metadata": {},
   "source": [
    "# An introduction to Keras\n",
    "\n",
    "We're going to learn about what Keras is and use it to build a small neural network.\n",
    "\n",
    "## What is Keras?\n",
    "\n",
    "Keras is a neural network library that simplifies the building and testing of neural network models. It offers more control over the architecture of the model than you would find in `scikit-learn`, but is still intuitive and pretty user friendly.  Keras requires a backend, commonly `Tensorflow` or `Theano`, to handle all the calculations that go into training a neural network.\n",
    "\n",
    "We'll familiarize ourselves with how Keras works by doing a small classification problem.\n",
    "\n",
    "## Using Keras: the Fashion-MNIST dataset\n",
    "\n",
    "I'm tired of using the MNIST dataset, so we're going to use Zalando Research's [Fashion-MNIST dataset](https://github.com/zalandoresearch/fashion-mnist). A description of the dataset from the website:\n",
    "\n",
    "&nbsp;&nbsp;&nbsp;&nbsp;&nbsp;&nbsp;*Fashion-MNIST is a dataset of Zalando's article images—consisting of a training set of 60,000 examples and a test set of 10,000 examples. Each example is a 28x28 grayscale image, associated with a label from 10 classes. We intend Fashion-MNIST to serve as a direct drop-in replacement for the original MNIST dataset for benchmarking machine learning algorithms.*\n",
    "\n",
    "Here is what the dataset looks like:\n",
    "\n",
    "![alt-test](https://github.com/zalandoresearch/fashion-mnist/blob/master/doc/img/fashion-mnist-sprite.png?raw=true)\n",
    "\n",
    "Each of the 10 classes has 3 rows of examples in the picture above. The 10 classes are:\n",
    "\n",
    "| Label | Description |\n",
    "|-------|-------------|\n",
    "| 0     | T-shirt/Top |\n",
    "| 1     | Trouser     |\n",
    "| 2     | Pullover    |\n",
    "| 3     | Dress       |\n",
    "| 4     | Coat        |\n",
    "| 5     | Sandal      |\n",
    "| 6     | Shirt       |\n",
    "| 7     | Sneaker     |\n",
    "| 8     | Bag         |\n",
    "| 9     | Ankle boot  |\n",
    "\n",
    "### Loading the dataset\n",
    "\n",
    "Keras has an API to load the Fashion-MNIST from the Zalando Research repo:"
   ]
  },
  {
   "cell_type": "code",
   "execution_count": 1,
   "metadata": {},
   "outputs": [
    {
     "name": "stderr",
     "output_type": "stream",
     "text": [
      "Using TensorFlow backend.\n"
     ]
    }
   ],
   "source": [
    "from keras.datasets import fashion_mnist\n",
    "(x_train, y_train), (x_test, y_test) = fashion_mnist.load_data()"
   ]
  },
  {
   "cell_type": "markdown",
   "metadata": {},
   "source": [
    "This downloads the data from the Fashion-MNIST database and load it into testing and training sets. Let's take a look at the data and learn more about it. "
   ]
  },
  {
   "cell_type": "code",
   "execution_count": 2,
   "metadata": {},
   "outputs": [
    {
     "data": {
      "text/plain": [
       "(60000, 28, 28)"
      ]
     },
     "execution_count": 2,
     "metadata": {},
     "output_type": "execute_result"
    }
   ],
   "source": [
    "x_train.shape"
   ]
  },
  {
   "cell_type": "code",
   "execution_count": 3,
   "metadata": {},
   "outputs": [
    {
     "data": {
      "text/plain": [
       "(10000, 28, 28)"
      ]
     },
     "execution_count": 3,
     "metadata": {},
     "output_type": "execute_result"
    }
   ],
   "source": [
    "x_test.shape"
   ]
  },
  {
   "cell_type": "markdown",
   "metadata": {},
   "source": [
    "As advertised, there are 60000 training points and 10000 testing points. Each of those points is a 28 by 28 image."
   ]
  },
  {
   "cell_type": "code",
   "execution_count": 4,
   "metadata": {},
   "outputs": [
    {
     "data": {
      "text/plain": [
       "(60000,)"
      ]
     },
     "execution_count": 4,
     "metadata": {},
     "output_type": "execute_result"
    }
   ],
   "source": [
    "y_train.shape"
   ]
  },
  {
   "cell_type": "code",
   "execution_count": 5,
   "metadata": {},
   "outputs": [
    {
     "data": {
      "text/plain": [
       "(10000,)"
      ]
     },
     "execution_count": 5,
     "metadata": {},
     "output_type": "execute_result"
    }
   ],
   "source": [
    "y_test.shape"
   ]
  },
  {
   "cell_type": "markdown",
   "metadata": {},
   "source": [
    "These are the 60000 and 10000 labels for the training and testing sets (respectively). Let's see what those are:"
   ]
  },
  {
   "cell_type": "code",
   "execution_count": 6,
   "metadata": {},
   "outputs": [
    {
     "name": "stdout",
     "output_type": "stream",
     "text": [
      "9\n",
      "0\n",
      "0\n",
      "3\n",
      "0\n",
      "2\n",
      "7\n",
      "2\n",
      "5\n",
      "5\n"
     ]
    }
   ],
   "source": [
    "for i in range(10):\n",
    "    print(y_train[i])"
   ]
  },
  {
   "cell_type": "markdown",
   "metadata": {},
   "source": [
    "These are integer labels corresponding to what class each of the images are. Let's create a list of class labels to make it a little more meaningful:"
   ]
  },
  {
   "cell_type": "code",
   "execution_count": 7,
   "metadata": {},
   "outputs": [],
   "source": [
    "class_labels = ['T-shirt/Top', 'Trouser', 'Pullover', 'Dress', 'Coat', \n",
    "               'Sandal', 'Shirt', 'Sneaker', 'Bag', 'Ankle boot']"
   ]
  },
  {
   "cell_type": "markdown",
   "metadata": {},
   "source": [
    "Now we can do this:"
   ]
  },
  {
   "cell_type": "code",
   "execution_count": 8,
   "metadata": {},
   "outputs": [
    {
     "name": "stdout",
     "output_type": "stream",
     "text": [
      "Ankle boot\n",
      "T-shirt/Top\n",
      "T-shirt/Top\n",
      "Dress\n",
      "T-shirt/Top\n",
      "Pullover\n",
      "Sneaker\n",
      "Pullover\n",
      "Sandal\n",
      "Sandal\n"
     ]
    }
   ],
   "source": [
    "for i in range(10):\n",
    "    print(class_labels[y_train[i]])"
   ]
  },
  {
   "cell_type": "markdown",
   "metadata": {},
   "source": [
    "Let's take a look at an image."
   ]
  },
  {
   "cell_type": "code",
   "execution_count": 9,
   "metadata": {},
   "outputs": [],
   "source": [
    "import sys\n",
    "sys.path.insert(0, '../src/')\n",
    "from gml_utils.visualization import show_labeled_figure"
   ]
  },
  {
   "cell_type": "code",
   "execution_count": 10,
   "metadata": {},
   "outputs": [
    {
     "data": {
      "text/plain": [
       "<Figure size 640x480 with 2 Axes>"
      ]
     },
     "metadata": {},
     "output_type": "display_data"
    }
   ],
   "source": [
    "show_labeled_figure(x_train, y_train, class_labels, 1)"
   ]
  },
  {
   "cell_type": "markdown",
   "metadata": {},
   "source": [
    "Mess around with the function to check out other images."
   ]
  },
  {
   "cell_type": "markdown",
   "metadata": {},
   "source": [
    "#### Q1\n",
    "\n",
    "* What are some preprocessing steps that we need to do?\n",
    "* What are some questions you have about the data set?\n",
    "\n",
    "### Preprocessing\n",
    "\n",
    "Let's normalize the values to be between 0 and 1:"
   ]
  },
  {
   "cell_type": "code",
   "execution_count": 11,
   "metadata": {},
   "outputs": [],
   "source": [
    "x_train = x_train / 255.0\n",
    "x_test = x_test / 255.0"
   ]
  },
  {
   "cell_type": "markdown",
   "metadata": {},
   "source": [
    "Let's double check to make sure the values have been correctly transformed:"
   ]
  },
  {
   "cell_type": "code",
   "execution_count": 12,
   "metadata": {},
   "outputs": [
    {
     "data": {
      "image/png": "[encoded data removed]",
      "text/plain": [
       "<Figure size 432x288 with 2 Axes>"
      ]
     },
     "metadata": {
      "needs_background": "light"
     },
     "output_type": "display_data"
    }
   ],
   "source": [
    "show_labeled_figure(x_train, y_train, class_labels, 1)"
   ]
  },
  {
   "cell_type": "markdown",
   "metadata": {},
   "source": [
    "### Building the model\n",
    "\n",
    "We're now going to build a neural network model with a single hidden layer. Building a neural network in Keras is done by adding layers to a `model` object. There are a ton of layers which you can read about [at the Keras website](https://keras.io/layers/core/). We're building a relatively simple network today, so we're only going to use the `Dense` and `Flatten` layers. The first step in building the model is to create a `Sequential` object:"
   ]
  },
  {
   "cell_type": "code",
   "execution_count": 13,
   "metadata": {},
   "outputs": [],
   "source": [
    "from keras.models import Sequential\n",
    "\n",
    "model = Sequential() "
   ]
  },
  {
   "cell_type": "markdown",
   "metadata": {},
   "source": [
    "From here, we add on layers using `model.add` and putting the name of the layer we want. We'll add a `Flatten` layer first to transform our data from a 2-dimensional matrix to a 1-dimensional list. Since this `Flatten` layer is the first layer being added to the model, we need to add an `input_shape` argument telling the model what the data we'll be inputting will look like:"
   ]
  },
  {
   "cell_type": "code",
   "execution_count": 14,
   "metadata": {},
   "outputs": [],
   "source": [
    "from keras.layers import Flatten\n",
    "\n",
    "model.add(Flatten(input_shape = (28, 28)))"
   ]
  },
  {
   "cell_type": "markdown",
   "metadata": {},
   "source": [
    "Now we're going to add a fully-connected hidden layer with 256 hidden nodes and a ReLU activation. This is done a by adding `Dense` layer:"
   ]
  },
  {
   "cell_type": "code",
   "execution_count": 15,
   "metadata": {},
   "outputs": [
    {
     "name": "stdout",
     "output_type": "stream",
     "text": [
      "WARNING:tensorflow:From /anaconda3/envs/germsml/lib/python3.6/site-packages/tensorflow/python/framework/op_def_library.py:263: colocate_with (from tensorflow.python.framework.ops) is deprecated and will be removed in a future version.\n",
      "Instructions for updating:\n",
      "Colocations handled automatically by placer.\n"
     ]
    }
   ],
   "source": [
    "from keras.layers import Dense\n",
    "\n",
    "model.add(Dense(256, activation = \"relu\"))"
   ]
  },
  {
   "cell_type": "markdown",
   "metadata": {},
   "source": [
    "Finally, we're going to add our activation layer. This is another `Dense` layer with one node for each of our ten classes. We'll use a `softmax` activation function in this layer."
   ]
  },
  {
   "cell_type": "code",
   "execution_count": 16,
   "metadata": {},
   "outputs": [],
   "source": [
    "model.add(Dense(10, activation = \"softmax\"))"
   ]
  },
  {
   "cell_type": "markdown",
   "metadata": {},
   "source": [
    "We have all the layers we need. All we have to do now is to compile the model. When we compile it, we need to tell the model which optimization algorithm to use, which loss function to use to measure the accuracy of the model during training, and the metric used to "
   ]
  },
  {
   "cell_type": "code",
   "execution_count": 17,
   "metadata": {},
   "outputs": [],
   "source": [
    "model.compile(optimizer = 'adam', \n",
    "              loss = 'sparse_categorical_crossentropy', \n",
    "              metrics = ['accuracy'])"
   ]
  },
  {
   "cell_type": "markdown",
   "metadata": {},
   "source": [
    "To collect all the code in one place:"
   ]
  },
  {
   "cell_type": "code",
   "execution_count": 18,
   "metadata": {},
   "outputs": [],
   "source": [
    "model = Sequential() \n",
    "model.add(Flatten(input_shape = (28, 28)))\n",
    "model.add(Dense(256, activation = \"relu\"))\n",
    "model.add(Dense(10, activation = \"softmax\"))\n",
    "model.compile(optimizer = 'adam', \n",
    "              loss = 'sparse_categorical_crossentropy', \n",
    "              metrics = ['accuracy'])"
   ]
  },
  {
   "cell_type": "markdown",
   "metadata": {},
   "source": [
    "Alternatively, you can pass all the layers and arguments you want when you create the `Sequential` object:"
   ]
  },
  {
   "cell_type": "code",
   "execution_count": 19,
   "metadata": {},
   "outputs": [],
   "source": [
    "model = Sequential([\n",
    "    Flatten(input_shape = (28, 28)),\n",
    "    Dense(256, activation = 'relu'),\n",
    "    Dense(10, activation = 'softmax')\n",
    "])\n",
    "model.compile(optimizer = 'adam', \n",
    "              loss = 'sparse_categorical_crossentropy', \n",
    "              metrics = ['accuracy'])"
   ]
  },
  {
   "cell_type": "markdown",
   "metadata": {},
   "source": [
    "We can print out information about the model using `model.summary`:"
   ]
  },
  {
   "cell_type": "code",
   "execution_count": 20,
   "metadata": {},
   "outputs": [
    {
     "name": "stdout",
     "output_type": "stream",
     "text": [
      "_________________________________________________________________\n",
      "Layer (type)                 Output Shape              Param #   \n",
      "=================================================================\n",
      "flatten_3 (Flatten)          (None, 784)               0         \n",
      "_________________________________________________________________\n",
      "dense_5 (Dense)              (None, 256)               200960    \n",
      "_________________________________________________________________\n",
      "dense_6 (Dense)              (None, 10)                2570      \n",
      "=================================================================\n",
      "Total params: 203,530\n",
      "Trainable params: 203,530\n",
      "Non-trainable params: 0\n",
      "_________________________________________________________________\n"
     ]
    }
   ],
   "source": [
    "model.summary()"
   ]
  },
  {
   "cell_type": "markdown",
   "metadata": {},
   "source": [
    "And that's it. We're now ready to train the network.\n",
    "\n",
    "### Training the model\n",
    "\n",
    "Just like with `scikit-learn`, we train the network by calling `model.fit` with the attributes and targets of the dataset. Recall that training a neural network involves several rounds of making predictions and adjusting the weights. We call each round of predictions and adjustments epochs. For now, we'll just do 10 epochs. We'll also tell Keras to use a 10% validation split."
   ]
  },
  {
   "cell_type": "code",
   "execution_count": 21,
   "metadata": {},
   "outputs": [
    {
     "name": "stdout",
     "output_type": "stream",
     "text": [
      "WARNING:tensorflow:From /anaconda3/envs/germsml/lib/python3.6/site-packages/tensorflow/python/ops/math_ops.py:3066: to_int32 (from tensorflow.python.ops.math_ops) is deprecated and will be removed in a future version.\n",
      "Instructions for updating:\n",
      "Use tf.cast instead.\n",
      "Train on 54000 samples, validate on 6000 samples\n",
      "Epoch 1/10\n",
      "54000/54000 [==============================] - 9s 165us/step - loss: 0.4945 - acc: 0.8250 - val_loss: 0.4465 - val_acc: 0.8388\n",
      "Epoch 2/10\n",
      "54000/54000 [==============================] - 9s 167us/step - loss: 0.3689 - acc: 0.8664 - val_loss: 0.3749 - val_acc: 0.8702\n",
      "Epoch 3/10\n",
      "54000/54000 [==============================] - 8s 151us/step - loss: 0.3307 - acc: 0.8784 - val_loss: 0.3429 - val_acc: 0.8765\n",
      "Epoch 4/10\n",
      "54000/54000 [==============================] - 8s 143us/step - loss: 0.3056 - acc: 0.8875 - val_loss: 0.3331 - val_acc: 0.8813\n",
      "Epoch 5/10\n",
      "54000/54000 [==============================] - 8s 141us/step - loss: 0.2852 - acc: 0.8948 - val_loss: 0.3124 - val_acc: 0.8850\n",
      "Epoch 6/10\n",
      "54000/54000 [==============================] - 8s 142us/step - loss: 0.2700 - acc: 0.8999 - val_loss: 0.3339 - val_acc: 0.8827\n",
      "Epoch 7/10\n",
      "54000/54000 [==============================] - 8s 152us/step - loss: 0.2568 - acc: 0.9045 - val_loss: 0.3404 - val_acc: 0.8760\n",
      "Epoch 8/10\n",
      "54000/54000 [==============================] - 8s 149us/step - loss: 0.2439 - acc: 0.9101 - val_loss: 0.3391 - val_acc: 0.8817\n",
      "Epoch 9/10\n",
      "54000/54000 [==============================] - 9s 158us/step - loss: 0.2341 - acc: 0.9127 - val_loss: 0.3448 - val_acc: 0.8822\n",
      "Epoch 10/10\n",
      "54000/54000 [==============================] - 9s 166us/step - loss: 0.2252 - acc: 0.9155 - val_loss: 0.3606 - val_acc: 0.8755\n"
     ]
    },
    {
     "data": {
      "text/plain": [
       "<keras.callbacks.History at 0x128afa0b8>"
      ]
     },
     "execution_count": 21,
     "metadata": {},
     "output_type": "execute_result"
    }
   ],
   "source": [
    "model.fit(x_train, y_train, epochs = 10, \n",
    "          validation_split = 0.1)"
   ]
  },
  {
   "cell_type": "markdown",
   "metadata": {},
   "source": [
    "Let's evaluate the performance of our model on the testing dataset:"
   ]
  },
  {
   "cell_type": "code",
   "execution_count": 22,
   "metadata": {},
   "outputs": [
    {
     "name": "stdout",
     "output_type": "stream",
     "text": [
      "10000/10000 [==============================] - 1s 65us/step\n",
      "Test loss: 0.3790911635160446\n",
      "Test accuracy: 0.868\n"
     ]
    }
   ],
   "source": [
    "test_loss, test_acc = model.evaluate(x_test, y_test)\n",
    "\n",
    "print('Test loss: {}\\nTest accuracy: {}'.format(test_loss, test_acc))"
   ]
  },
  {
   "cell_type": "markdown",
   "metadata": {},
   "source": [
    "So we achieved an accuracy of 88.9% on the testing set.\n",
    "\n",
    "#### Q2\n",
    "\n",
    "* How do we read the output of `model.fit`?\n",
    "* What is a straightforward fix to increase the accuracy of our model?\n",
    "\n",
    "### Making predictions\n",
    "\n",
    "Let's use our model to make predictions on the test set and visualize the results."
   ]
  },
  {
   "cell_type": "code",
   "execution_count": 23,
   "metadata": {},
   "outputs": [
    {
     "data": {
      "text/plain": [
       "(10000, 10)"
      ]
     },
     "execution_count": 23,
     "metadata": {},
     "output_type": "execute_result"
    }
   ],
   "source": [
    "test_predictions = model.predict(x_test)\n",
    "test_predictions.shape"
   ]
  },
  {
   "cell_type": "markdown",
   "metadata": {},
   "source": [
    "What does the shape of `test_predictions` mean?\n",
    "\n",
    "Let's look at one data point in `test_predictions`:"
   ]
  },
  {
   "cell_type": "code",
   "execution_count": 24,
   "metadata": {},
   "outputs": [
    {
     "data": {
      "text/plain": [
       "array([2.0895364e-07, 3.3070775e-09, 3.3408899e-08, 4.4444586e-09,\n",
       "       2.5422572e-10, 2.2464681e-02, 1.0528481e-06, 1.4430156e-02,\n",
       "       6.1981368e-08, 9.6310377e-01], dtype=float32)"
      ]
     },
     "execution_count": 24,
     "metadata": {},
     "output_type": "execute_result"
    }
   ],
   "source": [
    "test_predictions[0]"
   ]
  },
  {
   "cell_type": "markdown",
   "metadata": {},
   "source": [
    "What do these numbers represent?\n",
    "\n",
    "Let's visualize an image and the distribution of predictions."
   ]
  },
  {
   "cell_type": "code",
   "execution_count": 25,
   "metadata": {},
   "outputs": [
    {
     "data": {
      "image/png": "[encoded data removed]",
      "text/plain": [
       "<Figure size 720x360 with 2 Axes>"
      ]
     },
     "metadata": {
      "needs_background": "light"
     },
     "output_type": "display_data"
    }
   ],
   "source": [
    "from gml_utils.visualization import show_image_with_predictions\n",
    "\n",
    "show_image_with_predictions(0, test_predictions, y_test, x_test, class_labels)"
   ]
  },
  {
   "cell_type": "code",
   "execution_count": 26,
   "metadata": {},
   "outputs": [
    {
     "data": {
      "image/png": "[encoded data removed]",
      "text/plain": [
       "<Figure size 720x360 with 2 Axes>"
      ]
     },
     "metadata": {
      "needs_background": "light"
     },
     "output_type": "display_data"
    }
   ],
   "source": [
    "show_image_with_predictions(13, test_predictions, y_test, x_test, class_labels)"
   ]
  },
  {
   "cell_type": "code",
   "execution_count": 27,
   "metadata": {},
   "outputs": [
    {
     "data": {
      "image/png": "[encoded data removed]",
      "text/plain": [
       "<Figure size 720x360 with 2 Axes>"
      ]
     },
     "metadata": {
      "needs_background": "light"
     },
     "output_type": "display_data"
    }
   ],
   "source": [
    "show_image_with_predictions(13, test_predictions, y_test, x_test, class_labels)"
   ]
  },
  {
   "cell_type": "code",
   "execution_count": 28,
   "metadata": {},
   "outputs": [
    {
     "data": {
      "image/png": "[encoded data removed]",
      "text/plain": [
       "<Figure size 720x360 with 2 Axes>"
      ]
     },
     "metadata": {
      "needs_background": "light"
     },
     "output_type": "display_data"
    }
   ],
   "source": [
    "show_image_with_predictions(50, test_predictions, y_test, x_test, class_labels)"
   ]
  },
  {
   "cell_type": "markdown",
   "metadata": {},
   "source": [
    "And the confusion matrix:"
   ]
  },
  {
   "cell_type": "code",
   "execution_count": 29,
   "metadata": {},
   "outputs": [
    {
     "data": {
      "image/png": "[encoded data removed]",
      "text/plain": [
       "<Figure size 576x432 with 2 Axes>"
      ]
     },
     "metadata": {
      "needs_background": "light"
     },
     "output_type": "display_data"
    }
   ],
   "source": [
    "from sklearn.metrics import confusion_matrix\n",
    "from gml_utils.visualization import plot_confusion_matrix\n",
    "\n",
    "fashion_cm = confusion_matrix(y_test, test_predictions.argmax(axis = 1))\n",
    "plot_confusion_matrix(fashion_cm, class_labels)"
   ]
  },
  {
   "cell_type": "markdown",
   "metadata": {},
   "source": [
    "### Q3\n",
    "\n",
    "* Make a new model with a few more hidden layers. Vary the number of nodes and increase the number of epochs. Compare your results to [Zalando Research benchmarks](http://fashion-mnist.s3-website.eu-central-1.amazonaws.com/).\n",
    "* Keras neural networks are compatible with GridSearchCV from `scikit-learn`, but it's a little more involved. Follow [this page](https://machinelearningmastery.com/grid-search-hyperparameters-deep-learning-models-python-keras/) to try and implement it yourself.\n",
    "* A popular type of neural network used for image recognition tasks are [convolutional neural networks](https://en.wikipedia.org/wiki/Convolutional_neural_network). Make a new model with a [Conv2D](https://keras.io/layers/convolutional/) layer as input. Set `filters = 1` and `kernel_size = (2, 2)`.\n"
   ]
  }
 ],
 "metadata": {
  "kernelspec": {
   "display_name": "Python 3",
   "language": "python",
   "name": "python3"
  },
  "language_info": {
   "codemirror_mode": {
    "name": "ipython",
    "version": 3
   },
   "file_extension": ".py",
   "mimetype": "text/x-python",
   "name": "python",
   "nbconvert_exporter": "python",
   "pygments_lexer": "ipython3",
   "version": "3.6.7"
  }
 },
 "nbformat": 4,
 "nbformat_minor": 2
}
