{
 "cells": [
  {
   "cell_type": "markdown",
   "metadata": {},
   "source": [
    "# GERMS-ML\n",
    "## (Very) Basic sentiment analysis and hyperparameter optimization with Keras\n",
    "\n",
    "Today, we'll be looking at the paper [Learning Word Vectors for Sentiment Analysis](http://ai.stanford.edu/~amaas/papers/wvSent_acl2011.pdf) by Maas et al. In this paper, the authors tested the accuracy of various sentiment-classification algorithms on a sample of 50000 IMDB reviews. This database, called the [ IMDB  (or Large Movie Review Dataset)](http://ai.stanford.edu/~amaas/data/sentiment/), only contains \"highly polarized\" reviews; that is, reviews with a score below 4 and those with a score above 7. In the paper, the authors achieved an 88.89% accuracy on the IMDB dataset using a variant of SVM. We will see how well we can do by using neural networks. While this may not necessarily be the best model to do so, it will give us a chance to practice building models and performing hyperparameter tuning in Keras.\n",
    "\n",
    "### Data exploration\n",
    "\n",
    "`Keras` has [API](https://keras.io/datasets/) for loading the IMDB dataset :"
   ]
  },
  {
   "cell_type": "code",
   "execution_count": 1,
   "metadata": {},
   "outputs": [
    {
     "name": "stderr",
     "output_type": "stream",
     "text": [
      "Using TensorFlow backend.\n"
     ]
    }
   ],
   "source": [
    "from keras.datasets import imdb\n",
    "(x_train, y_train), (x_test, y_test) = imdb.load_data()"
   ]
  },
  {
   "cell_type": "markdown",
   "metadata": {},
   "source": [
    "Let's look at the size of the sets:"
   ]
  },
  {
   "cell_type": "code",
   "execution_count": 2,
   "metadata": {},
   "outputs": [
    {
     "data": {
      "text/plain": [
       "[25000, 25000, 25000, 25000]"
      ]
     },
     "execution_count": 2,
     "metadata": {},
     "output_type": "execute_result"
    }
   ],
   "source": [
    "[s.size for s in [x_train, y_train, x_test, y_test]]"
   ]
  },
  {
   "cell_type": "markdown",
   "metadata": {},
   "source": [
    "We see that the training and testing sets were evenly split, and this is how the authors split the data in their paper. We'll keep this split for now, though the impact of the training-test split on our performance is something we can investigate later.\n",
    "\n",
    "Let's see what each of the data points in `x_train` look like:"
   ]
  },
  {
   "cell_type": "code",
   "execution_count": 3,
   "metadata": {},
   "outputs": [
    {
     "data": {
      "text/plain": [
       "[1,\n",
       " 14,\n",
       " 22,\n",
       " 16,\n",
       " 43,\n",
       " 530,\n",
       " 973,\n",
       " 1622,\n",
       " 1385,\n",
       " 65,\n",
       " 458,\n",
       " 4468,\n",
       " 66,\n",
       " 3941,\n",
       " 4,\n",
       " 173,\n",
       " 36,\n",
       " 256,\n",
       " 5,\n",
       " 25,\n",
       " 100,\n",
       " 43,\n",
       " 838,\n",
       " 112,\n",
       " 50,\n",
       " 670,\n",
       " 22665,\n",
       " 9,\n",
       " 35,\n",
       " 480,\n",
       " 284,\n",
       " 5,\n",
       " 150,\n",
       " 4,\n",
       " 172,\n",
       " 112,\n",
       " 167,\n",
       " 21631,\n",
       " 336,\n",
       " 385,\n",
       " 39,\n",
       " 4,\n",
       " 172,\n",
       " 4536,\n",
       " 1111,\n",
       " 17,\n",
       " 546,\n",
       " 38,\n",
       " 13,\n",
       " 447,\n",
       " 4,\n",
       " 192,\n",
       " 50,\n",
       " 16,\n",
       " 6,\n",
       " 147,\n",
       " 2025,\n",
       " 19,\n",
       " 14,\n",
       " 22,\n",
       " 4,\n",
       " 1920,\n",
       " 4613,\n",
       " 469,\n",
       " 4,\n",
       " 22,\n",
       " 71,\n",
       " 87,\n",
       " 12,\n",
       " 16,\n",
       " 43,\n",
       " 530,\n",
       " 38,\n",
       " 76,\n",
       " 15,\n",
       " 13,\n",
       " 1247,\n",
       " 4,\n",
       " 22,\n",
       " 17,\n",
       " 515,\n",
       " 17,\n",
       " 12,\n",
       " 16,\n",
       " 626,\n",
       " 18,\n",
       " 19193,\n",
       " 5,\n",
       " 62,\n",
       " 386,\n",
       " 12,\n",
       " 8,\n",
       " 316,\n",
       " 8,\n",
       " 106,\n",
       " 5,\n",
       " 4,\n",
       " 2223,\n",
       " 5244,\n",
       " 16,\n",
       " 480,\n",
       " 66,\n",
       " 3785,\n",
       " 33,\n",
       " 4,\n",
       " 130,\n",
       " 12,\n",
       " 16,\n",
       " 38,\n",
       " 619,\n",
       " 5,\n",
       " 25,\n",
       " 124,\n",
       " 51,\n",
       " 36,\n",
       " 135,\n",
       " 48,\n",
       " 25,\n",
       " 1415,\n",
       " 33,\n",
       " 6,\n",
       " 22,\n",
       " 12,\n",
       " 215,\n",
       " 28,\n",
       " 77,\n",
       " 52,\n",
       " 5,\n",
       " 14,\n",
       " 407,\n",
       " 16,\n",
       " 82,\n",
       " 10311,\n",
       " 8,\n",
       " 4,\n",
       " 107,\n",
       " 117,\n",
       " 5952,\n",
       " 15,\n",
       " 256,\n",
       " 4,\n",
       " 31050,\n",
       " 7,\n",
       " 3766,\n",
       " 5,\n",
       " 723,\n",
       " 36,\n",
       " 71,\n",
       " 43,\n",
       " 530,\n",
       " 476,\n",
       " 26,\n",
       " 400,\n",
       " 317,\n",
       " 46,\n",
       " 7,\n",
       " 4,\n",
       " 12118,\n",
       " 1029,\n",
       " 13,\n",
       " 104,\n",
       " 88,\n",
       " 4,\n",
       " 381,\n",
       " 15,\n",
       " 297,\n",
       " 98,\n",
       " 32,\n",
       " 2071,\n",
       " 56,\n",
       " 26,\n",
       " 141,\n",
       " 6,\n",
       " 194,\n",
       " 7486,\n",
       " 18,\n",
       " 4,\n",
       " 226,\n",
       " 22,\n",
       " 21,\n",
       " 134,\n",
       " 476,\n",
       " 26,\n",
       " 480,\n",
       " 5,\n",
       " 144,\n",
       " 30,\n",
       " 5535,\n",
       " 18,\n",
       " 51,\n",
       " 36,\n",
       " 28,\n",
       " 224,\n",
       " 92,\n",
       " 25,\n",
       " 104,\n",
       " 4,\n",
       " 226,\n",
       " 65,\n",
       " 16,\n",
       " 38,\n",
       " 1334,\n",
       " 88,\n",
       " 12,\n",
       " 16,\n",
       " 283,\n",
       " 5,\n",
       " 16,\n",
       " 4472,\n",
       " 113,\n",
       " 103,\n",
       " 32,\n",
       " 15,\n",
       " 16,\n",
       " 5345,\n",
       " 19,\n",
       " 178,\n",
       " 32]"
      ]
     },
     "execution_count": 3,
     "metadata": {},
     "output_type": "execute_result"
    }
   ],
   "source": [
    "x_train[0]"
   ]
  },
  {
   "cell_type": "markdown",
   "metadata": {},
   "source": [
    "Each data point is a list of integers corresponding to the word frequency. For example:"
   ]
  },
  {
   "cell_type": "code",
   "execution_count": 4,
   "metadata": {},
   "outputs": [
    {
     "data": {
      "text/plain": [
       "[1, 14, 22, 16, 43, 530, 973, 1622, 1385, 65]"
      ]
     },
     "execution_count": 4,
     "metadata": {},
     "output_type": "execute_result"
    }
   ],
   "source": [
    "x_train[0][0:10]"
   ]
  },
  {
   "cell_type": "markdown",
   "metadata": {},
   "source": [
    "The first word of the first review is the 1st most frequent word in the data, the second is the 14th most frequent word, etc. \n",
    "\n",
    "Let's see how many unique words there are in the dataset. "
   ]
  },
  {
   "cell_type": "code",
   "execution_count": 5,
   "metadata": {},
   "outputs": [],
   "source": [
    "import numpy as np\n",
    "X = np.concatenate((x_train, x_test), axis = 0)"
   ]
  },
  {
   "cell_type": "code",
   "execution_count": 6,
   "metadata": {},
   "outputs": [
    {
     "data": {
      "text/plain": [
       "88585"
      ]
     },
     "execution_count": 6,
     "metadata": {},
     "output_type": "execute_result"
    }
   ],
   "source": [
    "len(np.unique(np.hstack(X)))"
   ]
  },
  {
   "cell_type": "markdown",
   "metadata": {},
   "source": [
    "So there are 88585 unique words in the data set. "
   ]
  },
  {
   "cell_type": "markdown",
   "metadata": {},
   "source": [
    "Let's see what the y values look like:"
   ]
  },
  {
   "cell_type": "code",
   "execution_count": 7,
   "metadata": {},
   "outputs": [
    {
     "data": {
      "text/plain": [
       "array([1, 0, 0, 1, 0, 0, 1, 0, 1, 0], dtype=int64)"
      ]
     },
     "execution_count": 7,
     "metadata": {},
     "output_type": "execute_result"
    }
   ],
   "source": [
    "y_train[0:10]"
   ]
  },
  {
   "cell_type": "markdown",
   "metadata": {},
   "source": [
    "We see that the targets are either 0 or 1, corresponding to if the review was negative or positive.\n",
    "\n",
    "Let's examine the data a little more closely. Let's start by looking at the distribution of review lengths:"
   ]
  },
  {
   "cell_type": "code",
   "execution_count": 8,
   "metadata": {},
   "outputs": [],
   "source": [
    "import pandas as pd\n",
    "reviews = pd.DataFrame({\"review\": X})\n",
    "reviews['length'] = reviews.apply(lambda row: len(row.review), axis = 1)"
   ]
  },
  {
   "cell_type": "code",
   "execution_count": 9,
   "metadata": {},
   "outputs": [
    {
     "data": {
      "image/png": "[encoded data removed]",
      "text/plain": [
       "<Figure size 432x288 with 1 Axes>"
      ]
     },
     "metadata": {},
     "output_type": "display_data"
    }
   ],
   "source": [
    "%matplotlib inline\n",
    "import matplotlib.pyplot as plt\n",
    "plt.style.use('ggplot')\n",
    "reviews.hist(column = \"length\", bins = 100);\n",
    "upper_q = reviews.length.quantile(0.95);\n",
    "review_mean = reviews.length.mean();\n",
    "plt.axvline(x = upper_q, linestyle = '--', color = 'black');\n",
    "plt.text(upper_q + 20, 5000, \"95% cutoff: {}\".format(upper_q),\n",
    "         rotation = 90);\n",
    "plt.axvline(x = review_mean, linestyle = '--', color = 'black');\n",
    "plt.text(review_mean + 30, 5000, \"Mean: {}\".format(review_mean),\n",
    "        rotation = 90);\n",
    "plt.title(\"Frequency distribution of review lengths\");"
   ]
  },
  {
   "cell_type": "markdown",
   "metadata": {},
   "source": [
    "We see that most of the reviews fall below 300 words, the average is just abotu 235, and that 95% of the reviews are less than 598 words long. We'll use this information later when deciding how many words to use for our classification.\n",
    "\n",
    "Let's see if there is correlation between review length and review."
   ]
  },
  {
   "cell_type": "code",
   "execution_count": 10,
   "metadata": {},
   "outputs": [
    {
     "data": {
      "text/plain": [
       "0.008232882396842629"
      ]
     },
     "execution_count": 10,
     "metadata": {},
     "output_type": "execute_result"
    }
   ],
   "source": [
    "Y = np.concatenate((y_train, y_test), axis = 0)\n",
    "reviews['sentiment'] = Y\n",
    "reviews['length'].corr(reviews['sentiment'])"
   ]
  },
  {
   "cell_type": "markdown",
   "metadata": {},
   "source": [
    "Looks like there isn't - that would be too easy. :)\n",
    "\n",
    "### Q1\n",
    "\n",
    "* What are some filtering steps we could take when choosing our input data?\n",
    "* What are some questions you have about the data?\n",
    "* What are some models we could have built if the correlation between review length and sentiment was high?\n",
    "\n",
    "## Word embeddings\n",
    "\n",
    "We'll begin by building a fully-connected neural network, but we first have to decide how we'll input our data into the network. Each review consists of several words - how should our model treat these words? One initial thought would be to one-hot encode each of the words, but that is undesirable because the words have meaning that directly contributes to the sentiment of a review. Perhaps, then, they should treated as categories (ie, mapped to integers, as the data already is). However, this runs into another problem (besides the typical one of the model learning magnitude as important): this doesn't capture relationships between the words.\n",
    "\n",
    "A area of study called [word embeddings](https://en.wikipedia.org/wiki/Word_embedding) addresses this problem by mapping a corpus of words into a vector space. There are several techniques for doing so (most famously Word2Vec), but they all achieve the goal of decomposing the words of a corpus into a vector space. Once in a vector space, vector arithmetic becomes meaningful. Some famous examples:\n",
    "\n",
    "* **King - man + woman = queen**: Here, the mapping picked up on the gender of the words as important.\n",
    "* **Paris - France + Poland = Warsaw**: The embedding picked up on the capital city as important.\n",
    "\n",
    "For learning more about word embeddings, I recommend:\n",
    "\n",
    "* [Understanding word vectors](https://gist.github.com/aparrish/2f562e3737544cf29aaf1af30362f469)\n",
    "* [The Marvelous Mathematics of Computational Linguistics](https://www.technologyreview.com/s/541356/king-man-woman-queen-the-marvelous-mathematics-of-computational-linguistics/)\n",
    "\n",
    "we'll be using [`Keras`' `embedding` layer](https://keras.io/layers/embeddings/) today to perform the word embedding. We'll talk more about it when we build the model.\n",
    "\n",
    "### Q2\n",
    "\n",
    "* What are some questions you have about performing word embedding?\n",
    "\n",
    "\n",
    "## Building a multi-layer perceptron\n",
    "\n",
    "We're going to start by building a multi-layer perceptron. We begin by importing the needed packages."
   ]
  },
  {
   "cell_type": "code",
   "execution_count": 11,
   "metadata": {},
   "outputs": [],
   "source": [
    "from keras.models import Sequential\n",
    "from keras.layers import Dense, Flatten\n",
    "from keras.layers.embeddings import Embedding\n",
    "from keras.preprocessing import sequence\n",
    "np.random.seed(489)"
   ]
  },
  {
   "cell_type": "code",
   "execution_count": 12,
   "metadata": {},
   "outputs": [],
   "source": [
    "max_features = 5000\n",
    "(x_train, y_train), (x_test, y_test) = imdb.load_data(num_words = max_features)"
   ]
  },
  {
   "cell_type": "markdown",
   "metadata": {},
   "source": [
    "We now have to pick the size of our input to our neural network. We see that the reviews are not uniform length - how should we choose our input size? The strategy we will be using is to force the reviews to be of a certain length. We saw earlier that 95% of the reviews were less than 598 words long; thus, we'll transform each of the data points to be 598 words long. For reviews longer than that, we'll ignore the words past 598, and we'll use `sequence.pad_sequences` to 0-pad the review shorter than that cutoff."
   ]
  },
  {
   "cell_type": "code",
   "execution_count": 13,
   "metadata": {},
   "outputs": [],
   "source": [
    "max_length = 598\n",
    "x_train = sequence.pad_sequences(x_train, maxlen = max_length)\n",
    "x_test = sequence.pad_sequences(x_test, maxlen = max_length)"
   ]
  },
  {
   "cell_type": "markdown",
   "metadata": {},
   "source": [
    "Now our data is ready to go. Let's build models. We're going to start off with a simple multi-layer perceptron. Note that the first layer will be an `Embedding` layer as discussed in the previous section."
   ]
  },
  {
   "cell_type": "code",
   "execution_count": 14,
   "metadata": {},
   "outputs": [
    {
     "name": "stdout",
     "output_type": "stream",
     "text": [
      "WARNING:tensorflow:From C:\\Users\\pvill\\Anaconda3\\envs\\germsml\\lib\\site-packages\\tensorflow\\python\\framework\\op_def_library.py:263: colocate_with (from tensorflow.python.framework.ops) is deprecated and will be removed in a future version.\n",
      "Instructions for updating:\n",
      "Colocations handled automatically by placer.\n"
     ]
    }
   ],
   "source": [
    "nn = Sequential()\n",
    "nn.add(Embedding(max_features, 64, \n",
    "                    input_length = max_length))\n",
    "nn.add(Flatten())\n",
    "nn.add(Dense(125, activation = 'relu'))\n",
    "nn.add(Dense(64, activation = 'relu'))\n",
    "nn.add(Dense(1, activation = 'sigmoid'))\n",
    "nn.compile(loss = 'binary_crossentropy',\n",
    "             optimizer = 'adam',\n",
    "             metrics = ['accuracy'])\n"
   ]
  },
  {
   "cell_type": "markdown",
   "metadata": {},
   "source": [
    "Let's go ahead and fit the model:"
   ]
  },
  {
   "cell_type": "code",
   "execution_count": 54,
   "metadata": {},
   "outputs": [
    {
     "name": "stdout",
     "output_type": "stream",
     "text": [
      "Train on 25000 samples, validate on 25000 samples\n",
      "Epoch 1/2\n",
      "25000/25000 [==============================] - 60s 2ms/step - loss: 0.0225 - acc: 0.9928 - val_loss: 0.6662 - val_acc: 0.8502\n",
      "Epoch 2/2\n",
      "25000/25000 [==============================] - 57s 2ms/step - loss: 0.0109 - acc: 0.9964 - val_loss: 0.7884 - val_acc: 0.8516\n"
     ]
    }
   ],
   "source": [
    "nn_history = nn.fit(x_train, y_train, validation_data = (x_test, y_test),\n",
    "      epochs = 2)"
   ]
  },
  {
   "cell_type": "markdown",
   "metadata": {},
   "source": [
    "Let's check our validation accuracy"
   ]
  },
  {
   "cell_type": "code",
   "execution_count": 55,
   "metadata": {},
   "outputs": [
    {
     "name": "stdout",
     "output_type": "stream",
     "text": [
      "Accuracy: 0.8516\n"
     ]
    }
   ],
   "source": [
    "scores = nn.evaluate(x_test, y_test, verbose = 0)\n",
    "print(\"Accuracy: {:.4}\".format(scores[1]))"
   ]
  },
  {
   "cell_type": "markdown",
   "metadata": {},
   "source": [
    "For the amount of work we put in, our result isn't too far off of the 88.79% reported in the Maas paper. What other ways could we improve the accuracy?\n",
    "\n",
    "Let's do a visualization:"
   ]
  },
  {
   "cell_type": "code",
   "execution_count": 56,
   "metadata": {},
   "outputs": [
    {
     "data": {
      "image/png": "[encoded data removed]",
      "text/plain": [
       "<Figure size 864x360 with 2 Axes>"
      ]
     },
     "metadata": {},
     "output_type": "display_data"
    }
   ],
   "source": [
    "import sys\n",
    "sys.path.insert(0, '../src')\n",
    "from gml_utils.visualization import plot_history\n",
    "plot_history(nn_history)"
   ]
  },
  {
   "cell_type": "markdown",
   "metadata": {},
   "source": [
    "*Note*: We can see the weight matrix for the word embedding by doing the following:"
   ]
  },
  {
   "cell_type": "code",
   "execution_count": 67,
   "metadata": {},
   "outputs": [
    {
     "data": {
      "text/plain": [
       "[array([[-0.00209699,  0.00553939, -0.00073237, ...,  0.00583929,\n",
       "         -0.00385168, -0.00472361],\n",
       "        [-0.10081855, -0.00297871, -0.0368601 , ...,  0.00294316,\n",
       "          0.02872147, -0.00658239],\n",
       "        [-0.003597  ,  0.01577239,  0.01324601, ..., -0.05034737,\n",
       "          0.00447197, -0.02423627],\n",
       "        ...,\n",
       "        [-0.04432647,  0.07158779, -0.01363384, ...,  0.08508951,\n",
       "          0.03678215, -0.05932579],\n",
       "        [-0.0721592 , -0.08231144,  0.04334386, ..., -0.05090918,\n",
       "          0.00657488, -0.02325673],\n",
       "        [-0.01496676, -0.06692831, -0.06130487, ..., -0.12799256,\n",
       "          0.03904156,  0.08368525]], dtype=float32)]"
      ]
     },
     "execution_count": 67,
     "metadata": {},
     "output_type": "execute_result"
    }
   ],
   "source": [
    "nn.layers[0].get_weights()"
   ]
  },
  {
   "cell_type": "markdown",
   "metadata": {},
   "source": [
    "### Q3\n",
    "\n",
    "* What are the charts above telling us? How can we address these issues?\n",
    "* Check out the [documentation](https://keras.io/datasets/) for the IMDB dataset again - what other fucntions could we use to fine tune our model?\n",
    "* You can get the weight matrix for the word embedding by doing `nn.layers[0].get_weights()`. How do you interpret this matrix? What are some questions you can answer with this matrix? \n",
    "\n",
    "## Hyperparameter optimization\n",
    "\n",
    "So we have a model up and running and it has decent performance. Let's go ahead and tune the model. [In previous lessons where we were building models using `sklearn`](notebooks/04172019.ipynb), we searched our parameter space by using `GridSearchCV`, which iterated through all the combinations of hyperparameters from the search space we passed it to find the model that performed the best. `Keras` doesn't have a similar function, but we can adapt `sklearn`'s `GridSearchCV` to work on `Keras` models.\n",
    "\n",
    "To do so, we'll define a function `build_nn` that takes in a set of hyperparameters and returns a neural network with these hyperparameters. First, let's define our hyperparameter search space. For this example, we'll vary the number of hidden layers, the size of the hidden layers, and the dimension of the embedding."
   ]
  },
  {
   "cell_type": "code",
   "execution_count": 36,
   "metadata": {},
   "outputs": [],
   "source": [
    "nn_param_grid = [\n",
    "    {\n",
    "        'hidden_layers': [1, 2],\n",
    "        'hidden_layers_size': [64, 125],\n",
    "        'embedding_dim': [32, 64],\n",
    "        'epochs': [1]\n",
    "    }\n",
    "]"
   ]
  },
  {
   "cell_type": "markdown",
   "metadata": {},
   "source": [
    "And let's create our function to take in these variables and return the appropriate model:"
   ]
  },
  {
   "cell_type": "code",
   "execution_count": 40,
   "metadata": {},
   "outputs": [],
   "source": [
    "def build_nn(hidden_layers, hidden_layers_size, embedding_dim):\n",
    "    \"\"\"\n",
    "    Builds a fully-connected neural network with the passed hyperparameters.\n",
    "    \"\"\"\n",
    "    from keras.models import Sequential\n",
    "    from keras.layers import Dense, Flatten\n",
    "    from keras.layers.embeddings import Embedding\n",
    "    model = Sequential()\n",
    "    model.add(Embedding(5000, embedding_dim, \n",
    "                        input_length = 598))\n",
    "    model.add(Flatten())\n",
    "    for i in range(hidden_layers):\n",
    "        model.add(Dense(hidden_layers_size, activation = 'relu'))\n",
    "        \n",
    "    model.add(Dense(1, activation = 'sigmoid'))\n",
    "    \n",
    "    model.compile(loss = 'binary_crossentropy',\n",
    "                  optimizer = 'adam',\n",
    "                  metrics = ['accuracy'])\n",
    "\n",
    "    return(model)"
   ]
  },
  {
   "cell_type": "markdown",
   "metadata": {},
   "source": [
    "Now that we have our `build_nn` function, we're almost ready to perform our GridSearch.."
   ]
  },
  {
   "cell_type": "code",
   "execution_count": 41,
   "metadata": {},
   "outputs": [],
   "source": [
    "from keras.wrappers.scikit_learn import KerasClassifier\n",
    "from sklearn.model_selection import GridSearchCV\n",
    "nn_model = KerasClassifier(build_nn)\n",
    "nn_gridsearch = GridSearchCV(estimator = nn_model, \n",
    "                             param_grid = nn_param_grid,\n",
    "                             n_jobs = -1,\n",
    "                             verbose = 2)"
   ]
  },
  {
   "cell_type": "markdown",
   "metadata": {},
   "source": [
    "Now, just like with the `sklearn` models, we can call `fit` on the `GridSearch` object *(warning: this will take a while)*:"
   ]
  },
  {
   "cell_type": "code",
   "execution_count": 42,
   "metadata": {},
   "outputs": [
    {
     "name": "stdout",
     "output_type": "stream",
     "text": [
      "Fitting 3 folds for each of 8 candidates, totalling 24 fits\n"
     ]
    },
    {
     "name": "stderr",
     "output_type": "stream",
     "text": [
      "[Parallel(n_jobs=2)]: Using backend LokyBackend with 2 concurrent workers.\n",
      "[Parallel(n_jobs=2)]: Done  24 out of  24 | elapsed:  8.7min finished\n"
     ]
    },
    {
     "name": "stdout",
     "output_type": "stream",
     "text": [
      "WARNING:tensorflow:From C:\\Users\\pvill\\Anaconda3\\envs\\germsml\\lib\\site-packages\\tensorflow\\python\\ops\\math_ops.py:3066: to_int32 (from tensorflow.python.ops.math_ops) is deprecated and will be removed in a future version.\n",
      "Instructions for updating:\n",
      "Use tf.cast instead.\n",
      "Epoch 1/1\n",
      "25000/25000 [==============================] - 27s 1ms/step - loss: 0.3961 - acc: 0.8021\n"
     ]
    },
    {
     "data": {
      "text/plain": [
       "GridSearchCV(cv='warn', error_score='raise-deprecating',\n",
       "       estimator=<keras.wrappers.scikit_learn.KerasClassifier object at 0x00000179C749A358>,\n",
       "       fit_params=None, iid='warn', n_jobs=2,\n",
       "       param_grid=[{'hidden_layers': [1, 2], 'hidden_layers_size': [64, 125], 'embedding_dim': [32, 64], 'epochs': [1]}],\n",
       "       pre_dispatch='2*n_jobs', refit=True, return_train_score='warn',\n",
       "       scoring=None, verbose=2)"
      ]
     },
     "execution_count": 42,
     "metadata": {},
     "output_type": "execute_result"
    }
   ],
   "source": [
    "nn_gridsearch.fit(x_train, y_train)"
   ]
  },
  {
   "cell_type": "markdown",
   "metadata": {},
   "source": [
    "Once the grid search is complete, we can use all the object's methods as we are used to:"
   ]
  },
  {
   "cell_type": "code",
   "execution_count": 44,
   "metadata": {},
   "outputs": [
    {
     "data": {
      "text/plain": [
       "0.8731199999952316"
      ]
     },
     "execution_count": 44,
     "metadata": {},
     "output_type": "execute_result"
    }
   ],
   "source": [
    "nn_gridsearch.best_score_"
   ]
  },
  {
   "cell_type": "code",
   "execution_count": 45,
   "metadata": {},
   "outputs": [
    {
     "data": {
      "text/plain": [
       "{'embedding_dim': 32,\n",
       " 'epochs': 1,\n",
       " 'hidden_layers': 2,\n",
       " 'hidden_layers_size': 125}"
      ]
     },
     "execution_count": 45,
     "metadata": {},
     "output_type": "execute_result"
    }
   ],
   "source": [
    "nn_gridsearch.best_params_"
   ]
  },
  {
   "cell_type": "markdown",
   "metadata": {},
   "source": [
    "### Q4\n",
    "\n",
    "* In general, what modeling choices are we making? How does this impact our model?\n",
    "* What are your next steps for fine-tuning the model?\n",
    "* What other models might be appropriate for this task?"
   ]
  }
 ],
 "metadata": {
  "kernelspec": {
   "display_name": "Python 3",
   "language": "python",
   "name": "python3"
  },
  "language_info": {
   "codemirror_mode": {
    "name": "ipython",
    "version": 3
   },
   "file_extension": ".py",
   "mimetype": "text/x-python",
   "name": "python",
   "nbconvert_exporter": "python",
   "pygments_lexer": "ipython3",
   "version": "3.7.3"
  }
 },
 "nbformat": 4,
 "nbformat_minor": 2
}
